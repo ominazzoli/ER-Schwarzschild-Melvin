{
 "cells": [
  {
   "cell_type": "markdown",
   "id": "a974c710",
   "metadata": {},
   "source": [
    "# Schwarzschild black-hole immersed in a magnetic field\n",
    "by Olivier Minazzoli and Maxime Wavasseur"
   ]
  },
  {
   "cell_type": "markdown",
   "id": "d7737be3",
   "metadata": {},
   "source": [
    "The action of Entanled Relativiy reads as follows"
   ]
  },
  {
   "cell_type": "markdown",
   "id": "2cc46a11",
   "metadata": {},
   "source": [
    "<!-- $S = \\int \\mathrm{d}^4 x\\sqrt{-g} \\left( \\frac{\\Phi R}{2\\kappa} + \\sqrt{\\Phi} \\mathcal{L}_m \\right)$ -->\n",
    "$S = -\\frac{1}{2}\\int \\mathrm{d}^4 x\\sqrt{-g} \\frac{\\mathcal{L}_m^2}{R}$"
   ]
  },
  {
   "cell_type": "markdown",
   "id": "11318228",
   "metadata": {},
   "source": [
    "The fields equations are"
   ]
  },
  {
   "cell_type": "markdown",
   "id": "2e21150b",
   "metadata": {},
   "source": [
    "<!-- $G_{\\mu\\nu} = \\frac{\\kappa}{\\sqrt{\\Phi}}T_{\\mu\\nu} + \\frac{1}{\\Phi} \\left( \\nabla_\\mu \\nabla_\\nu - g_{\\mu\\nu} \\Box \\right) \\Phi$ -->\n",
    "$G_{\\mu\\nu} = -\\frac{R}{\\mathcal{L}_m}T_{\\mu\\nu} + \\frac{R^2}{\\mathcal{L}_m^2} \\left( \\nabla_\\mu \\nabla_\\nu - g_{\\mu\\nu} \\Box \\right) \\frac{\\mathcal{L}_m^2}{R^2}$,"
   ]
  },
  {
   "cell_type": "markdown",
   "id": "f3da02d8",
   "metadata": {},
   "source": [
    "and $\\nabla_\\sigma \\left(\\frac{\\mathcal{L}}{R} F^{\\mu \\sigma}\\right) = 0$,"
   ]
  },
  {
   "cell_type": "markdown",
   "id": "7ce7c30a",
   "metadata": {},
   "source": [
    "with $\\mathcal{L}_m = -\\frac{1}{2} F_{\\mu\\nu}F^{\\mu\\nu}$."
   ]
  },
  {
   "cell_type": "markdown",
   "id": "e9b1e1c0",
   "metadata": {},
   "source": [
    "The solution for the metric is\n",
    "$$ds^2 = \\Lambda^{\\frac{20}{13}} \\left[\\left(1 - \\frac{r_S}{r}\\right)^{-1}dr^2 + r^2 d\\theta^2 - \\left(1 - \\frac{r_S}{r}\\right) dt^2 \\right] + \\Lambda^{-\\frac{28}{13}} r^2 sin^2(\\theta) d\\varphi^2,$$\n",
    "with\n",
    "$$\\Lambda = 1 + \\frac{13}{48} B^2 r^2 sin^2(\\theta).$$\n",
    "\n",
    "The solution for the electromagnetic potential 4-vector is\n",
    "$$A_\\varphi = \\frac{B}{2 \\Lambda} r^2 \\sin^2(\\theta).$$\n",
    "\n",
    "The solution is such that\n",
    "$$-\\frac{\\mathcal{L}_m}{R} = \\Lambda^{2/13}.$$"
   ]
  },
  {
   "cell_type": "markdown",
   "id": "c6a73b2b",
   "metadata": {},
   "source": [
    "Below, we verify that solution."
   ]
  },
  {
   "cell_type": "code",
   "execution_count": 1,
   "id": "e408afb6",
   "metadata": {},
   "outputs": [
    {
     "data": {
      "text/plain": [
       "'SageMath version 9.5, Release Date: 2022-01-30'"
      ]
     },
     "execution_count": 1,
     "metadata": {},
     "output_type": "execute_result"
    }
   ],
   "source": [
    "version()"
   ]
  },
  {
   "cell_type": "raw",
   "id": "08e67c7a",
   "metadata": {},
   "source": [
    "Our code as been run on 'SageMath version 9.5, Release Date: 2022-01-30'"
   ]
  },
  {
   "cell_type": "code",
   "execution_count": 2,
   "id": "112af488",
   "metadata": {},
   "outputs": [],
   "source": [
    "%display latex"
   ]
  },
  {
   "cell_type": "code",
   "execution_count": 3,
   "id": "1a2f3ec7",
   "metadata": {},
   "outputs": [],
   "source": [
    "from sage.manifolds.operators import dalembertian\n",
    "from sage.manifolds.operators import laplacian\n",
    "from sage.manifolds.operators import grad"
   ]
  },
  {
   "cell_type": "code",
   "execution_count": 4,
   "id": "52764e53",
   "metadata": {},
   "outputs": [
    {
     "name": "stdout",
     "output_type": "stream",
     "text": [
      "4-dimensional Lorentzian manifold M\n"
     ]
    },
    {
     "name": "stderr",
     "output_type": "stream",
     "text": [
      "/usr/lib/python3/dist-packages/scipy/__init__.py:146: UserWarning: A NumPy version >=1.17.3 and <1.25.0 is required for this version of SciPy (detected version 1.26.4\n",
      "  warnings.warn(f\"A NumPy version >={np_minversion} and <{np_maxversion}\"\n"
     ]
    }
   ],
   "source": [
    "M = Manifold(4, 'M', structure='Lorentzian')\n",
    "print(M)"
   ]
  },
  {
   "cell_type": "code",
   "execution_count": 5,
   "id": "0ca83434",
   "metadata": {},
   "outputs": [],
   "source": [
    "X.<t,r,th,ph> = M.chart(r\"t r:(0,+oo) th:(0,pi):\\theta ph:\\varphi\")\n",
    "r_s = var('r_s')\n",
    "assume(r_s>=0)\n",
    "assume(r_s<r) # focus on exterior solution\n",
    "B = var('B')"
   ]
  },
  {
   "cell_type": "markdown",
   "id": "95510fc2",
   "metadata": {},
   "source": [
    "Let's define two functions to verify the properties of a null complex tetrad and to calculate the Weyl scalars."
   ]
  },
  {
   "cell_type": "code",
   "execution_count": 6,
   "id": "0761236b",
   "metadata": {},
   "outputs": [],
   "source": [
    "def tetrad_cond(Ld,Nd,Md,Mbar_d):\n",
    "    for c in [Ld,Nd,Md,Mbar_d]:\n",
    "        if c.tensor_type() == (1, 0):\n",
    "            raise ValueError(\"not a covariant vector\")\n",
    "    L, N, Mr, Mbar = Ld.up(g), Nd.up(g), Md.up(g), Mbar_d.up(g)\n",
    "\n",
    "    l_scalar, n_scalar, m_scalar, mbar_scalar =  (Ld.contract(0, L, 0)).expr(), (Nd.contract(0, N, 0)).expr(),\\\n",
    "                                    (Md.contract(0, Mr, 0)).expr(), (Mbar_d.contract(0, Mbar, 0)).expr()\n",
    "    lm, mn,ln, mbarm = (Ld.contract(0, Mr, 0)).expr(), (Nd.contract(0, Mr, 0)).expr(),\\\n",
    "                                    (Nd.contract(0, L, 0)).expr(), (Mbar_d.contract(0, Mr, 0)).expr()\n",
    "    show(LatexExpr(r'l^{\\mu}l_{\\mu} = '),l_scalar, LatexExpr(r'\\hspace{0.5cm} n^{\\mu}n_{\\mu} = '),\\\n",
    "         n_scalar, LatexExpr(r'\\hspace{0.5cm} m^{\\mu}m_{\\mu} = '),m_scalar, \\\n",
    "         LatexExpr(r'\\hspace{0.5cm} \\bar{m}^{\\mu}\\bar{m}_{\\mu} = '),mbar_scalar)\n",
    "\n",
    "    show(LatexExpr(r'l^{\\mu}m_{\\mu} = '),lm, LatexExpr(r'\\hspace{0.5cm} m^{\\mu}n_{\\mu} = '),\\\n",
    "         mn)\n",
    "    \n",
    "    show(LatexExpr(r'l^{\\mu}n_{\\mu} = '),ln, LatexExpr(r'\\hspace{0.5cm} m^{\\mu}\\bar{m}_{\\mu} = '),mbarm)\n",
    "    \n",
    "    g_t = M.tensor_field(0, 2, name='g_t')\n",
    "    for i in range(4):\n",
    "        g_t[i,i] = -2*Ld[i]*Nd[i] + 2*Md[i]*Mbar_d[i]\n",
    "        g_t[i,i] = g_t[i,i].expr().canonicalize_radical().factor().factor()\n",
    "    show(LatexExpr(r'g_{ab} = (l_{a}n_{b} +l_{b}n_{a} -m_{a}\\bar{m}_{b}-m_{b}\\bar{m}_{a}) \\Rightarrow '), g_t - g == 0)"
   ]
  },
  {
   "cell_type": "code",
   "execution_count": 7,
   "id": "b286fb30",
   "metadata": {},
   "outputs": [],
   "source": [
    "def Weyl_sc(K,L,Mb,MB,C):\n",
    "    \n",
    "    k, l, m, mb = K.up(g), L.up(g), Mb.up(g), MB.up(g)\n",
    "    P0 = k*m*k*m\n",
    "    P1 = k*l*k*m\n",
    "    P2 = k*m*mb*l\n",
    "    P3 = l*k*l*mb\n",
    "    P4 = l*mb*l*mb\n",
    "\n",
    "    l0 = r'\\Psi_{0} = W_{\\alpha\\beta\\gamma\\delta}l^{\\alpha}m^{\\beta}l^{\\gamma}m^{\\delta} = ' \n",
    "    l1 = r'\\Psi_{1} = W_{\\alpha\\beta\\gamma\\delta}l^{\\alpha}n^{\\beta}l^{\\gamma}m^{\\delta} = ' \n",
    "    l2 = r'\\Psi_{2} = W_{\\alpha\\beta\\gamma\\delta}l^{\\alpha}m^{\\beta}\\bar{m}^{\\gamma}n^{\\delta} = ' \n",
    "    l3 = r'\\Psi_{3} = W_{\\alpha\\beta\\gamma\\delta}l^{\\alpha}n^{\\beta}\\bar{m}^{\\gamma}n^{\\delta} = ' \n",
    "    l4 = r'\\Psi_{4} = W_{\\alpha\\beta\\gamma\\delta}n^{\\alpha}\\bar{m}^{\\beta}n^{\\gamma}\\bar{m}^{\\delta} = ' \n",
    "\n",
    "    for (l,p) in zip([l0,l1,l2,l3,l4],[P0,P1,P2,P3,P4]):\n",
    "        W_sc = C['_{abcd}']*p['^{abcd}']\n",
    "        show(LatexExpr(l), W_sc.expr().canonicalize_radical().factor(), \\\n",
    "            LatexExpr(r' \\underset{B = 0}{\\longrightarrow}  '), W_sc.expr().subs(B=0).canonicalize_radical().factor())"
   ]
  },
  {
   "cell_type": "markdown",
   "id": "01454ea5",
   "metadata": {},
   "source": [
    "# I. Definition of the fields"
   ]
  },
  {
   "cell_type": "code",
   "execution_count": 8,
   "id": "5db98d9f",
   "metadata": {},
   "outputs": [],
   "source": [
    "g = M.metric()\n",
    "Lambda(r,th) = 1 + 13 / 48 * B**2 * (r*sin(th))**2\n",
    "\n",
    "g[0,0] = -(1- r_s/r) * Lambda(r,th)**(20 / 13)\n",
    "g[1,1] = 1/(1- r_s/r) * Lambda(r,th)**(20 / 13)\n",
    "g[2,2] = r**2 * Lambda(r,th)**(20 / 13)\n",
    "g[3,3] = (r*sin(th))**2 / Lambda(r,th)**(28 / 13)\n",
    "\n",
    "pot_vec = M.tensor_field(0,1,name='A')\n",
    "pot_vec[0]=0\n",
    "pot_vec[1]=0\n",
    "pot_vec[2]=0\n",
    "pot_vec[3]= B * (r*sin(th))**2 / (2 * Lambda(r)) "
   ]
  },
  {
   "cell_type": "markdown",
   "id": "e2fffd45",
   "metadata": {},
   "source": [
    "The metric and the potential vector read"
   ]
  },
  {
   "cell_type": "code",
   "execution_count": 9,
   "id": "b2e30797",
   "metadata": {},
   "outputs": [
    {
     "data": {
      "text/html": [
       "<html><script type=\"math/tex; mode=display\">\\newcommand{\\Bold}[1]{\\mathbf{#1}}g = {\\left(\\frac{13}{48} \\, B^{2} r^{2} \\sin\\left({\\theta}\\right)^{2} + 1\\right)}^{\\frac{20}{13}} {\\left(\\frac{r_{s}}{r} - 1\\right)} \\mathrm{d} t\\otimes \\mathrm{d} t + \\left( -\\frac{{\\left(\\frac{13}{48} \\, B^{2} r^{2} \\sin\\left({\\theta}\\right)^{2} + 1\\right)}^{\\frac{20}{13}}}{\\frac{r_{s}}{r} - 1} \\right) \\mathrm{d} r\\otimes \\mathrm{d} r + {\\left(\\frac{13}{48} \\, B^{2} r^{2} \\sin\\left({\\theta}\\right)^{2} + 1\\right)}^{\\frac{20}{13}} r^{2} \\mathrm{d} {\\theta}\\otimes \\mathrm{d} {\\theta} + \\frac{r^{2} \\sin\\left({\\theta}\\right)^{2}}{{\\left(\\frac{13}{48} \\, B^{2} r^{2} \\sin\\left({\\theta}\\right)^{2} + 1\\right)}^{\\frac{28}{13}}} \\mathrm{d} {\\varphi}\\otimes \\mathrm{d} {\\varphi}</script></html>"
      ],
      "text/latex": [
       "$$\\newcommand{\\Bold}[1]{\\mathbf{#1}}g = {\\left(\\frac{13}{48} \\, B^{2} r^{2} \\sin\\left({\\theta}\\right)^{2} + 1\\right)}^{\\frac{20}{13}} {\\left(\\frac{r_{s}}{r} - 1\\right)} \\mathrm{d} t\\otimes \\mathrm{d} t + \\left( -\\frac{{\\left(\\frac{13}{48} \\, B^{2} r^{2} \\sin\\left({\\theta}\\right)^{2} + 1\\right)}^{\\frac{20}{13}}}{\\frac{r_{s}}{r} - 1} \\right) \\mathrm{d} r\\otimes \\mathrm{d} r + {\\left(\\frac{13}{48} \\, B^{2} r^{2} \\sin\\left({\\theta}\\right)^{2} + 1\\right)}^{\\frac{20}{13}} r^{2} \\mathrm{d} {\\theta}\\otimes \\mathrm{d} {\\theta} + \\frac{r^{2} \\sin\\left({\\theta}\\right)^{2}}{{\\left(\\frac{13}{48} \\, B^{2} r^{2} \\sin\\left({\\theta}\\right)^{2} + 1\\right)}^{\\frac{28}{13}}} \\mathrm{d} {\\varphi}\\otimes \\mathrm{d} {\\varphi}$$"
      ],
      "text/plain": [
       "g = (13/48*B^2*r^2*sin(th)^2 + 1)^(20/13)*(r_s/r - 1) dt⊗dt - (13/48*B^2*r^2*sin(th)^2 + 1)^(20/13)/(r_s/r - 1) dr⊗dr + (13/48*B^2*r^2*sin(th)^2 + 1)^(20/13)*r^2 dth⊗dth + r^2*sin(th)^2/(13/48*B^2*r^2*sin(th)^2 + 1)^(28/13) dph⊗dph"
      ]
     },
     "metadata": {},
     "output_type": "display_data"
    },
    {
     "data": {
      "text/html": [
       "<html><script type=\"math/tex; mode=display\">\\newcommand{\\Bold}[1]{\\mathbf{#1}}A = \\left( \\frac{24 \\, B r^{2} \\sin\\left({\\theta}\\right)^{2}}{13 \\, B^{2} r^{2} \\sin\\left({\\theta}\\right)^{2} + 48} \\right) \\mathrm{d} {\\varphi}</script></html>"
      ],
      "text/latex": [
       "$$\\newcommand{\\Bold}[1]{\\mathbf{#1}}A = \\left( \\frac{24 \\, B r^{2} \\sin\\left({\\theta}\\right)^{2}}{13 \\, B^{2} r^{2} \\sin\\left({\\theta}\\right)^{2} + 48} \\right) \\mathrm{d} {\\varphi}$$"
      ],
      "text/plain": [
       "A = 24*B*r^2*sin(th)^2/(13*B^2*r^2*sin(th)^2 + 48) dph"
      ]
     },
     "metadata": {},
     "output_type": "display_data"
    }
   ],
   "source": [
    "show(g.display())\n",
    "show(pot_vec.display())"
   ]
  },
  {
   "cell_type": "markdown",
   "id": "3916ada3",
   "metadata": {},
   "source": [
    "Let's define the covariant derivative"
   ]
  },
  {
   "cell_type": "code",
   "execution_count": 10,
   "id": "be1097ba",
   "metadata": {},
   "outputs": [],
   "source": [
    "nab = g.connection() "
   ]
  },
  {
   "cell_type": "markdown",
   "id": "c0337a31",
   "metadata": {},
   "source": [
    "and the associated curvature quantities"
   ]
  },
  {
   "cell_type": "code",
   "execution_count": 11,
   "id": "b434993a",
   "metadata": {},
   "outputs": [],
   "source": [
    "Ric = g.ricci() #Ricci tensor\n",
    "R = g.ricci_scalar() #Ricci scalar\n",
    "G = Ric-R*g/2 #Einstein tensor"
   ]
  },
  {
   "cell_type": "markdown",
   "id": "8b731463",
   "metadata": {},
   "source": [
    "# II. Petrov classification"
   ]
  },
  {
   "cell_type": "code",
   "execution_count": 12,
   "id": "82876ef2",
   "metadata": {},
   "outputs": [],
   "source": [
    "C = (g.weyl()).down(g)"
   ]
  },
  {
   "cell_type": "markdown",
   "id": "ede934c6",
   "metadata": {},
   "source": [
    "Let's first define the null tetrad components"
   ]
  },
  {
   "cell_type": "code",
   "execution_count": 13,
   "id": "736dc6c3",
   "metadata": {},
   "outputs": [],
   "source": [
    "K = M.one_form({X.frame(): [sqrt(-g[0,0]/2), sqrt(g[1,1]/2), 0, 0]})\n",
    "L = M.one_form({X.frame(): [sqrt(-g[0,0]/2), -sqrt(g[1,1]/2), 0, 0]})\n",
    "Mb = M.one_form({X.frame(): [0, 0, sqrt(g[2,2]/2), i*sqrt(g[3,3]/2)]})\n",
    "MB = M.one_form({X.frame(): [0, 0, sqrt(g[2,2]/2), -i*sqrt(g[3,3]/2)]})"
   ]
  },
  {
   "cell_type": "markdown",
   "id": "1194b19c",
   "metadata": {},
   "source": [
    "Now we check that the tetrad components satisfy the orthogonality and normalization conditions and are related to the metric."
   ]
  },
  {
   "cell_type": "code",
   "execution_count": 14,
   "id": "dcca7534",
   "metadata": {},
   "outputs": [
    {
     "data": {
      "text/html": [
       "<html><script type=\"math/tex; mode=display\">\\newcommand{\\Bold}[1]{\\mathbf{#1}}l^{\\mu}l_{\\mu} =  0 \\hspace{0.5cm} n^{\\mu}n_{\\mu} =  0 \\hspace{0.5cm} m^{\\mu}m_{\\mu} =  0 \\hspace{0.5cm} \\bar{m}^{\\mu}\\bar{m}_{\\mu} =  0</script></html>"
      ],
      "text/latex": [
       "$$\\newcommand{\\Bold}[1]{\\mathbf{#1}}l^{\\mu}l_{\\mu} =  0 \\hspace{0.5cm} n^{\\mu}n_{\\mu} =  0 \\hspace{0.5cm} m^{\\mu}m_{\\mu} =  0 \\hspace{0.5cm} \\bar{m}^{\\mu}\\bar{m}_{\\mu} =  0$$"
      ],
      "text/plain": [
       "l^{\\mu}l_{\\mu} =  0 \\hspace{0.5cm} n^{\\mu}n_{\\mu} =  0 \\hspace{0.5cm} m^{\\mu}m_{\\mu} =  0 \\hspace{0.5cm} \\bar{m}^{\\mu}\\bar{m}_{\\mu} =  0"
      ]
     },
     "metadata": {},
     "output_type": "display_data"
    },
    {
     "data": {
      "text/html": [
       "<html><script type=\"math/tex; mode=display\">\\newcommand{\\Bold}[1]{\\mathbf{#1}}l^{\\mu}m_{\\mu} =  0 \\hspace{0.5cm} m^{\\mu}n_{\\mu} =  0</script></html>"
      ],
      "text/latex": [
       "$$\\newcommand{\\Bold}[1]{\\mathbf{#1}}l^{\\mu}m_{\\mu} =  0 \\hspace{0.5cm} m^{\\mu}n_{\\mu} =  0$$"
      ],
      "text/plain": [
       "l^{\\mu}m_{\\mu} =  0 \\hspace{0.5cm} m^{\\mu}n_{\\mu} =  0"
      ]
     },
     "metadata": {},
     "output_type": "display_data"
    },
    {
     "data": {
      "text/html": [
       "<html><script type=\"math/tex; mode=display\">\\newcommand{\\Bold}[1]{\\mathbf{#1}}l^{\\mu}n_{\\mu} =  -1 \\hspace{0.5cm} m^{\\mu}\\bar{m}_{\\mu} =  1</script></html>"
      ],
      "text/latex": [
       "$$\\newcommand{\\Bold}[1]{\\mathbf{#1}}l^{\\mu}n_{\\mu} =  -1 \\hspace{0.5cm} m^{\\mu}\\bar{m}_{\\mu} =  1$$"
      ],
      "text/plain": [
       "l^{\\mu}n_{\\mu} =  -1 \\hspace{0.5cm} m^{\\mu}\\bar{m}_{\\mu} =  1"
      ]
     },
     "metadata": {},
     "output_type": "display_data"
    },
    {
     "data": {
      "text/html": [
       "<html><script type=\"math/tex; mode=display\">\\newcommand{\\Bold}[1]{\\mathbf{#1}}g_{ab} = (l_{a}n_{b} +l_{b}n_{a} -m_{a}\\bar{m}_{b}-m_{b}\\bar{m}_{a}) \\Rightarrow  \\mathrm{True}</script></html>"
      ],
      "text/latex": [
       "$$\\newcommand{\\Bold}[1]{\\mathbf{#1}}g_{ab} = (l_{a}n_{b} +l_{b}n_{a} -m_{a}\\bar{m}_{b}-m_{b}\\bar{m}_{a}) \\Rightarrow  \\mathrm{True}$$"
      ],
      "text/plain": [
       "g_{ab} = (l_{a}n_{b} +l_{b}n_{a} -m_{a}\\bar{m}_{b}-m_{b}\\bar{m}_{a}) \\Rightarrow  True"
      ]
     },
     "metadata": {},
     "output_type": "display_data"
    }
   ],
   "source": [
    "tetrad_cond(K,L,Mb,MB)"
   ]
  },
  {
   "cell_type": "code",
   "execution_count": 15,
   "id": "1ded3af3",
   "metadata": {
    "scrolled": true
   },
   "outputs": [
    {
     "data": {
      "text/html": [
       "<html><script type=\"math/tex; mode=display\">\\newcommand{\\Bold}[1]{\\mathbf{#1}}\\Psi_{0} = W_{\\alpha\\beta\\gamma\\delta}l^{\\alpha}m^{\\beta}l^{\\gamma}m^{\\delta} =  \\frac{2304 \\cdot 3^{\\frac{7}{13}} 2^{\\frac{2}{13}} {\\left(35 \\, B^{2} r^{2} \\sin\\left({\\theta}\\right)^{2} - 144\\right)} B^{2} {\\left(r - r_{s}\\right)} \\sin\\left({\\theta}\\right)^{2}}{{\\left(13 \\, B^{2} r^{2} \\sin\\left({\\theta}\\right)^{2} + 48\\right)}^{\\frac{46}{13}} r}  \\underset{B = 0}{\\longrightarrow}   0</script></html>"
      ],
      "text/latex": [
       "$$\\newcommand{\\Bold}[1]{\\mathbf{#1}}\\Psi_{0} = W_{\\alpha\\beta\\gamma\\delta}l^{\\alpha}m^{\\beta}l^{\\gamma}m^{\\delta} =  \\frac{2304 \\cdot 3^{\\frac{7}{13}} 2^{\\frac{2}{13}} {\\left(35 \\, B^{2} r^{2} \\sin\\left({\\theta}\\right)^{2} - 144\\right)} B^{2} {\\left(r - r_{s}\\right)} \\sin\\left({\\theta}\\right)^{2}}{{\\left(13 \\, B^{2} r^{2} \\sin\\left({\\theta}\\right)^{2} + 48\\right)}^{\\frac{46}{13}} r}  \\underset{B = 0}{\\longrightarrow}   0$$"
      ],
      "text/plain": [
       "\\Psi_{0} = W_{\\alpha\\beta\\gamma\\delta}l^{\\alpha}m^{\\beta}l^{\\gamma}m^{\\delta} =  2304*3^(7/13)*2^(2/13)*(35*B^2*r^2*sin(th)^2 - 144)*B^2*(r - r_s)*sin(th)^2/((13*B^2*r^2*sin(th)^2 + 48)^(46/13)*r)  \\underset{B = 0}{\\longrightarrow}   0"
      ]
     },
     "metadata": {},
     "output_type": "display_data"
    },
    {
     "data": {
      "text/html": [
       "<html><script type=\"math/tex; mode=display\">\\newcommand{\\Bold}[1]{\\mathbf{#1}}\\Psi_{1} = W_{\\alpha\\beta\\gamma\\delta}l^{\\alpha}n^{\\beta}l^{\\gamma}m^{\\delta} =  \\frac{2304 \\cdot 3^{\\frac{7}{13}} 2^{\\frac{2}{13}} {\\left(35 \\, B^{2} r^{2} \\sin\\left({\\theta}\\right)^{2} - 144\\right)} B^{2} \\sqrt{r - r_{s}} \\cos\\left({\\theta}\\right) \\sin\\left({\\theta}\\right)}{{\\left(13 \\, B^{2} r^{2} \\sin\\left({\\theta}\\right)^{2} + 48\\right)}^{\\frac{46}{13}} \\sqrt{r}}  \\underset{B = 0}{\\longrightarrow}   0</script></html>"
      ],
      "text/latex": [
       "$$\\newcommand{\\Bold}[1]{\\mathbf{#1}}\\Psi_{1} = W_{\\alpha\\beta\\gamma\\delta}l^{\\alpha}n^{\\beta}l^{\\gamma}m^{\\delta} =  \\frac{2304 \\cdot 3^{\\frac{7}{13}} 2^{\\frac{2}{13}} {\\left(35 \\, B^{2} r^{2} \\sin\\left({\\theta}\\right)^{2} - 144\\right)} B^{2} \\sqrt{r - r_{s}} \\cos\\left({\\theta}\\right) \\sin\\left({\\theta}\\right)}{{\\left(13 \\, B^{2} r^{2} \\sin\\left({\\theta}\\right)^{2} + 48\\right)}^{\\frac{46}{13}} \\sqrt{r}}  \\underset{B = 0}{\\longrightarrow}   0$$"
      ],
      "text/plain": [
       "\\Psi_{1} = W_{\\alpha\\beta\\gamma\\delta}l^{\\alpha}n^{\\beta}l^{\\gamma}m^{\\delta} =  2304*3^(7/13)*2^(2/13)*(35*B^2*r^2*sin(th)^2 - 144)*B^2*sqrt(r - r_s)*cos(th)*sin(th)/((13*B^2*r^2*sin(th)^2 + 48)^(46/13)*sqrt(r))  \\underset{B = 0}{\\longrightarrow}   0"
      ]
     },
     "metadata": {},
     "output_type": "display_data"
    },
    {
     "data": {
      "text/html": [
       "<html><script type=\"math/tex; mode=display\">\\newcommand{\\Bold}[1]{\\mathbf{#1}}\\Psi_{2} = W_{\\alpha\\beta\\gamma\\delta}l^{\\alpha}m^{\\beta}\\bar{m}^{\\gamma}n^{\\delta} =  -\\frac{96 \\cdot 3^{\\frac{7}{13}} 2^{\\frac{2}{13}} {\\left(840 \\, B^{4} r^{5} \\sin\\left({\\theta}\\right)^{4} - 423 \\, B^{4} r^{4} r_{s} \\sin\\left({\\theta}\\right)^{4} - 560 \\, B^{4} r^{5} \\sin\\left({\\theta}\\right)^{2} - 3456 \\, B^{2} r^{3} \\sin\\left({\\theta}\\right)^{2} + 1248 \\, B^{2} r^{2} r_{s} \\sin\\left({\\theta}\\right)^{2} + 2304 \\, B^{2} r^{3} + 2304 \\, r_{s}\\right)}}{{\\left(13 \\, B^{2} r^{2} \\sin\\left({\\theta}\\right)^{2} + 48\\right)}^{\\frac{46}{13}} r^{3}}  \\underset{B = 0}{\\longrightarrow}   -\\frac{r_{s}}{2 \\, r^{3}}</script></html>"
      ],
      "text/latex": [
       "$$\\newcommand{\\Bold}[1]{\\mathbf{#1}}\\Psi_{2} = W_{\\alpha\\beta\\gamma\\delta}l^{\\alpha}m^{\\beta}\\bar{m}^{\\gamma}n^{\\delta} =  -\\frac{96 \\cdot 3^{\\frac{7}{13}} 2^{\\frac{2}{13}} {\\left(840 \\, B^{4} r^{5} \\sin\\left({\\theta}\\right)^{4} - 423 \\, B^{4} r^{4} r_{s} \\sin\\left({\\theta}\\right)^{4} - 560 \\, B^{4} r^{5} \\sin\\left({\\theta}\\right)^{2} - 3456 \\, B^{2} r^{3} \\sin\\left({\\theta}\\right)^{2} + 1248 \\, B^{2} r^{2} r_{s} \\sin\\left({\\theta}\\right)^{2} + 2304 \\, B^{2} r^{3} + 2304 \\, r_{s}\\right)}}{{\\left(13 \\, B^{2} r^{2} \\sin\\left({\\theta}\\right)^{2} + 48\\right)}^{\\frac{46}{13}} r^{3}}  \\underset{B = 0}{\\longrightarrow}   -\\frac{r_{s}}{2 \\, r^{3}}$$"
      ],
      "text/plain": [
       "\\Psi_{2} = W_{\\alpha\\beta\\gamma\\delta}l^{\\alpha}m^{\\beta}\\bar{m}^{\\gamma}n^{\\delta} =  -96*3^(7/13)*2^(2/13)*(840*B^4*r^5*sin(th)^4 - 423*B^4*r^4*r_s*sin(th)^4 - 560*B^4*r^5*sin(th)^2 - 3456*B^2*r^3*sin(th)^2 + 1248*B^2*r^2*r_s*sin(th)^2 + 2304*B^2*r^3 + 2304*r_s)/((13*B^2*r^2*sin(th)^2 + 48)^(46/13)*r^3)  \\underset{B = 0}{\\longrightarrow}   -1/2*r_s/r^3"
      ]
     },
     "metadata": {},
     "output_type": "display_data"
    },
    {
     "data": {
      "text/html": [
       "<html><script type=\"math/tex; mode=display\">\\newcommand{\\Bold}[1]{\\mathbf{#1}}\\Psi_{3} = W_{\\alpha\\beta\\gamma\\delta}l^{\\alpha}n^{\\beta}\\bar{m}^{\\gamma}n^{\\delta} =  -\\frac{2304 \\cdot 3^{\\frac{7}{13}} 2^{\\frac{2}{13}} {\\left(35 \\, B^{2} r^{2} \\sin\\left({\\theta}\\right)^{2} - 144\\right)} B^{2} \\sqrt{r - r_{s}} \\cos\\left({\\theta}\\right) \\sin\\left({\\theta}\\right)}{{\\left(13 \\, B^{2} r^{2} \\sin\\left({\\theta}\\right)^{2} + 48\\right)}^{\\frac{46}{13}} \\sqrt{r}}  \\underset{B = 0}{\\longrightarrow}   0</script></html>"
      ],
      "text/latex": [
       "$$\\newcommand{\\Bold}[1]{\\mathbf{#1}}\\Psi_{3} = W_{\\alpha\\beta\\gamma\\delta}l^{\\alpha}n^{\\beta}\\bar{m}^{\\gamma}n^{\\delta} =  -\\frac{2304 \\cdot 3^{\\frac{7}{13}} 2^{\\frac{2}{13}} {\\left(35 \\, B^{2} r^{2} \\sin\\left({\\theta}\\right)^{2} - 144\\right)} B^{2} \\sqrt{r - r_{s}} \\cos\\left({\\theta}\\right) \\sin\\left({\\theta}\\right)}{{\\left(13 \\, B^{2} r^{2} \\sin\\left({\\theta}\\right)^{2} + 48\\right)}^{\\frac{46}{13}} \\sqrt{r}}  \\underset{B = 0}{\\longrightarrow}   0$$"
      ],
      "text/plain": [
       "\\Psi_{3} = W_{\\alpha\\beta\\gamma\\delta}l^{\\alpha}n^{\\beta}\\bar{m}^{\\gamma}n^{\\delta} =  -2304*3^(7/13)*2^(2/13)*(35*B^2*r^2*sin(th)^2 - 144)*B^2*sqrt(r - r_s)*cos(th)*sin(th)/((13*B^2*r^2*sin(th)^2 + 48)^(46/13)*sqrt(r))  \\underset{B = 0}{\\longrightarrow}   0"
      ]
     },
     "metadata": {},
     "output_type": "display_data"
    },
    {
     "data": {
      "text/html": [
       "<html><script type=\"math/tex; mode=display\">\\newcommand{\\Bold}[1]{\\mathbf{#1}}\\Psi_{4} = W_{\\alpha\\beta\\gamma\\delta}n^{\\alpha}\\bar{m}^{\\beta}n^{\\gamma}\\bar{m}^{\\delta} =  \\frac{2304 \\cdot 3^{\\frac{7}{13}} 2^{\\frac{2}{13}} {\\left(35 \\, B^{2} r^{2} \\sin\\left({\\theta}\\right)^{2} - 144\\right)} B^{2} {\\left(r - r_{s}\\right)} \\sin\\left({\\theta}\\right)^{2}}{{\\left(13 \\, B^{2} r^{2} \\sin\\left({\\theta}\\right)^{2} + 48\\right)}^{\\frac{46}{13}} r}  \\underset{B = 0}{\\longrightarrow}   0</script></html>"
      ],
      "text/latex": [
       "$$\\newcommand{\\Bold}[1]{\\mathbf{#1}}\\Psi_{4} = W_{\\alpha\\beta\\gamma\\delta}n^{\\alpha}\\bar{m}^{\\beta}n^{\\gamma}\\bar{m}^{\\delta} =  \\frac{2304 \\cdot 3^{\\frac{7}{13}} 2^{\\frac{2}{13}} {\\left(35 \\, B^{2} r^{2} \\sin\\left({\\theta}\\right)^{2} - 144\\right)} B^{2} {\\left(r - r_{s}\\right)} \\sin\\left({\\theta}\\right)^{2}}{{\\left(13 \\, B^{2} r^{2} \\sin\\left({\\theta}\\right)^{2} + 48\\right)}^{\\frac{46}{13}} r}  \\underset{B = 0}{\\longrightarrow}   0$$"
      ],
      "text/plain": [
       "\\Psi_{4} = W_{\\alpha\\beta\\gamma\\delta}n^{\\alpha}\\bar{m}^{\\beta}n^{\\gamma}\\bar{m}^{\\delta} =  2304*3^(7/13)*2^(2/13)*(35*B^2*r^2*sin(th)^2 - 144)*B^2*(r - r_s)*sin(th)^2/((13*B^2*r^2*sin(th)^2 + 48)^(46/13)*r)  \\underset{B = 0}{\\longrightarrow}   0"
      ]
     },
     "metadata": {},
     "output_type": "display_data"
    }
   ],
   "source": [
    "Weyl_sc(K,L,Mb,MB,C)"
   ]
  },
  {
   "cell_type": "markdown",
   "id": "5dada764",
   "metadata": {},
   "source": [
    "### Type D in the case B=0"
   ]
  },
  {
   "cell_type": "markdown",
   "id": "fc69b5eb",
   "metadata": {},
   "source": [
    "# III. Electromagnetic field equation"
   ]
  },
  {
   "cell_type": "code",
   "execution_count": 16,
   "id": "a646ecd9",
   "metadata": {},
   "outputs": [],
   "source": [
    "DF = nab(pot_vec) "
   ]
  },
  {
   "cell_type": "code",
   "execution_count": 17,
   "id": "25b6d3d4",
   "metadata": {},
   "outputs": [
    {
     "data": {
      "text/html": [
       "<html><script type=\"math/tex; mode=display\">\\newcommand{\\Bold}[1]{\\mathbf{#1}}F_{\\mu\\nu} = \\left( -\\frac{2304 \\, B r \\sin\\left({\\theta}\\right)^{2}}{169 \\, B^{4} r^{4} \\sin\\left({\\theta}\\right)^{4} + 1248 \\, B^{2} r^{2} \\sin\\left({\\theta}\\right)^{2} + 2304} \\right) \\mathrm{d} r\\otimes \\mathrm{d} {\\varphi} + \\left( -\\frac{2304 \\, B r^{2} \\cos\\left({\\theta}\\right) \\sin\\left({\\theta}\\right)}{169 \\, B^{4} r^{4} \\sin\\left({\\theta}\\right)^{4} + 1248 \\, B^{2} r^{2} \\sin\\left({\\theta}\\right)^{2} + 2304} \\right) \\mathrm{d} {\\theta}\\otimes \\mathrm{d} {\\varphi} + \\left( \\frac{2304 \\, B r \\sin\\left({\\theta}\\right)^{2}}{169 \\, B^{4} r^{4} \\sin\\left({\\theta}\\right)^{4} + 1248 \\, B^{2} r^{2} \\sin\\left({\\theta}\\right)^{2} + 2304} \\right) \\mathrm{d} {\\varphi}\\otimes \\mathrm{d} r + \\left( \\frac{2304 \\, B r^{2} \\cos\\left({\\theta}\\right) \\sin\\left({\\theta}\\right)}{169 \\, B^{4} r^{4} \\sin\\left({\\theta}\\right)^{4} + 1248 \\, B^{2} r^{2} \\sin\\left({\\theta}\\right)^{2} + 2304} \\right) \\mathrm{d} {\\varphi}\\otimes \\mathrm{d} {\\theta}</script></html>"
      ],
      "text/latex": [
       "$$\\newcommand{\\Bold}[1]{\\mathbf{#1}}F_{\\mu\\nu} = \\left( -\\frac{2304 \\, B r \\sin\\left({\\theta}\\right)^{2}}{169 \\, B^{4} r^{4} \\sin\\left({\\theta}\\right)^{4} + 1248 \\, B^{2} r^{2} \\sin\\left({\\theta}\\right)^{2} + 2304} \\right) \\mathrm{d} r\\otimes \\mathrm{d} {\\varphi} + \\left( -\\frac{2304 \\, B r^{2} \\cos\\left({\\theta}\\right) \\sin\\left({\\theta}\\right)}{169 \\, B^{4} r^{4} \\sin\\left({\\theta}\\right)^{4} + 1248 \\, B^{2} r^{2} \\sin\\left({\\theta}\\right)^{2} + 2304} \\right) \\mathrm{d} {\\theta}\\otimes \\mathrm{d} {\\varphi} + \\left( \\frac{2304 \\, B r \\sin\\left({\\theta}\\right)^{2}}{169 \\, B^{4} r^{4} \\sin\\left({\\theta}\\right)^{4} + 1248 \\, B^{2} r^{2} \\sin\\left({\\theta}\\right)^{2} + 2304} \\right) \\mathrm{d} {\\varphi}\\otimes \\mathrm{d} r + \\left( \\frac{2304 \\, B r^{2} \\cos\\left({\\theta}\\right) \\sin\\left({\\theta}\\right)}{169 \\, B^{4} r^{4} \\sin\\left({\\theta}\\right)^{4} + 1248 \\, B^{2} r^{2} \\sin\\left({\\theta}\\right)^{2} + 2304} \\right) \\mathrm{d} {\\varphi}\\otimes \\mathrm{d} {\\theta}$$"
      ],
      "text/plain": [
       "F_{\\mu\\nu} = -2304*B*r*sin(th)^2/(169*B^4*r^4*sin(th)^4 + 1248*B^2*r^2*sin(th)^2 + 2304) dr⊗dph - 2304*B*r^2*cos(th)*sin(th)/(169*B^4*r^4*sin(th)^4 + 1248*B^2*r^2*sin(th)^2 + 2304) dth⊗dph + 2304*B*r*sin(th)^2/(169*B^4*r^4*sin(th)^4 + 1248*B^2*r^2*sin(th)^2 + 2304) dph⊗dr + 2304*B*r^2*cos(th)*sin(th)/(169*B^4*r^4*sin(th)^4 + 1248*B^2*r^2*sin(th)^2 + 2304) dph⊗dth"
      ]
     },
     "metadata": {},
     "output_type": "display_data"
    }
   ],
   "source": [
    "F=(DF['_ij']-DF['_ji'])._tensor\n",
    "Fuu = F.up(g)\n",
    "show(LatexExpr(r'F_{\\mu\\nu} ='), F.display())"
   ]
  },
  {
   "cell_type": "code",
   "execution_count": 18,
   "id": "048ff5e3",
   "metadata": {},
   "outputs": [
    {
     "data": {
      "text/html": [
       "<html><script type=\"math/tex; mode=display\">\\newcommand{\\Bold}[1]{\\mathbf{#1}}L_{m} = \\frac{221184 \\cdot 3^{\\frac{5}{13}} 2^{\\frac{7}{13}} {\\left(r_{s} \\sin\\left({\\theta}\\right)^{2} - r\\right)} B^{2}}{{\\left(13 \\, B^{2} r^{2} \\sin\\left({\\theta}\\right)^{2} + 48\\right)}^{\\frac{44}{13}} r}</script></html>"
      ],
      "text/latex": [
       "$$\\newcommand{\\Bold}[1]{\\mathbf{#1}}L_{m} = \\frac{221184 \\cdot 3^{\\frac{5}{13}} 2^{\\frac{7}{13}} {\\left(r_{s} \\sin\\left({\\theta}\\right)^{2} - r\\right)} B^{2}}{{\\left(13 \\, B^{2} r^{2} \\sin\\left({\\theta}\\right)^{2} + 48\\right)}^{\\frac{44}{13}} r}$$"
      ],
      "text/plain": [
       "L_{m} = 221184*3^(5/13)*2^(7/13)*(r_s*sin(th)^2 - r)*B^2/((13*B^2*r^2*sin(th)^2 + 48)^(44/13)*r)"
      ]
     },
     "metadata": {},
     "output_type": "display_data"
    }
   ],
   "source": [
    "Lm = -F['_ij']*F.up(g)['^ij']/2\n",
    "show(LatexExpr(r'L_{m} ='), Lm.expr().canonicalize_radical().factor())"
   ]
  },
  {
   "cell_type": "markdown",
   "id": "3d21a412",
   "metadata": {},
   "source": [
    "<!-- Let's verify the Maxwell equations $\\triangledown\\left(\\sqrt{\\phi}F_{\\mu\\nu}\\right)=0$  -->\n",
    "Let's verify the Maxwell equations $\\nabla_\\sigma \\left(\\frac{\\mathcal{L}}{R} F^{\\mu \\sigma}\\right) = 0$"
   ]
  },
  {
   "cell_type": "code",
   "execution_count": 19,
   "id": "f494dd08",
   "metadata": {},
   "outputs": [
    {
     "data": {
      "text/html": [
       "<html><script type=\"math/tex; mode=display\">\\newcommand{\\Bold}[1]{\\mathbf{#1}}\\mathrm{True}</script></html>"
      ],
      "text/latex": [
       "$$\\newcommand{\\Bold}[1]{\\mathbf{#1}}\\mathrm{True}$$"
      ],
      "text/plain": [
       "True"
      ]
     },
     "execution_count": 19,
     "metadata": {},
     "output_type": "execute_result"
    }
   ],
   "source": [
    "N = nab(Lm / R *F.up(g))['_i^ij']\n",
    "N == 0"
   ]
  },
  {
   "cell_type": "markdown",
   "id": "11f36f26",
   "metadata": {},
   "source": [
    "## III.1. Properties"
   ]
  },
  {
   "cell_type": "code",
   "execution_count": 20,
   "id": "83e9ba3c",
   "metadata": {},
   "outputs": [
    {
     "data": {
      "text/html": [
       "<html><script type=\"math/tex; mode=display\">\\newcommand{\\Bold}[1]{\\mathbf{#1}}L_{m}\\Lambda^{44/13} = \\frac{{\\left(r_{s} \\sin\\left({\\theta}\\right)^{2} - r\\right)} B^{2}}{r}</script></html>"
      ],
      "text/latex": [
       "$$\\newcommand{\\Bold}[1]{\\mathbf{#1}}L_{m}\\Lambda^{44/13} = \\frac{{\\left(r_{s} \\sin\\left({\\theta}\\right)^{2} - r\\right)} B^{2}}{r}$$"
      ],
      "text/plain": [
       "L_{m}\\Lambda^{44/13} = (r_s*sin(th)^2 - r)*B^2/r"
      ]
     },
     "metadata": {},
     "output_type": "display_data"
    },
    {
     "data": {
      "text/html": [
       "<html><script type=\"math/tex; mode=display\">\\newcommand{\\Bold}[1]{\\mathbf{#1}}\\Rightarrow L_{m} = \\frac{{\\left(r_{s} \\sin\\left({\\theta}\\right)^{2} - r\\right)} B^{2}}{\\Lambda^{44/13}r}</script></html>"
      ],
      "text/latex": [
       "$$\\newcommand{\\Bold}[1]{\\mathbf{#1}}\\Rightarrow L_{m} = \\frac{{\\left(r_{s} \\sin\\left({\\theta}\\right)^{2} - r\\right)} B^{2}}{\\Lambda^{44/13}r}$$"
      ],
      "text/plain": [
       "\\Rightarrow L_{m} = \\frac{{\\left(r_{s} \\sin\\left({\\theta}\\right)^{2} - r\\right)} B^{2}}{\\Lambda^{44/13}r}"
      ]
     },
     "metadata": {},
     "output_type": "display_data"
    },
    {
     "data": {
      "text/html": [
       "<html><script type=\"math/tex; mode=display\">\\newcommand{\\Bold}[1]{\\mathbf{#1}}\\lim_{\\theta \\to 0} \\Lambda(r,\\theta) =1 \\Rightarrow  \\lim_{\\theta \\to 0} L_{m} =  -B^{2}</script></html>"
      ],
      "text/latex": [
       "$$\\newcommand{\\Bold}[1]{\\mathbf{#1}}\\lim_{\\theta \\to 0} \\Lambda(r,\\theta) =1 \\Rightarrow  \\lim_{\\theta \\to 0} L_{m} =  -B^{2}$$"
      ],
      "text/plain": [
       "\\lim_{\\theta \\to 0} \\Lambda(r,\\theta) =1 \\Rightarrow  \\lim_{\\theta \\to 0} L_{m} =  -B^2"
      ]
     },
     "metadata": {},
     "output_type": "display_data"
    }
   ],
   "source": [
    "show(LatexExpr(r'L_{m}\\Lambda^{44/13} ='), (Lm*Lambda**(44/13)).expr().canonicalize_radical().factor())\n",
    "show(LatexExpr(r'\\Rightarrow L_{m} = \\frac{{\\left(r_{s} \\sin\\left({\\theta}\\right)^{2} - r\\right)} B^{2}}{\\Lambda^{44/13}r}'))\n",
    "show(LatexExpr(r'\\lim_{\\theta \\to 0} \\Lambda(r,\\theta) =1 \\Rightarrow  \\lim_{\\theta \\to 0} L_{m} = '), Lm.expr().subs(th=0).canonicalize_radical())"
   ]
  },
  {
   "cell_type": "markdown",
   "id": "38690311",
   "metadata": {},
   "source": [
    "We can check that $\\frac{221184\\times3^{5/13}\\times2^{7/13}}{48^{4/13}}=1$"
   ]
  },
  {
   "cell_type": "code",
   "execution_count": 21,
   "id": "8a80d928",
   "metadata": {},
   "outputs": [
    {
     "data": {
      "text/html": [
       "<html><script type=\"math/tex; mode=display\">\\newcommand{\\Bold}[1]{\\mathbf{#1}}\\mathrm{True}</script></html>"
      ],
      "text/latex": [
       "$$\\newcommand{\\Bold}[1]{\\mathbf{#1}}\\mathrm{True}$$"
      ],
      "text/plain": [
       "True"
      ]
     },
     "execution_count": 21,
     "metadata": {},
     "output_type": "execute_result"
    }
   ],
   "source": [
    "((221184*3**(5/13)*2**(7/13)/48**(44/13)).canonicalize_radical() - 1).is_zero()"
   ]
  },
  {
   "cell_type": "code",
   "execution_count": 22,
   "id": "eee6a417",
   "metadata": {},
   "outputs": [
    {
     "data": {
      "text/html": [
       "<html><script type=\"math/tex; mode=display\">\\newcommand{\\Bold}[1]{\\mathbf{#1}}\\epsilon_{c} = \\mathrm{d} r\\otimes \\mathrm{d} {\\theta}\\otimes \\mathrm{d} {\\varphi}-\\mathrm{d} r\\otimes \\mathrm{d} {\\varphi}\\otimes \\mathrm{d} {\\theta}-\\mathrm{d} {\\theta}\\otimes \\mathrm{d} r\\otimes \\mathrm{d} {\\varphi}+\\mathrm{d} {\\theta}\\otimes \\mathrm{d} {\\varphi}\\otimes \\mathrm{d} r+\\mathrm{d} {\\varphi}\\otimes \\mathrm{d} r\\otimes \\mathrm{d} {\\theta}-\\mathrm{d} {\\varphi}\\otimes \\mathrm{d} {\\theta}\\otimes \\mathrm{d} r</script></html>"
      ],
      "text/latex": [
       "$$\\newcommand{\\Bold}[1]{\\mathbf{#1}}\\epsilon_{c} = \\mathrm{d} r\\otimes \\mathrm{d} {\\theta}\\otimes \\mathrm{d} {\\varphi}-\\mathrm{d} r\\otimes \\mathrm{d} {\\varphi}\\otimes \\mathrm{d} {\\theta}-\\mathrm{d} {\\theta}\\otimes \\mathrm{d} r\\otimes \\mathrm{d} {\\varphi}+\\mathrm{d} {\\theta}\\otimes \\mathrm{d} {\\varphi}\\otimes \\mathrm{d} r+\\mathrm{d} {\\varphi}\\otimes \\mathrm{d} r\\otimes \\mathrm{d} {\\theta}-\\mathrm{d} {\\varphi}\\otimes \\mathrm{d} {\\theta}\\otimes \\mathrm{d} r$$"
      ],
      "text/plain": [
       "\\epsilon_{c} = dr⊗dth⊗dph - dr⊗dph⊗dth - dth⊗dr⊗dph + dth⊗dph⊗dr + dph⊗dr⊗dth - dph⊗dth⊗dr"
      ]
     },
     "execution_count": 22,
     "metadata": {},
     "output_type": "execute_result"
    }
   ],
   "source": [
    "epsilon_3D = M.tensor_field(0,3, antisymmetric=True, name=r'\\epsilon_{c}')\n",
    "\n",
    "epsilon_3D[1,2,3] = 1\n",
    "epsilon_3D[2,3,1] = 1\n",
    "epsilon_3D[3,1,2] = 1\n",
    "epsilon_3D[3,2,1] = -1\n",
    "epsilon_3D[2,1,3] = -1\n",
    "epsilon_3D[1,3,2] = -1\n",
    "\n",
    "epsilon_3D.display()"
   ]
  },
  {
   "cell_type": "code",
   "execution_count": 23,
   "id": "508cf615",
   "metadata": {},
   "outputs": [
    {
     "data": {
      "text/html": [
       "<html><script type=\"math/tex; mode=display\">\\newcommand{\\Bold}[1]{\\mathbf{#1}}B^{\\mu} =  \\left[0, -\\frac{2304 \\, B r^{2} \\cos\\left({\\theta}\\right) \\sin\\left({\\theta}\\right)}{169 \\, B^{4} r^{4} \\sin\\left({\\theta}\\right)^{4} + 1248 \\, B^{2} r^{2} \\sin\\left({\\theta}\\right)^{2} + 2304}, \\frac{2304 \\, B r \\sin\\left({\\theta}\\right)^{2}}{169 \\, B^{4} r^{4} \\sin\\left({\\theta}\\right)^{4} + 1248 \\, B^{2} r^{2} \\sin\\left({\\theta}\\right)^{2} + 2304}, 0\\right]</script></html>"
      ],
      "text/latex": [
       "$$\\newcommand{\\Bold}[1]{\\mathbf{#1}}B^{\\mu} =  \\left[0, -\\frac{2304 \\, B r^{2} \\cos\\left({\\theta}\\right) \\sin\\left({\\theta}\\right)}{169 \\, B^{4} r^{4} \\sin\\left({\\theta}\\right)^{4} + 1248 \\, B^{2} r^{2} \\sin\\left({\\theta}\\right)^{2} + 2304}, \\frac{2304 \\, B r \\sin\\left({\\theta}\\right)^{2}}{169 \\, B^{4} r^{4} \\sin\\left({\\theta}\\right)^{4} + 1248 \\, B^{2} r^{2} \\sin\\left({\\theta}\\right)^{2} + 2304}, 0\\right]$$"
      ],
      "text/plain": [
       "B^{\\mu} =  [0,\n",
       " -2304*B*r^2*cos(th)*sin(th)/(169*B^4*r^4*sin(th)^4 + 1248*B^2*r^2*sin(th)^2 + 2304),\n",
       " 2304*B*r*sin(th)^2/(169*B^4*r^4*sin(th)^4 + 1248*B^2*r^2*sin(th)^2 + 2304),\n",
       " 0]"
      ]
     },
     "metadata": {},
     "output_type": "display_data"
    }
   ],
   "source": [
    "B_mag = M.tensor_field(1,0)  \n",
    "for i in [1, 2, 3]:\n",
    "    B_mag[i] = 1/2 * sum(epsilon_3D[i,j,k] * F[j,k] for j in [1,2,3] for k in [1,2,3])\n",
    "#B_mag.apply_map(lambda f:f.substitute_function(Lambda,Lamb).simplify())\n",
    "show(LatexExpr(r'B^{\\mu} = '),B_mag[:])"
   ]
  },
  {
   "cell_type": "code",
   "execution_count": 24,
   "id": "d7538e38",
   "metadata": {},
   "outputs": [
    {
     "data": {
      "text/html": [
       "<html><script type=\"math/tex; mode=display\">\\newcommand{\\Bold}[1]{\\mathbf{#1}}\\mathrm{True}</script></html>"
      ],
      "text/latex": [
       "$$\\newcommand{\\Bold}[1]{\\mathbf{#1}}\\mathrm{True}$$"
      ],
      "text/plain": [
       "True"
      ]
     },
     "execution_count": 24,
     "metadata": {},
     "output_type": "execute_result"
    }
   ],
   "source": [
    "B_mag[1]== -B*r**2*sin(th)*cos(th)/Lambda**2"
   ]
  },
  {
   "cell_type": "code",
   "execution_count": 25,
   "id": "1c744e03",
   "metadata": {},
   "outputs": [
    {
     "data": {
      "text/html": [
       "<html><script type=\"math/tex; mode=display\">\\newcommand{\\Bold}[1]{\\mathbf{#1}}\\mathrm{True}</script></html>"
      ],
      "text/latex": [
       "$$\\newcommand{\\Bold}[1]{\\mathbf{#1}}\\mathrm{True}$$"
      ],
      "text/plain": [
       "True"
      ]
     },
     "execution_count": 25,
     "metadata": {},
     "output_type": "execute_result"
    }
   ],
   "source": [
    "B_mag[2]== B*r*sin(th)**2/Lambda**2"
   ]
  },
  {
   "cell_type": "markdown",
   "id": "af0e898c",
   "metadata": {},
   "source": [
    "# IV. The metric field equation"
   ]
  },
  {
   "cell_type": "markdown",
   "id": "324e8e64",
   "metadata": {},
   "source": [
    "Let's define the stress-energy tensor $T_{\\mu\\nu}=2\\left(F_{\\rho\\mu}F^{\\rho}_{\\hspace{0.2cm}\\nu}-\\frac{1}{4}g_{\\mu\\nu}F^{2}\\right)$ "
   ]
  },
  {
   "cell_type": "code",
   "execution_count": 26,
   "id": "abde79e8",
   "metadata": {},
   "outputs": [],
   "source": [
    "T = 2*(F.up(g,1)['_i^j']*F['_kj'] + g*Lm/2)"
   ]
  },
  {
   "cell_type": "code",
   "execution_count": 27,
   "id": "c9dae46f",
   "metadata": {},
   "outputs": [],
   "source": [
    "T_scalar = g.inverse()['^ab'] * T['_ab']"
   ]
  },
  {
   "cell_type": "code",
   "execution_count": 28,
   "id": "f3b1986b",
   "metadata": {},
   "outputs": [
    {
     "data": {
      "text/html": [
       "<html><script type=\"math/tex; mode=display\">\\newcommand{\\Bold}[1]{\\mathbf{#1}}\\mathrm{True}</script></html>"
      ],
      "text/latex": [
       "$$\\newcommand{\\Bold}[1]{\\mathbf{#1}}\\mathrm{True}$$"
      ],
      "text/plain": [
       "True"
      ]
     },
     "execution_count": 28,
     "metadata": {},
     "output_type": "execute_result"
    }
   ],
   "source": [
    "T_scalar == 0"
   ]
  },
  {
   "cell_type": "code",
   "execution_count": 29,
   "id": "164e9bfc",
   "metadata": {},
   "outputs": [],
   "source": [
    "S = (nab(nab(Lm**2 / R**2 )) - g*(Lm**2 / R**2).dalembertian()) * R**2 / Lm**2 "
   ]
  },
  {
   "cell_type": "markdown",
   "id": "ef714b66",
   "metadata": {},
   "source": [
    "And the field equation"
   ]
  },
  {
   "cell_type": "code",
   "execution_count": 30,
   "id": "7b83aedb",
   "metadata": {},
   "outputs": [
    {
     "data": {
      "text/html": [
       "<html><script type=\"math/tex; mode=display\">\\newcommand{\\Bold}[1]{\\mathbf{#1}}\\mathrm{True}</script></html>"
      ],
      "text/latex": [
       "$$\\newcommand{\\Bold}[1]{\\mathbf{#1}}\\mathrm{True}$$"
      ],
      "text/plain": [
       "True"
      ]
     },
     "execution_count": 30,
     "metadata": {},
     "output_type": "execute_result"
    }
   ],
   "source": [
    "G == - R / Lm * T + S"
   ]
  },
  {
   "cell_type": "markdown",
   "id": "39504324",
   "metadata": {},
   "source": [
    "# V. The scalar-field form $-\\frac{\\mathcal{L}_m}{R} = \\Lambda^{2/13}$"
   ]
  },
  {
   "cell_type": "code",
   "execution_count": 31,
   "id": "926d369b",
   "metadata": {},
   "outputs": [
    {
     "data": {
      "text/html": [
       "<html><script type=\"math/tex; mode=display\">\\newcommand{\\Bold}[1]{\\mathbf{#1}}\\mathrm{True}</script></html>"
      ],
      "text/latex": [
       "$$\\newcommand{\\Bold}[1]{\\mathbf{#1}}\\mathrm{True}$$"
      ],
      "text/plain": [
       "True"
      ]
     },
     "execution_count": 31,
     "metadata": {},
     "output_type": "execute_result"
    }
   ],
   "source": [
    "Lambda**(2/13) + Lm/R == 0"
   ]
  },
  {
   "cell_type": "markdown",
   "id": "e16de9f5",
   "metadata": {},
   "source": [
    "## V.1. Properties"
   ]
  },
  {
   "cell_type": "code",
   "execution_count": 32,
   "id": "a4cc5675",
   "metadata": {},
   "outputs": [
    {
     "data": {
      "text/html": [
       "<html><script type=\"math/tex; mode=display\">\\newcommand{\\Bold}[1]{\\mathbf{#1}}R = -\\frac{442368 \\cdot 3^{\\frac{7}{13}} 2^{\\frac{2}{13}} {\\left(r_{s} \\sin\\left({\\theta}\\right)^{2} - r\\right)} B^{2}}{{\\left(13 \\, B^{2} r^{2} \\sin\\left({\\theta}\\right)^{2} + 48\\right)}^{\\frac{46}{13}} r}</script></html>"
      ],
      "text/latex": [
       "$$\\newcommand{\\Bold}[1]{\\mathbf{#1}}R = -\\frac{442368 \\cdot 3^{\\frac{7}{13}} 2^{\\frac{2}{13}} {\\left(r_{s} \\sin\\left({\\theta}\\right)^{2} - r\\right)} B^{2}}{{\\left(13 \\, B^{2} r^{2} \\sin\\left({\\theta}\\right)^{2} + 48\\right)}^{\\frac{46}{13}} r}$$"
      ],
      "text/plain": [
       "R = -442368*3^(7/13)*2^(2/13)*(r_s*sin(th)^2 - r)*B^2/((13*B^2*r^2*sin(th)^2 + 48)^(46/13)*r)"
      ]
     },
     "metadata": {},
     "output_type": "display_data"
    },
    {
     "data": {
      "text/html": [
       "<html><script type=\"math/tex; mode=display\">\\newcommand{\\Bold}[1]{\\mathbf{#1}}R\\Lambda^{46/13} = -\\frac{{\\left(r_{s} \\sin\\left({\\theta}\\right)^{2} - r\\right)} B^{2}}{r}</script></html>"
      ],
      "text/latex": [
       "$$\\newcommand{\\Bold}[1]{\\mathbf{#1}}R\\Lambda^{46/13} = -\\frac{{\\left(r_{s} \\sin\\left({\\theta}\\right)^{2} - r\\right)} B^{2}}{r}$$"
      ],
      "text/plain": [
       "R\\Lambda^{46/13} = -(r_s*sin(th)^2 - r)*B^2/r"
      ]
     },
     "metadata": {},
     "output_type": "display_data"
    },
    {
     "data": {
      "text/html": [
       "<html><script type=\"math/tex; mode=display\">\\newcommand{\\Bold}[1]{\\mathbf{#1}}\\Rightarrow R = \\frac{{\\left(r_{s} \\sin\\left({\\theta}\\right)^{2} - r\\right)} B^{2}}{\\Lambda^{46/13}r} = L_{m} \\Lambda^{2/13}</script></html>"
      ],
      "text/latex": [
       "$$\\newcommand{\\Bold}[1]{\\mathbf{#1}}\\Rightarrow R = \\frac{{\\left(r_{s} \\sin\\left({\\theta}\\right)^{2} - r\\right)} B^{2}}{\\Lambda^{46/13}r} = L_{m} \\Lambda^{2/13}$$"
      ],
      "text/plain": [
       "\\Rightarrow R = \\frac{{\\left(r_{s} \\sin\\left({\\theta}\\right)^{2} - r\\right)} B^{2}}{\\Lambda^{46/13}r} = L_{m} \\Lambda^{2/13}"
      ]
     },
     "metadata": {},
     "output_type": "display_data"
    },
    {
     "data": {
      "text/html": [
       "<html><script type=\"math/tex; mode=display\">\\newcommand{\\Bold}[1]{\\mathbf{#1}}\\lim_{\\theta \\to 0} \\Lambda(r,\\theta) =1 \\Rightarrow  \\lim_{\\theta \\to 0} R =  B^{2}</script></html>"
      ],
      "text/latex": [
       "$$\\newcommand{\\Bold}[1]{\\mathbf{#1}}\\lim_{\\theta \\to 0} \\Lambda(r,\\theta) =1 \\Rightarrow  \\lim_{\\theta \\to 0} R =  B^{2}$$"
      ],
      "text/plain": [
       "\\lim_{\\theta \\to 0} \\Lambda(r,\\theta) =1 \\Rightarrow  \\lim_{\\theta \\to 0} R =  B^2"
      ]
     },
     "metadata": {},
     "output_type": "display_data"
    }
   ],
   "source": [
    "show(LatexExpr(r'R ='), R.expr().canonicalize_radical().factor())\n",
    "show(LatexExpr(r'R\\Lambda^{46/13} ='), (R*Lambda**(46/13)).expr().canonicalize_radical().factor())\n",
    "show(LatexExpr(r'\\Rightarrow R = \\frac{{\\left(r_{s} \\sin\\left({\\theta}\\right)^{2} - r\\right)} B^{2}}{\\Lambda^{46/13}r} = L_{m} \\Lambda^{2/13}'))\n",
    "show(LatexExpr(r'\\lim_{\\theta \\to 0} \\Lambda(r,\\theta) =1 \\Rightarrow  \\lim_{\\theta \\to 0} R = '), R.expr().subs(th=0).canonicalize_radical())"
   ]
  },
  {
   "cell_type": "markdown",
   "id": "4d8e0b8a",
   "metadata": {},
   "source": [
    "We can check that $\\frac{442368\\times3^{7/13}\\times2^{2/13}}{48^{46/13}}=1$"
   ]
  },
  {
   "cell_type": "code",
   "execution_count": 33,
   "id": "41ab7ddd",
   "metadata": {},
   "outputs": [
    {
     "data": {
      "text/html": [
       "<html><script type=\"math/tex; mode=display\">\\newcommand{\\Bold}[1]{\\mathbf{#1}}\\mathrm{True}</script></html>"
      ],
      "text/latex": [
       "$$\\newcommand{\\Bold}[1]{\\mathbf{#1}}\\mathrm{True}$$"
      ],
      "text/plain": [
       "True"
      ]
     },
     "execution_count": 33,
     "metadata": {},
     "output_type": "execute_result"
    }
   ],
   "source": [
    "((442368*3**(7/13)*2**(2/13) / 48**(46/13)).canonicalize_radical() - 1).is_zero()"
   ]
  }
 ],
 "metadata": {
  "kernelspec": {
   "display_name": "SageMath 9.5",
   "language": "sage",
   "name": "sagemath"
  },
  "language_info": {
   "codemirror_mode": {
    "name": "ipython",
    "version": 3
   },
   "file_extension": ".py",
   "mimetype": "text/x-python",
   "name": "python",
   "nbconvert_exporter": "python",
   "pygments_lexer": "ipython3",
   "version": "3.10.12"
  }
 },
 "nbformat": 4,
 "nbformat_minor": 5
}
