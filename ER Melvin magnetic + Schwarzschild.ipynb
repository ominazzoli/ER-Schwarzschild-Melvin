{
 "cells": [
  {
   "cell_type": "markdown",
   "id": "bf853de6",
   "metadata": {},
   "source": [
    "# Schwarzschild black-hole immersed in a magnetic field"
   ]
  },
  {
   "cell_type": "markdown",
   "id": "8d68a838",
   "metadata": {},
   "source": [
    "The action of Entanled Relativiy reads as follows"
   ]
  },
  {
   "cell_type": "markdown",
   "id": "2cc46a11",
   "metadata": {},
   "source": [
    "<!-- $S = \\int \\mathrm{d}^4 x\\sqrt{-g} \\left( \\frac{\\Phi R}{2\\kappa} + \\sqrt{\\Phi} \\mathcal{L}_m \\right)$ -->\n",
    "$S = -\\frac{1}{2}\\int \\mathrm{d}^4 x\\sqrt{-g} \\frac{\\mathcal{L}_m^2}{R}$"
   ]
  },
  {
   "cell_type": "markdown",
   "id": "11318228",
   "metadata": {},
   "source": [
    "The fields equations are"
   ]
  },
  {
   "cell_type": "markdown",
   "id": "2e21150b",
   "metadata": {},
   "source": [
    "<!-- $G_{\\mu\\nu} = \\frac{\\kappa}{\\sqrt{\\Phi}}T_{\\mu\\nu} + \\frac{1}{\\Phi} \\left( \\nabla_\\mu \\nabla_\\nu - g_{\\mu\\nu} \\Box \\right) \\Phi$ -->\n",
    "$G_{\\mu\\nu} = -\\frac{R}{\\mathcal{L}_m}T_{\\mu\\nu} + \\frac{R^2}{\\mathcal{L}_m^2} \\left( \\nabla_\\mu \\nabla_\\nu - g_{\\mu\\nu} \\Box \\right) \\frac{\\mathcal{L}_m^2}{R^2}$,"
   ]
  },
  {
   "cell_type": "markdown",
   "id": "9af5372b",
   "metadata": {},
   "source": [
    "and $\\nabla_\\sigma \\left(\\frac{\\mathcal{L}}{R} F^{\\mu \\sigma}\\right) = 0$,"
   ]
  },
  {
   "cell_type": "markdown",
   "id": "7ce7c30a",
   "metadata": {},
   "source": [
    "with $\\mathcal{L}_m = -\\frac{1}{2} F_{\\mu\\nu}F^{\\mu\\nu}$."
   ]
  },
  {
   "cell_type": "markdown",
   "id": "e9b1e1c0",
   "metadata": {},
   "source": [
    "The solution for the metric is\n",
    "$$ds^2 = \\Lambda^{\\frac{20}{13}} \\left[\\left(1 - \\frac{r_S}{r}\\right)^{-1}dr^2 + r^2 d\\theta^2 - \\left(1 - \\frac{r_S}{r}\\right) dt^2 \\right] + \\Lambda^{-\\frac{28}{13}} r^2 sin^2(\\theta) d\\varphi^2,$$\n",
    "with\n",
    "$$\\Lambda = 1 + \\frac{13}{48} B^2 r^2 sin^2(\\theta).$$\n",
    "\n",
    "The solution for the electromagnetic potential 4-vector is\n",
    "$$A_\\varphi = \\frac{B}{2 \\Lambda} r^2 \\sin^2(\\theta).$$\n",
    "\n",
    "The solution is such that\n",
    "$$-\\frac{\\mathcal{L}_m}{R} = \\Lambda^{2/13} := \\sqrt{\\Phi}.$$"
   ]
  },
  {
   "cell_type": "markdown",
   "id": "43361b36",
   "metadata": {},
   "source": [
    "Below, we verify that solution."
   ]
  },
  {
   "cell_type": "code",
   "execution_count": 1,
   "id": "fa00ea97",
   "metadata": {},
   "outputs": [
    {
     "data": {
      "text/plain": [
       "'SageMath version 9.5, Release Date: 2022-01-30'"
      ]
     },
     "execution_count": 1,
     "metadata": {},
     "output_type": "execute_result"
    }
   ],
   "source": [
    "version()"
   ]
  },
  {
   "cell_type": "raw",
   "id": "7986c4a6",
   "metadata": {},
   "source": [
    "Our code as been run on 'SageMath version 9.5, Release Date: 2022-01-30'"
   ]
  },
  {
   "cell_type": "code",
   "execution_count": 2,
   "id": "112af488",
   "metadata": {},
   "outputs": [],
   "source": [
    "%display latex"
   ]
  },
  {
   "cell_type": "code",
   "execution_count": 3,
   "id": "1a2f3ec7",
   "metadata": {},
   "outputs": [],
   "source": [
    "from sage.manifolds.operators import dalembertian\n",
    "from sage.manifolds.operators import laplacian\n",
    "from sage.manifolds.operators import grad"
   ]
  },
  {
   "cell_type": "code",
   "execution_count": 4,
   "id": "52764e53",
   "metadata": {},
   "outputs": [
    {
     "name": "stdout",
     "output_type": "stream",
     "text": [
      "4-dimensional Lorentzian manifold M\n"
     ]
    },
    {
     "name": "stderr",
     "output_type": "stream",
     "text": [
      "/usr/lib/python3/dist-packages/scipy/__init__.py:146: UserWarning: A NumPy version >=1.17.3 and <1.25.0 is required for this version of SciPy (detected version 1.26.4\n",
      "  warnings.warn(f\"A NumPy version >={np_minversion} and <{np_maxversion}\"\n"
     ]
    }
   ],
   "source": [
    "M = Manifold(4, 'M', structure='Lorentzian')\n",
    "print(M)"
   ]
  },
  {
   "cell_type": "code",
   "execution_count": 5,
   "id": "0ca83434",
   "metadata": {},
   "outputs": [],
   "source": [
    "X.<t,r,th,ph> = M.chart(r\"t r:(0,+oo) th:(0,pi):\\theta ph:\\varphi\")"
   ]
  },
  {
   "cell_type": "markdown",
   "id": "01454ea5",
   "metadata": {},
   "source": [
    "## Definition of the fields"
   ]
  },
  {
   "cell_type": "code",
   "execution_count": 6,
   "id": "5db98d9f",
   "metadata": {},
   "outputs": [],
   "source": [
    "g = M.metric()\n",
    "rs = var('r_S')\n",
    "assume(rs>=0)\n",
    "assume(rs<r) # focus on exterior solution\n",
    "B = var('B')\n",
    "\n",
    "Lambda(r,th) = 1 + 13 / 48 * B**2 * (r*sin(th))**2\n",
    "\n",
    "g[0,0] = -(1- rs/r) * Lambda(r,th)**(20 / 13)\n",
    "g[1,1] = 1/(1- rs/r) * Lambda(r,th)**(20 / 13)\n",
    "g[2,2] = r**2 * Lambda(r,th)**(20 / 13)\n",
    "g[3,3] = (r*sin(th))**2 / Lambda(r,th)**(28 / 13)\n",
    "\n",
    "pot_vec = M.tensor_field(0,1,name='A')\n",
    "pot_vec[0]=0\n",
    "pot_vec[1]=0\n",
    "pot_vec[2]=0\n",
    "pot_vec[3]= B * (r*sin(th))**2 / (2 * Lambda(r)) "
   ]
  },
  {
   "cell_type": "code",
   "execution_count": 7,
   "id": "a039c9ec",
   "metadata": {},
   "outputs": [
    {
     "data": {
      "text/html": [
       "<html><script type=\"math/tex; mode=display\">\\newcommand{\\Bold}[1]{\\mathbf{#1}}g = {\\left(\\frac{13}{48} \\, B^{2} r^{2} \\sin\\left({\\theta}\\right)^{2} + 1\\right)}^{\\frac{20}{13}} {\\left(\\frac{r_{S}}{r} - 1\\right)} \\mathrm{d} t\\otimes \\mathrm{d} t + \\left( -\\frac{{\\left(\\frac{13}{48} \\, B^{2} r^{2} \\sin\\left({\\theta}\\right)^{2} + 1\\right)}^{\\frac{20}{13}}}{\\frac{r_{S}}{r} - 1} \\right) \\mathrm{d} r\\otimes \\mathrm{d} r + {\\left(\\frac{13}{48} \\, B^{2} r^{2} \\sin\\left({\\theta}\\right)^{2} + 1\\right)}^{\\frac{20}{13}} r^{2} \\mathrm{d} {\\theta}\\otimes \\mathrm{d} {\\theta} + \\frac{r^{2} \\sin\\left({\\theta}\\right)^{2}}{{\\left(\\frac{13}{48} \\, B^{2} r^{2} \\sin\\left({\\theta}\\right)^{2} + 1\\right)}^{\\frac{28}{13}}} \\mathrm{d} {\\varphi}\\otimes \\mathrm{d} {\\varphi}</script></html>"
      ],
      "text/latex": [
       "$$\\newcommand{\\Bold}[1]{\\mathbf{#1}}g = {\\left(\\frac{13}{48} \\, B^{2} r^{2} \\sin\\left({\\theta}\\right)^{2} + 1\\right)}^{\\frac{20}{13}} {\\left(\\frac{r_{S}}{r} - 1\\right)} \\mathrm{d} t\\otimes \\mathrm{d} t + \\left( -\\frac{{\\left(\\frac{13}{48} \\, B^{2} r^{2} \\sin\\left({\\theta}\\right)^{2} + 1\\right)}^{\\frac{20}{13}}}{\\frac{r_{S}}{r} - 1} \\right) \\mathrm{d} r\\otimes \\mathrm{d} r + {\\left(\\frac{13}{48} \\, B^{2} r^{2} \\sin\\left({\\theta}\\right)^{2} + 1\\right)}^{\\frac{20}{13}} r^{2} \\mathrm{d} {\\theta}\\otimes \\mathrm{d} {\\theta} + \\frac{r^{2} \\sin\\left({\\theta}\\right)^{2}}{{\\left(\\frac{13}{48} \\, B^{2} r^{2} \\sin\\left({\\theta}\\right)^{2} + 1\\right)}^{\\frac{28}{13}}} \\mathrm{d} {\\varphi}\\otimes \\mathrm{d} {\\varphi}$$"
      ],
      "text/plain": [
       "g = (13/48*B^2*r^2*sin(th)^2 + 1)^(20/13)*(r_S/r - 1) dt⊗dt - (13/48*B^2*r^2*sin(th)^2 + 1)^(20/13)/(r_S/r - 1) dr⊗dr + (13/48*B^2*r^2*sin(th)^2 + 1)^(20/13)*r^2 dth⊗dth + r^2*sin(th)^2/(13/48*B^2*r^2*sin(th)^2 + 1)^(28/13) dph⊗dph"
      ]
     },
     "execution_count": 7,
     "metadata": {},
     "output_type": "execute_result"
    }
   ],
   "source": [
    "g.display()"
   ]
  },
  {
   "cell_type": "code",
   "execution_count": 8,
   "id": "d3bbd8a7",
   "metadata": {},
   "outputs": [
    {
     "data": {
      "text/html": [
       "<html><script type=\"math/tex; mode=display\">\\newcommand{\\Bold}[1]{\\mathbf{#1}}A = \\left( \\frac{24 \\, B r^{2} \\sin\\left({\\theta}\\right)^{2}}{13 \\, B^{2} r^{2} \\sin\\left({\\theta}\\right)^{2} + 48} \\right) \\mathrm{d} {\\varphi}</script></html>"
      ],
      "text/latex": [
       "$$\\newcommand{\\Bold}[1]{\\mathbf{#1}}A = \\left( \\frac{24 \\, B r^{2} \\sin\\left({\\theta}\\right)^{2}}{13 \\, B^{2} r^{2} \\sin\\left({\\theta}\\right)^{2} + 48} \\right) \\mathrm{d} {\\varphi}$$"
      ],
      "text/plain": [
       "A = 24*B*r^2*sin(th)^2/(13*B^2*r^2*sin(th)^2 + 48) dph"
      ]
     },
     "execution_count": 8,
     "metadata": {},
     "output_type": "execute_result"
    }
   ],
   "source": [
    "pot_vec.display()"
   ]
  },
  {
   "cell_type": "code",
   "execution_count": 9,
   "id": "be1097ba",
   "metadata": {},
   "outputs": [],
   "source": [
    "nab = g.connection() "
   ]
  },
  {
   "cell_type": "code",
   "execution_count": 10,
   "id": "b434993a",
   "metadata": {},
   "outputs": [],
   "source": [
    "Ric = g.ricci() #Ricci tensor\n",
    "R = g.ricci_scalar() #Ricci scalar\n",
    "G = Ric-R*g/2 #Einstein tensor"
   ]
  },
  {
   "cell_type": "markdown",
   "id": "fc69b5eb",
   "metadata": {},
   "source": [
    "## Electromagnetic field equation"
   ]
  },
  {
   "cell_type": "code",
   "execution_count": 11,
   "id": "a646ecd9",
   "metadata": {},
   "outputs": [],
   "source": [
    "DF = nab(pot_vec)"
   ]
  },
  {
   "cell_type": "code",
   "execution_count": 12,
   "id": "25b6d3d4",
   "metadata": {},
   "outputs": [
    {
     "data": {
      "text/html": [
       "<html><script type=\"math/tex; mode=display\">\\newcommand{\\Bold}[1]{\\mathbf{#1}}\\left( -\\frac{2304 \\, B r \\sin\\left({\\theta}\\right)^{2}}{169 \\, B^{4} r^{4} \\sin\\left({\\theta}\\right)^{4} + 1248 \\, B^{2} r^{2} \\sin\\left({\\theta}\\right)^{2} + 2304} \\right) \\mathrm{d} r\\otimes \\mathrm{d} {\\varphi} + \\left( -\\frac{2304 \\, B r^{2} \\cos\\left({\\theta}\\right) \\sin\\left({\\theta}\\right)}{169 \\, B^{4} r^{4} \\sin\\left({\\theta}\\right)^{4} + 1248 \\, B^{2} r^{2} \\sin\\left({\\theta}\\right)^{2} + 2304} \\right) \\mathrm{d} {\\theta}\\otimes \\mathrm{d} {\\varphi} + \\left( \\frac{2304 \\, B r \\sin\\left({\\theta}\\right)^{2}}{169 \\, B^{4} r^{4} \\sin\\left({\\theta}\\right)^{4} + 1248 \\, B^{2} r^{2} \\sin\\left({\\theta}\\right)^{2} + 2304} \\right) \\mathrm{d} {\\varphi}\\otimes \\mathrm{d} r + \\left( \\frac{2304 \\, B r^{2} \\cos\\left({\\theta}\\right) \\sin\\left({\\theta}\\right)}{169 \\, B^{4} r^{4} \\sin\\left({\\theta}\\right)^{4} + 1248 \\, B^{2} r^{2} \\sin\\left({\\theta}\\right)^{2} + 2304} \\right) \\mathrm{d} {\\varphi}\\otimes \\mathrm{d} {\\theta}</script></html>"
      ],
      "text/latex": [
       "$$\\newcommand{\\Bold}[1]{\\mathbf{#1}}\\left( -\\frac{2304 \\, B r \\sin\\left({\\theta}\\right)^{2}}{169 \\, B^{4} r^{4} \\sin\\left({\\theta}\\right)^{4} + 1248 \\, B^{2} r^{2} \\sin\\left({\\theta}\\right)^{2} + 2304} \\right) \\mathrm{d} r\\otimes \\mathrm{d} {\\varphi} + \\left( -\\frac{2304 \\, B r^{2} \\cos\\left({\\theta}\\right) \\sin\\left({\\theta}\\right)}{169 \\, B^{4} r^{4} \\sin\\left({\\theta}\\right)^{4} + 1248 \\, B^{2} r^{2} \\sin\\left({\\theta}\\right)^{2} + 2304} \\right) \\mathrm{d} {\\theta}\\otimes \\mathrm{d} {\\varphi} + \\left( \\frac{2304 \\, B r \\sin\\left({\\theta}\\right)^{2}}{169 \\, B^{4} r^{4} \\sin\\left({\\theta}\\right)^{4} + 1248 \\, B^{2} r^{2} \\sin\\left({\\theta}\\right)^{2} + 2304} \\right) \\mathrm{d} {\\varphi}\\otimes \\mathrm{d} r + \\left( \\frac{2304 \\, B r^{2} \\cos\\left({\\theta}\\right) \\sin\\left({\\theta}\\right)}{169 \\, B^{4} r^{4} \\sin\\left({\\theta}\\right)^{4} + 1248 \\, B^{2} r^{2} \\sin\\left({\\theta}\\right)^{2} + 2304} \\right) \\mathrm{d} {\\varphi}\\otimes \\mathrm{d} {\\theta}$$"
      ],
      "text/plain": [
       "-2304*B*r*sin(th)^2/(169*B^4*r^4*sin(th)^4 + 1248*B^2*r^2*sin(th)^2 + 2304) dr⊗dph - 2304*B*r^2*cos(th)*sin(th)/(169*B^4*r^4*sin(th)^4 + 1248*B^2*r^2*sin(th)^2 + 2304) dth⊗dph + 2304*B*r*sin(th)^2/(169*B^4*r^4*sin(th)^4 + 1248*B^2*r^2*sin(th)^2 + 2304) dph⊗dr + 2304*B*r^2*cos(th)*sin(th)/(169*B^4*r^4*sin(th)^4 + 1248*B^2*r^2*sin(th)^2 + 2304) dph⊗dth"
      ]
     },
     "execution_count": 12,
     "metadata": {},
     "output_type": "execute_result"
    }
   ],
   "source": [
    "F=(DF['_ij']-DF['_ji'])._tensor\n",
    "Fuu = F.up(g)\n",
    "F.display()"
   ]
  },
  {
   "cell_type": "code",
   "execution_count": 13,
   "id": "048ff5e3",
   "metadata": {},
   "outputs": [
    {
     "data": {
      "text/html": [
       "<html><script type=\"math/tex; mode=display\">\\newcommand{\\Bold}[1]{\\mathbf{#1}}\\frac{221184 \\cdot 3^{\\frac{5}{13}} 2^{\\frac{7}{13}} {\\left(r_{S} \\sin\\left({\\theta}\\right)^{2} - r\\right)} B^{2}}{{\\left(13 \\, B^{2} r^{2} \\sin\\left({\\theta}\\right)^{2} + 48\\right)}^{\\frac{44}{13}} r}</script></html>"
      ],
      "text/latex": [
       "$$\\newcommand{\\Bold}[1]{\\mathbf{#1}}\\frac{221184 \\cdot 3^{\\frac{5}{13}} 2^{\\frac{7}{13}} {\\left(r_{S} \\sin\\left({\\theta}\\right)^{2} - r\\right)} B^{2}}{{\\left(13 \\, B^{2} r^{2} \\sin\\left({\\theta}\\right)^{2} + 48\\right)}^{\\frac{44}{13}} r}$$"
      ],
      "text/plain": [
       "221184*3^(5/13)*2^(7/13)*(r_S*sin(th)^2 - r)*B^2/((13*B^2*r^2*sin(th)^2 + 48)^(44/13)*r)"
      ]
     },
     "execution_count": 13,
     "metadata": {},
     "output_type": "execute_result"
    }
   ],
   "source": [
    "Lm = -F['_ij']*F.up(g)['^ij']/2\n",
    "# Lm.display()\n",
    "Lm.expr().canonicalize_radical().factor()"
   ]
  },
  {
   "cell_type": "code",
   "execution_count": 14,
   "id": "bdc684c2",
   "metadata": {},
   "outputs": [
    {
     "data": {
      "text/html": [
       "<html><script type=\"math/tex; mode=display\">\\newcommand{\\Bold}[1]{\\mathbf{#1}}1</script></html>"
      ],
      "text/latex": [
       "$$\\newcommand{\\Bold}[1]{\\mathbf{#1}}1$$"
      ],
      "text/plain": [
       "1"
      ]
     },
     "execution_count": 14,
     "metadata": {},
     "output_type": "execute_result"
    }
   ],
   "source": [
    "(221184*3**(5/13)*2**(7/13)/48**(44/13)).canonicalize_radical()"
   ]
  },
  {
   "cell_type": "code",
   "execution_count": 15,
   "id": "f494dd08",
   "metadata": {},
   "outputs": [
    {
     "data": {
      "text/html": [
       "<html><script type=\"math/tex; mode=display\">\\newcommand{\\Bold}[1]{\\mathbf{#1}}\\mathrm{True}</script></html>"
      ],
      "text/latex": [
       "$$\\newcommand{\\Bold}[1]{\\mathbf{#1}}\\mathrm{True}$$"
      ],
      "text/plain": [
       "True"
      ]
     },
     "execution_count": 15,
     "metadata": {},
     "output_type": "execute_result"
    }
   ],
   "source": [
    "\"\"\"Maxwell's equation\"\"\"\n",
    "\n",
    "N = nab(Lm / R *F.up(g))['_i^ij']\n",
    "N == 0"
   ]
  },
  {
   "cell_type": "markdown",
   "id": "af0e898c",
   "metadata": {},
   "source": [
    "## Metric field equation"
   ]
  },
  {
   "cell_type": "code",
   "execution_count": 16,
   "id": "164e9bfc",
   "metadata": {},
   "outputs": [
    {
     "data": {
      "text/html": [
       "<html><script type=\"math/tex; mode=display\">\\newcommand{\\Bold}[1]{\\mathbf{#1}}\\mathrm{True}</script></html>"
      ],
      "text/latex": [
       "$$\\newcommand{\\Bold}[1]{\\mathbf{#1}}\\mathrm{True}$$"
      ],
      "text/plain": [
       "True"
      ]
     },
     "execution_count": 16,
     "metadata": {},
     "output_type": "execute_result"
    }
   ],
   "source": [
    "\"\"\"Einstein's equation\"\"\"\n",
    "\n",
    "\n",
    "T = 2*(F.up(g,1)['_i^j']*F['_kj'] + g*Lm/2) #Le tenseur énergie impuslion\n",
    "\n",
    "S = (nab(nab(Lm**2 / R**2 )) - g*(Lm**2 / R**2).dalembertian()) * R**2 / Lm**2 #Le tenseur en plus dans l'équation\n",
    "\n",
    "G == - R / Lm * T + S"
   ]
  },
  {
   "cell_type": "markdown",
   "id": "39504324",
   "metadata": {},
   "source": [
    "## Check scalar-field form"
   ]
  },
  {
   "cell_type": "code",
   "execution_count": 17,
   "id": "314f7751",
   "metadata": {},
   "outputs": [
    {
     "data": {
      "text/html": [
       "<html><script type=\"math/tex; mode=display\">\\newcommand{\\Bold}[1]{\\mathbf{#1}}\\mathrm{True}</script></html>"
      ],
      "text/latex": [
       "$$\\newcommand{\\Bold}[1]{\\mathbf{#1}}\\mathrm{True}$$"
      ],
      "text/plain": [
       "True"
      ]
     },
     "execution_count": 17,
     "metadata": {},
     "output_type": "execute_result"
    }
   ],
   "source": [
    "\"Test that Lambda**(2/13) + Lm/R == 0\"\n",
    "Lambda**(2/13) + Lm/R == 0"
   ]
  },
  {
   "cell_type": "markdown",
   "id": "79190037",
   "metadata": {},
   "source": [
    "## Properties"
   ]
  },
  {
   "cell_type": "code",
   "execution_count": 18,
   "id": "2d141502",
   "metadata": {},
   "outputs": [
    {
     "data": {
      "text/html": [
       "<html><script type=\"math/tex; mode=display\">\\newcommand{\\Bold}[1]{\\mathbf{#1}}\\frac{221184 \\cdot 3^{\\frac{5}{13}} 2^{\\frac{7}{13}} {\\left(r_{S} \\sin\\left({\\theta}\\right)^{2} - r\\right)} B^{2}}{{\\left(13 \\, B^{2} r^{2} \\sin\\left({\\theta}\\right)^{2} + 48\\right)}^{\\frac{44}{13}} r}</script></html>"
      ],
      "text/latex": [
       "$$\\newcommand{\\Bold}[1]{\\mathbf{#1}}\\frac{221184 \\cdot 3^{\\frac{5}{13}} 2^{\\frac{7}{13}} {\\left(r_{S} \\sin\\left({\\theta}\\right)^{2} - r\\right)} B^{2}}{{\\left(13 \\, B^{2} r^{2} \\sin\\left({\\theta}\\right)^{2} + 48\\right)}^{\\frac{44}{13}} r}$$"
      ],
      "text/plain": [
       "221184*3^(5/13)*2^(7/13)*(r_S*sin(th)^2 - r)*B^2/((13*B^2*r^2*sin(th)^2 + 48)^(44/13)*r)"
      ]
     },
     "execution_count": 18,
     "metadata": {},
     "output_type": "execute_result"
    }
   ],
   "source": [
    "# Lm.expr()\n",
    "Lm.expr().canonicalize_radical().factor().factor()"
   ]
  },
  {
   "cell_type": "code",
   "execution_count": 19,
   "id": "78721f76",
   "metadata": {},
   "outputs": [
    {
     "data": {
      "text/html": [
       "<html><script type=\"math/tex; mode=display\">\\newcommand{\\Bold}[1]{\\mathbf{#1}}1</script></html>"
      ],
      "text/latex": [
       "$$\\newcommand{\\Bold}[1]{\\mathbf{#1}}1$$"
      ],
      "text/plain": [
       "1"
      ]
     },
     "execution_count": 19,
     "metadata": {},
     "output_type": "execute_result"
    }
   ],
   "source": [
    "(221184 * 3**(5/13) * 2**(7/13) / 48**(44/13)).canonicalize_radical()"
   ]
  },
  {
   "cell_type": "markdown",
   "id": "b8c8702c",
   "metadata": {},
   "source": [
    "$$\\Rightarrow \\mathcal{L}_m = B^2 \\Lambda^{-44/13}$$"
   ]
  },
  {
   "cell_type": "code",
   "execution_count": 20,
   "id": "a143719f",
   "metadata": {},
   "outputs": [
    {
     "data": {
      "text/html": [
       "<html><script type=\"math/tex; mode=display\">\\newcommand{\\Bold}[1]{\\mathbf{#1}}-\\frac{442368 \\cdot 3^{\\frac{7}{13}} 2^{\\frac{2}{13}} {\\left(r_{S} \\sin\\left({\\theta}\\right)^{2} - r\\right)} B^{2}}{{\\left(13 \\, B^{2} r^{2} \\sin\\left({\\theta}\\right)^{2} + 48\\right)}^{\\frac{46}{13}} r}</script></html>"
      ],
      "text/latex": [
       "$$\\newcommand{\\Bold}[1]{\\mathbf{#1}}-\\frac{442368 \\cdot 3^{\\frac{7}{13}} 2^{\\frac{2}{13}} {\\left(r_{S} \\sin\\left({\\theta}\\right)^{2} - r\\right)} B^{2}}{{\\left(13 \\, B^{2} r^{2} \\sin\\left({\\theta}\\right)^{2} + 48\\right)}^{\\frac{46}{13}} r}$$"
      ],
      "text/plain": [
       "-442368*3^(7/13)*2^(2/13)*(r_S*sin(th)^2 - r)*B^2/((13*B^2*r^2*sin(th)^2 + 48)^(46/13)*r)"
      ]
     },
     "execution_count": 20,
     "metadata": {},
     "output_type": "execute_result"
    }
   ],
   "source": [
    "# R.expr()\n",
    "R.expr().canonicalize_radical().factor().factor()"
   ]
  },
  {
   "cell_type": "code",
   "execution_count": 21,
   "id": "41ab7ddd",
   "metadata": {},
   "outputs": [
    {
     "data": {
      "text/html": [
       "<html><script type=\"math/tex; mode=display\">\\newcommand{\\Bold}[1]{\\mathbf{#1}}1</script></html>"
      ],
      "text/latex": [
       "$$\\newcommand{\\Bold}[1]{\\mathbf{#1}}1$$"
      ],
      "text/plain": [
       "1"
      ]
     },
     "execution_count": 21,
     "metadata": {},
     "output_type": "execute_result"
    }
   ],
   "source": [
    "(442368*3**(7/13)*2**(2/13) / 48**(46/13)).canonicalize_radical() "
   ]
  },
  {
   "cell_type": "markdown",
   "id": "835230a5",
   "metadata": {},
   "source": [
    "$$\\Rightarrow R = -B ^2 \\Lambda^{-46/13}$$"
   ]
  },
  {
   "cell_type": "markdown",
   "id": "1ed847e0",
   "metadata": {},
   "source": [
    "### Petrov classification"
   ]
  },
  {
   "cell_type": "code",
   "execution_count": 22,
   "id": "c6603f39",
   "metadata": {},
   "outputs": [],
   "source": [
    "C = (g.weyl()).down(g)"
   ]
  },
  {
   "cell_type": "code",
   "execution_count": 23,
   "id": "cdddac65",
   "metadata": {},
   "outputs": [],
   "source": [
    "\"\"\"null tetrad definition\"\"\"\n",
    "\n",
    "K = M.one_form({X.frame(): [sqrt(-g[0,0]/2), sqrt(g[1,1]/2), 0, 0]})\n",
    "L = M.one_form({X.frame(): [sqrt(-g[0,0]/2), -sqrt(g[1,1]/2), 0, 0]})\n",
    "Mb = M.one_form({X.frame(): [0, 0, sqrt(g[2,2]/2), i*sqrt(g[3,3]/2)]})\n",
    "MB = M.one_form({X.frame(): [0, 0, sqrt(g[2,2]/2), -i*sqrt(g[3,3]/2)]})\n",
    "k = K.up(g)\n",
    "l = L.up(g)\n",
    "m = Mb.up(g)\n",
    "mb = MB.up(g)"
   ]
  },
  {
   "cell_type": "markdown",
   "id": "458d0ed2",
   "metadata": {},
   "source": [
    "### Verification of null tetrad"
   ]
  },
  {
   "cell_type": "code",
   "execution_count": 24,
   "id": "e11c0a72",
   "metadata": {},
   "outputs": [
    {
     "data": {
      "text/html": [
       "<html><script type=\"math/tex; mode=display\">\\newcommand{\\Bold}[1]{\\mathbf{#1}}0</script></html>"
      ],
      "text/latex": [
       "$$\\newcommand{\\Bold}[1]{\\mathbf{#1}}0$$"
      ],
      "text/plain": [
       "0"
      ]
     },
     "execution_count": 24,
     "metadata": {},
     "output_type": "execute_result"
    }
   ],
   "source": [
    "g(k,k).expr()"
   ]
  },
  {
   "cell_type": "code",
   "execution_count": 25,
   "id": "43cfe3bd",
   "metadata": {},
   "outputs": [
    {
     "data": {
      "text/html": [
       "<html><script type=\"math/tex; mode=display\">\\newcommand{\\Bold}[1]{\\mathbf{#1}}0</script></html>"
      ],
      "text/latex": [
       "$$\\newcommand{\\Bold}[1]{\\mathbf{#1}}0$$"
      ],
      "text/plain": [
       "0"
      ]
     },
     "execution_count": 25,
     "metadata": {},
     "output_type": "execute_result"
    }
   ],
   "source": [
    "g(l,l).expr()"
   ]
  },
  {
   "cell_type": "code",
   "execution_count": 26,
   "id": "29c04507",
   "metadata": {},
   "outputs": [
    {
     "data": {
      "text/html": [
       "<html><script type=\"math/tex; mode=display\">\\newcommand{\\Bold}[1]{\\mathbf{#1}}0</script></html>"
      ],
      "text/latex": [
       "$$\\newcommand{\\Bold}[1]{\\mathbf{#1}}0$$"
      ],
      "text/plain": [
       "0"
      ]
     },
     "execution_count": 26,
     "metadata": {},
     "output_type": "execute_result"
    }
   ],
   "source": [
    "g(m,m).expr()"
   ]
  },
  {
   "cell_type": "code",
   "execution_count": 27,
   "id": "8fc40445",
   "metadata": {},
   "outputs": [
    {
     "data": {
      "text/html": [
       "<html><script type=\"math/tex; mode=display\">\\newcommand{\\Bold}[1]{\\mathbf{#1}}0</script></html>"
      ],
      "text/latex": [
       "$$\\newcommand{\\Bold}[1]{\\mathbf{#1}}0$$"
      ],
      "text/plain": [
       "0"
      ]
     },
     "execution_count": 27,
     "metadata": {},
     "output_type": "execute_result"
    }
   ],
   "source": [
    "g(mb,mb).expr()"
   ]
  },
  {
   "cell_type": "code",
   "execution_count": 28,
   "id": "1eb98d0e",
   "metadata": {},
   "outputs": [
    {
     "data": {
      "text/html": [
       "<html><script type=\"math/tex; mode=display\">\\newcommand{\\Bold}[1]{\\mathbf{#1}}-1</script></html>"
      ],
      "text/latex": [
       "$$\\newcommand{\\Bold}[1]{\\mathbf{#1}}-1$$"
      ],
      "text/plain": [
       "-1"
      ]
     },
     "execution_count": 28,
     "metadata": {},
     "output_type": "execute_result"
    }
   ],
   "source": [
    "g(k,l).expr()"
   ]
  },
  {
   "cell_type": "code",
   "execution_count": 29,
   "id": "043a1154",
   "metadata": {},
   "outputs": [
    {
     "data": {
      "text/html": [
       "<html><script type=\"math/tex; mode=display\">\\newcommand{\\Bold}[1]{\\mathbf{#1}}1</script></html>"
      ],
      "text/latex": [
       "$$\\newcommand{\\Bold}[1]{\\mathbf{#1}}1$$"
      ],
      "text/plain": [
       "1"
      ]
     },
     "execution_count": 29,
     "metadata": {},
     "output_type": "execute_result"
    }
   ],
   "source": [
    "g(m,mb).expr()"
   ]
  },
  {
   "cell_type": "markdown",
   "id": "6e02b5be",
   "metadata": {},
   "source": [
    "### Computation of the Weyl scalars"
   ]
  },
  {
   "cell_type": "code",
   "execution_count": 30,
   "id": "515a0595",
   "metadata": {},
   "outputs": [
    {
     "data": {
      "text/html": [
       "<html><script type=\"math/tex; mode=display\">\\newcommand{\\Bold}[1]{\\mathbf{#1}}\\frac{2304 \\cdot 3^{\\frac{7}{13}} 2^{\\frac{2}{13}} {\\left(35 \\, B^{2} r^{2} \\sin\\left({\\theta}\\right)^{2} - 144\\right)} B^{2} {\\left(r - r_{S}\\right)} \\sin\\left({\\theta}\\right)^{2}}{{\\left(13 \\, B^{2} r^{2} \\sin\\left({\\theta}\\right)^{2} + 48\\right)}^{\\frac{46}{13}} r}</script></html>"
      ],
      "text/latex": [
       "$$\\newcommand{\\Bold}[1]{\\mathbf{#1}}\\frac{2304 \\cdot 3^{\\frac{7}{13}} 2^{\\frac{2}{13}} {\\left(35 \\, B^{2} r^{2} \\sin\\left({\\theta}\\right)^{2} - 144\\right)} B^{2} {\\left(r - r_{S}\\right)} \\sin\\left({\\theta}\\right)^{2}}{{\\left(13 \\, B^{2} r^{2} \\sin\\left({\\theta}\\right)^{2} + 48\\right)}^{\\frac{46}{13}} r}$$"
      ],
      "text/plain": [
       "2304*3^(7/13)*2^(2/13)*(35*B^2*r^2*sin(th)^2 - 144)*B^2*(r - r_S)*sin(th)^2/((13*B^2*r^2*sin(th)^2 + 48)^(46/13)*r)"
      ]
     },
     "execution_count": 30,
     "metadata": {},
     "output_type": "execute_result"
    }
   ],
   "source": [
    "P00 = k*m*k*m\n",
    "P0 = C['_{abcd}']*P00['^{abcd}']\n",
    "P0.expr().canonicalize_radical().factor()"
   ]
  },
  {
   "cell_type": "code",
   "execution_count": 31,
   "id": "aafade6b",
   "metadata": {},
   "outputs": [
    {
     "data": {
      "text/html": [
       "<html><script type=\"math/tex; mode=display\">\\newcommand{\\Bold}[1]{\\mathbf{#1}}\\frac{2304 \\cdot 3^{\\frac{7}{13}} 2^{\\frac{2}{13}} {\\left(35 \\, B^{2} r^{2} \\sin\\left({\\theta}\\right)^{2} - 144\\right)} B^{2} \\sqrt{r - r_{S}} \\cos\\left({\\theta}\\right) \\sin\\left({\\theta}\\right)}{{\\left(13 \\, B^{2} r^{2} \\sin\\left({\\theta}\\right)^{2} + 48\\right)}^{\\frac{46}{13}} \\sqrt{r}}</script></html>"
      ],
      "text/latex": [
       "$$\\newcommand{\\Bold}[1]{\\mathbf{#1}}\\frac{2304 \\cdot 3^{\\frac{7}{13}} 2^{\\frac{2}{13}} {\\left(35 \\, B^{2} r^{2} \\sin\\left({\\theta}\\right)^{2} - 144\\right)} B^{2} \\sqrt{r - r_{S}} \\cos\\left({\\theta}\\right) \\sin\\left({\\theta}\\right)}{{\\left(13 \\, B^{2} r^{2} \\sin\\left({\\theta}\\right)^{2} + 48\\right)}^{\\frac{46}{13}} \\sqrt{r}}$$"
      ],
      "text/plain": [
       "2304*3^(7/13)*2^(2/13)*(35*B^2*r^2*sin(th)^2 - 144)*B^2*sqrt(r - r_S)*cos(th)*sin(th)/((13*B^2*r^2*sin(th)^2 + 48)^(46/13)*sqrt(r))"
      ]
     },
     "execution_count": 31,
     "metadata": {},
     "output_type": "execute_result"
    }
   ],
   "source": [
    "P11 = k*l*k*m\n",
    "P1 = C['_{abcd}']*P11['^{abcd}']\n",
    "P1.expr().canonicalize_radical().factor()"
   ]
  },
  {
   "cell_type": "code",
   "execution_count": 32,
   "id": "8dfd4669",
   "metadata": {},
   "outputs": [
    {
     "data": {
      "text/html": [
       "<html><script type=\"math/tex; mode=display\">\\newcommand{\\Bold}[1]{\\mathbf{#1}}-\\frac{96 \\cdot 3^{\\frac{7}{13}} 2^{\\frac{2}{13}} {\\left(840 \\, B^{4} r^{5} \\sin\\left({\\theta}\\right)^{4} - 423 \\, B^{4} r^{4} r_{S} \\sin\\left({\\theta}\\right)^{4} - 560 \\, B^{4} r^{5} \\sin\\left({\\theta}\\right)^{2} - 3456 \\, B^{2} r^{3} \\sin\\left({\\theta}\\right)^{2} + 1248 \\, B^{2} r^{2} r_{S} \\sin\\left({\\theta}\\right)^{2} + 2304 \\, B^{2} r^{3} + 2304 \\, r_{S}\\right)}}{{\\left(13 \\, B^{2} r^{2} \\sin\\left({\\theta}\\right)^{2} + 48\\right)}^{\\frac{46}{13}} r^{3}}</script></html>"
      ],
      "text/latex": [
       "$$\\newcommand{\\Bold}[1]{\\mathbf{#1}}-\\frac{96 \\cdot 3^{\\frac{7}{13}} 2^{\\frac{2}{13}} {\\left(840 \\, B^{4} r^{5} \\sin\\left({\\theta}\\right)^{4} - 423 \\, B^{4} r^{4} r_{S} \\sin\\left({\\theta}\\right)^{4} - 560 \\, B^{4} r^{5} \\sin\\left({\\theta}\\right)^{2} - 3456 \\, B^{2} r^{3} \\sin\\left({\\theta}\\right)^{2} + 1248 \\, B^{2} r^{2} r_{S} \\sin\\left({\\theta}\\right)^{2} + 2304 \\, B^{2} r^{3} + 2304 \\, r_{S}\\right)}}{{\\left(13 \\, B^{2} r^{2} \\sin\\left({\\theta}\\right)^{2} + 48\\right)}^{\\frac{46}{13}} r^{3}}$$"
      ],
      "text/plain": [
       "-96*3^(7/13)*2^(2/13)*(840*B^4*r^5*sin(th)^4 - 423*B^4*r^4*r_S*sin(th)^4 - 560*B^4*r^5*sin(th)^2 - 3456*B^2*r^3*sin(th)^2 + 1248*B^2*r^2*r_S*sin(th)^2 + 2304*B^2*r^3 + 2304*r_S)/((13*B^2*r^2*sin(th)^2 + 48)^(46/13)*r^3)"
      ]
     },
     "execution_count": 32,
     "metadata": {},
     "output_type": "execute_result"
    }
   ],
   "source": [
    "P22 = k*m*mb*l\n",
    "P2 = C['_{abcd}']*P22['^{abcd}']\n",
    "P2.expr().canonicalize_radical().factor()"
   ]
  },
  {
   "cell_type": "code",
   "execution_count": 33,
   "id": "37e61683",
   "metadata": {},
   "outputs": [
    {
     "data": {
      "text/html": [
       "<html><script type=\"math/tex; mode=display\">\\newcommand{\\Bold}[1]{\\mathbf{#1}}-\\frac{2304 \\cdot 3^{\\frac{7}{13}} 2^{\\frac{2}{13}} {\\left(35 \\, B^{2} r^{2} \\sin\\left({\\theta}\\right)^{2} - 144\\right)} B^{2} \\sqrt{r - r_{S}} \\cos\\left({\\theta}\\right) \\sin\\left({\\theta}\\right)}{{\\left(13 \\, B^{2} r^{2} \\sin\\left({\\theta}\\right)^{2} + 48\\right)}^{\\frac{46}{13}} \\sqrt{r}}</script></html>"
      ],
      "text/latex": [
       "$$\\newcommand{\\Bold}[1]{\\mathbf{#1}}-\\frac{2304 \\cdot 3^{\\frac{7}{13}} 2^{\\frac{2}{13}} {\\left(35 \\, B^{2} r^{2} \\sin\\left({\\theta}\\right)^{2} - 144\\right)} B^{2} \\sqrt{r - r_{S}} \\cos\\left({\\theta}\\right) \\sin\\left({\\theta}\\right)}{{\\left(13 \\, B^{2} r^{2} \\sin\\left({\\theta}\\right)^{2} + 48\\right)}^{\\frac{46}{13}} \\sqrt{r}}$$"
      ],
      "text/plain": [
       "-2304*3^(7/13)*2^(2/13)*(35*B^2*r^2*sin(th)^2 - 144)*B^2*sqrt(r - r_S)*cos(th)*sin(th)/((13*B^2*r^2*sin(th)^2 + 48)^(46/13)*sqrt(r))"
      ]
     },
     "execution_count": 33,
     "metadata": {},
     "output_type": "execute_result"
    }
   ],
   "source": [
    "P33 = l*k*l*mb\n",
    "P3 = C['_{abcd}']*P33['^{abcd}']\n",
    "P3.expr().canonicalize_radical().factor()"
   ]
  },
  {
   "cell_type": "code",
   "execution_count": 34,
   "id": "6b2d786b",
   "metadata": {},
   "outputs": [
    {
     "data": {
      "text/html": [
       "<html><script type=\"math/tex; mode=display\">\\newcommand{\\Bold}[1]{\\mathbf{#1}}\\frac{2304 \\cdot 3^{\\frac{7}{13}} 2^{\\frac{2}{13}} {\\left(35 \\, B^{2} r^{2} \\sin\\left({\\theta}\\right)^{2} - 144\\right)} B^{2} {\\left(r - r_{S}\\right)} \\sin\\left({\\theta}\\right)^{2}}{{\\left(13 \\, B^{2} r^{2} \\sin\\left({\\theta}\\right)^{2} + 48\\right)}^{\\frac{46}{13}} r}</script></html>"
      ],
      "text/latex": [
       "$$\\newcommand{\\Bold}[1]{\\mathbf{#1}}\\frac{2304 \\cdot 3^{\\frac{7}{13}} 2^{\\frac{2}{13}} {\\left(35 \\, B^{2} r^{2} \\sin\\left({\\theta}\\right)^{2} - 144\\right)} B^{2} {\\left(r - r_{S}\\right)} \\sin\\left({\\theta}\\right)^{2}}{{\\left(13 \\, B^{2} r^{2} \\sin\\left({\\theta}\\right)^{2} + 48\\right)}^{\\frac{46}{13}} r}$$"
      ],
      "text/plain": [
       "2304*3^(7/13)*2^(2/13)*(35*B^2*r^2*sin(th)^2 - 144)*B^2*(r - r_S)*sin(th)^2/((13*B^2*r^2*sin(th)^2 + 48)^(46/13)*r)"
      ]
     },
     "execution_count": 34,
     "metadata": {},
     "output_type": "execute_result"
    }
   ],
   "source": [
    "P44 = l*mb*l*mb\n",
    "P4 = C['_{abcd}']*P44['^{abcd}']\n",
    "P4.expr().canonicalize_radical().factor()"
   ]
  },
  {
   "cell_type": "markdown",
   "id": "c0c627a1",
   "metadata": {},
   "source": [
    "### Transformation into electric metric"
   ]
  },
  {
   "cell_type": "markdown",
   "id": "3389590f",
   "metadata": {},
   "source": [
    "$$g_{\\mu \\nu} \\longrightarrow g^e_{\\mu \\nu} = \\left(\\frac{\\mathcal{L}_m}{R}\\right)^4 g_{\\mu \\nu}.$$"
   ]
  },
  {
   "cell_type": "code",
   "execution_count": 35,
   "id": "00e9ed0a",
   "metadata": {},
   "outputs": [
    {
     "data": {
      "text/html": [
       "<html><script type=\"math/tex; mode=display\">\\newcommand{\\Bold}[1]{\\mathbf{#1}}\\mbox{unnamed metric} = -\\frac{3^{\\frac{11}{13}} 2^{\\frac{5}{13}} {\\left(13 \\, B^{2} r^{2} \\sin\\left({\\theta}\\right)^{2} + 48\\right)}^{\\frac{2}{13}} {\\left(169 \\, {\\left(B^{4} r^{5} - B^{4} r^{4} r_{S}\\right)} \\sin\\left({\\theta}\\right)^{4} + 1248 \\, {\\left(B^{2} r^{3} - B^{2} r^{2} r_{S}\\right)} \\sin\\left({\\theta}\\right)^{2} + 2304 \\, r - 2304 \\, r_{S}\\right)}}{13824 \\, r} \\mathrm{d} t\\otimes \\mathrm{d} t + \\frac{{\\left(169 \\, B^{4} r^{5} \\sin\\left({\\theta}\\right)^{4} + 1248 \\, B^{2} r^{3} \\sin\\left({\\theta}\\right)^{2} + 2304 \\, r\\right)} {\\left(13 \\, B^{2} r^{2} \\sin\\left({\\theta}\\right)^{2} + 48\\right)}^{\\frac{2}{13}}}{2304 \\, {\\left(3^{\\frac{2}{13}} 2^{\\frac{8}{13}} r - 3^{\\frac{2}{13}} 2^{\\frac{8}{13}} r_{S}\\right)}} \\mathrm{d} r\\otimes \\mathrm{d} r + \\frac{1}{13824} \\cdot 3^{\\frac{11}{13}} 2^{\\frac{5}{13}} {\\left(169 \\, B^{4} r^{6} \\sin\\left({\\theta}\\right)^{4} + 1248 \\, B^{2} r^{4} \\sin\\left({\\theta}\\right)^{2} + 2304 \\, r^{2}\\right)} {\\left(13 \\, B^{2} r^{2} \\sin\\left({\\theta}\\right)^{2} + 48\\right)}^{\\frac{2}{13}} \\mathrm{d} {\\theta}\\otimes \\mathrm{d} {\\theta} + \\left( \\frac{192 \\cdot 3^{\\frac{7}{13}} 2^{\\frac{2}{13}} {\\left(13 \\, B^{2} r^{2} \\sin\\left({\\theta}\\right)^{2} + 48\\right)}^{\\frac{6}{13}} r^{2} \\sin\\left({\\theta}\\right)^{2}}{169 \\, B^{4} r^{4} \\sin\\left({\\theta}\\right)^{4} + 1248 \\, B^{2} r^{2} \\sin\\left({\\theta}\\right)^{2} + 2304} \\right) \\mathrm{d} {\\varphi}\\otimes \\mathrm{d} {\\varphi}</script></html>"
      ],
      "text/latex": [
       "$$\\newcommand{\\Bold}[1]{\\mathbf{#1}}\\mbox{unnamed metric} = -\\frac{3^{\\frac{11}{13}} 2^{\\frac{5}{13}} {\\left(13 \\, B^{2} r^{2} \\sin\\left({\\theta}\\right)^{2} + 48\\right)}^{\\frac{2}{13}} {\\left(169 \\, {\\left(B^{4} r^{5} - B^{4} r^{4} r_{S}\\right)} \\sin\\left({\\theta}\\right)^{4} + 1248 \\, {\\left(B^{2} r^{3} - B^{2} r^{2} r_{S}\\right)} \\sin\\left({\\theta}\\right)^{2} + 2304 \\, r - 2304 \\, r_{S}\\right)}}{13824 \\, r} \\mathrm{d} t\\otimes \\mathrm{d} t + \\frac{{\\left(169 \\, B^{4} r^{5} \\sin\\left({\\theta}\\right)^{4} + 1248 \\, B^{2} r^{3} \\sin\\left({\\theta}\\right)^{2} + 2304 \\, r\\right)} {\\left(13 \\, B^{2} r^{2} \\sin\\left({\\theta}\\right)^{2} + 48\\right)}^{\\frac{2}{13}}}{2304 \\, {\\left(3^{\\frac{2}{13}} 2^{\\frac{8}{13}} r - 3^{\\frac{2}{13}} 2^{\\frac{8}{13}} r_{S}\\right)}} \\mathrm{d} r\\otimes \\mathrm{d} r + \\frac{1}{13824} \\cdot 3^{\\frac{11}{13}} 2^{\\frac{5}{13}} {\\left(169 \\, B^{4} r^{6} \\sin\\left({\\theta}\\right)^{4} + 1248 \\, B^{2} r^{4} \\sin\\left({\\theta}\\right)^{2} + 2304 \\, r^{2}\\right)} {\\left(13 \\, B^{2} r^{2} \\sin\\left({\\theta}\\right)^{2} + 48\\right)}^{\\frac{2}{13}} \\mathrm{d} {\\theta}\\otimes \\mathrm{d} {\\theta} + \\left( \\frac{192 \\cdot 3^{\\frac{7}{13}} 2^{\\frac{2}{13}} {\\left(13 \\, B^{2} r^{2} \\sin\\left({\\theta}\\right)^{2} + 48\\right)}^{\\frac{6}{13}} r^{2} \\sin\\left({\\theta}\\right)^{2}}{169 \\, B^{4} r^{4} \\sin\\left({\\theta}\\right)^{4} + 1248 \\, B^{2} r^{2} \\sin\\left({\\theta}\\right)^{2} + 2304} \\right) \\mathrm{d} {\\varphi}\\otimes \\mathrm{d} {\\varphi}$$"
      ],
      "text/plain": [
       "unnamed metric = -1/13824*3^(11/13)*2^(5/13)*(13*B^2*r^2*sin(th)^2 + 48)^(2/13)*(169*(B^4*r^5 - B^4*r^4*r_S)*sin(th)^4 + 1248*(B^2*r^3 - B^2*r^2*r_S)*sin(th)^2 + 2304*r - 2304*r_S)/r dt⊗dt + 1/2304*(169*B^4*r^5*sin(th)^4 + 1248*B^2*r^3*sin(th)^2 + 2304*r)*(13*B^2*r^2*sin(th)^2 + 48)^(2/13)/(3^(2/13)*2^(8/13)*r - 3^(2/13)*2^(8/13)*r_S) dr⊗dr + 1/13824*3^(11/13)*2^(5/13)*(169*B^4*r^6*sin(th)^4 + 1248*B^2*r^4*sin(th)^2 + 2304*r^2)*(13*B^2*r^2*sin(th)^2 + 48)^(2/13) dth⊗dth + 192*3^(7/13)*2^(2/13)*(13*B^2*r^2*sin(th)^2 + 48)^(6/13)*r^2*sin(th)^2/(169*B^4*r^4*sin(th)^4 + 1248*B^2*r^2*sin(th)^2 + 2304) dph⊗dph"
      ]
     },
     "execution_count": 35,
     "metadata": {},
     "output_type": "execute_result"
    }
   ],
   "source": [
    "ge = M.metric(name = 'g_e')\n",
    "ge = g*(Lm/R)**4\n",
    "ge.display()"
   ]
  },
  {
   "cell_type": "code",
   "execution_count": 36,
   "id": "c4910e0c",
   "metadata": {},
   "outputs": [
    {
     "data": {
      "text/html": [
       "<html><script type=\"math/tex; mode=display\">\\newcommand{\\Bold}[1]{\\mathbf{#1}}-\\frac{3^{\\frac{11}{13}} 2^{\\frac{5}{13}} {\\left(13 \\, B^{2} r^{2} \\sin\\left({\\theta}\\right)^{2} + 48\\right)}^{\\frac{28}{13}} {\\left(r - r_{S}\\right)}}{13824 \\, r}</script></html>"
      ],
      "text/latex": [
       "$$\\newcommand{\\Bold}[1]{\\mathbf{#1}}-\\frac{3^{\\frac{11}{13}} 2^{\\frac{5}{13}} {\\left(13 \\, B^{2} r^{2} \\sin\\left({\\theta}\\right)^{2} + 48\\right)}^{\\frac{28}{13}} {\\left(r - r_{S}\\right)}}{13824 \\, r}$$"
      ],
      "text/plain": [
       "-1/13824*3^(11/13)*2^(5/13)*(13*B^2*r^2*sin(th)^2 + 48)^(28/13)*(r - r_S)/r"
      ]
     },
     "execution_count": 36,
     "metadata": {},
     "output_type": "execute_result"
    }
   ],
   "source": [
    "ge[0,0].expr().canonicalize_radical().factor()"
   ]
  },
  {
   "cell_type": "code",
   "execution_count": 37,
   "id": "dfa39b4f",
   "metadata": {},
   "outputs": [
    {
     "data": {
      "text/html": [
       "<html><script type=\"math/tex; mode=display\">\\newcommand{\\Bold}[1]{\\mathbf{#1}}1</script></html>"
      ],
      "text/latex": [
       "$$\\newcommand{\\Bold}[1]{\\mathbf{#1}}1$$"
      ],
      "text/plain": [
       "1"
      ]
     },
     "execution_count": 37,
     "metadata": {},
     "output_type": "execute_result"
    }
   ],
   "source": [
    "(3**(11/13)*2**(5/13)*48**(28/13) / 13824).canonicalize_radical()"
   ]
  },
  {
   "cell_type": "code",
   "execution_count": 38,
   "id": "928a8d7b",
   "metadata": {},
   "outputs": [
    {
     "data": {
      "text/html": [
       "<html><script type=\"math/tex; mode=display\">\\newcommand{\\Bold}[1]{\\mathbf{#1}}\\frac{192 \\cdot 3^{\\frac{7}{13}} 2^{\\frac{2}{13}} r^{2} \\sin\\left({\\theta}\\right)^{2}}{{\\left(13 \\, B^{2} r^{2} \\sin\\left({\\theta}\\right)^{2} + 48\\right)}^{\\frac{20}{13}}}</script></html>"
      ],
      "text/latex": [
       "$$\\newcommand{\\Bold}[1]{\\mathbf{#1}}\\frac{192 \\cdot 3^{\\frac{7}{13}} 2^{\\frac{2}{13}} r^{2} \\sin\\left({\\theta}\\right)^{2}}{{\\left(13 \\, B^{2} r^{2} \\sin\\left({\\theta}\\right)^{2} + 48\\right)}^{\\frac{20}{13}}}$$"
      ],
      "text/plain": [
       "192*3^(7/13)*2^(2/13)*r^2*sin(th)^2/(13*B^2*r^2*sin(th)^2 + 48)^(20/13)"
      ]
     },
     "execution_count": 38,
     "metadata": {},
     "output_type": "execute_result"
    }
   ],
   "source": [
    "ge[3,3].expr().canonicalize_radical().factor()"
   ]
  },
  {
   "cell_type": "code",
   "execution_count": 39,
   "id": "18104e07",
   "metadata": {},
   "outputs": [
    {
     "data": {
      "text/html": [
       "<html><script type=\"math/tex; mode=display\">\\newcommand{\\Bold}[1]{\\mathbf{#1}}1</script></html>"
      ],
      "text/latex": [
       "$$\\newcommand{\\Bold}[1]{\\mathbf{#1}}1$$"
      ],
      "text/plain": [
       "1"
      ]
     },
     "execution_count": 39,
     "metadata": {},
     "output_type": "execute_result"
    }
   ],
   "source": [
    "(192*3**(7/13)*2**(2/13) / 48**(20/13)).canonicalize_radical().factor()"
   ]
  },
  {
   "cell_type": "markdown",
   "id": "7ffc6cf8",
   "metadata": {},
   "source": [
    "### Transformation to electric solution"
   ]
  },
  {
   "cell_type": "markdown",
   "id": "7dfc06fe",
   "metadata": {},
   "source": [
    "$$F_{\\mu \\nu}  \\longrightarrow F^{e}_{\\mu \\nu} =-\\frac{1}{2} \\frac{\\mathcal{L}_m}{R} ~ \\epsilon_{\\mu \\nu \\kappa \\lambda} F^{\\kappa \\lambda},$$"
   ]
  },
  {
   "cell_type": "code",
   "execution_count": 40,
   "id": "64c98e3e",
   "metadata": {},
   "outputs": [],
   "source": [
    "detg = g.determinant()"
   ]
  },
  {
   "cell_type": "code",
   "execution_count": 41,
   "id": "591cdd47",
   "metadata": {},
   "outputs": [],
   "source": [
    "\"\"\"Levi-Civita\"\"\"\n",
    "\n",
    "dt = M.one_form({X.frame(): [1, 0, 0, 0]})\n",
    "dr = M.one_form({X.frame(): [0, 1, 0, 0]})\n",
    "dth = M.one_form({X.frame(): [0, 0, 1, 0]})\n",
    "dph = M.one_form({X.frame(): [0, 0, 0, 1]})\n",
    "\n",
    "e = dt.wedge(dr.wedge(dth.wedge(dph))) #Le symbôle de Levi-Civita\n",
    "\n",
    "E = e*sqrt(-detg) #Le tenseur de Levi-Civita"
   ]
  },
  {
   "cell_type": "code",
   "execution_count": 42,
   "id": "d68b019c",
   "metadata": {
    "scrolled": false
   },
   "outputs": [
    {
     "data": {
      "text/html": [
       "<html><script type=\"math/tex; mode=display\">\\newcommand{\\Bold}[1]{\\mathbf{#1}}\\left( -\\frac{B {\\left| 13 \\cdot 3^{\\frac{7}{26}} 2^{\\frac{1}{13}} B^{2} r^{4} \\sin\\left({\\theta}\\right)^{3} + 48 \\cdot 3^{\\frac{7}{26}} 2^{\\frac{1}{13}} r^{2} \\sin\\left({\\theta}\\right) \\right|} \\cos\\left({\\theta}\\right)}{13 \\cdot 3^{\\frac{7}{26}} 2^{\\frac{1}{13}} B^{2} r^{4} \\sin\\left({\\theta}\\right)^{3} + 48 \\cdot 3^{\\frac{7}{26}} 2^{\\frac{1}{13}} r^{2} \\sin\\left({\\theta}\\right)} \\right) \\mathrm{d} t\\wedge \\mathrm{d} r + \\left( \\frac{{\\left(B r - B r_{S}\\right)} {\\left| 13 \\cdot 3^{\\frac{7}{26}} 2^{\\frac{1}{13}} B^{2} r^{4} \\sin\\left({\\theta}\\right)^{3} + 48 \\cdot 3^{\\frac{7}{26}} 2^{\\frac{1}{13}} r^{2} \\sin\\left({\\theta}\\right) \\right|}}{13 \\cdot 3^{\\frac{7}{26}} 2^{\\frac{1}{13}} B^{2} r^{4} \\sin\\left({\\theta}\\right)^{2} + 48 \\cdot 3^{\\frac{7}{26}} 2^{\\frac{1}{13}} r^{2}} \\right) \\mathrm{d} t\\wedge \\mathrm{d} {\\theta}</script></html>"
      ],
      "text/latex": [
       "$$\\newcommand{\\Bold}[1]{\\mathbf{#1}}\\left( -\\frac{B {\\left| 13 \\cdot 3^{\\frac{7}{26}} 2^{\\frac{1}{13}} B^{2} r^{4} \\sin\\left({\\theta}\\right)^{3} + 48 \\cdot 3^{\\frac{7}{26}} 2^{\\frac{1}{13}} r^{2} \\sin\\left({\\theta}\\right) \\right|} \\cos\\left({\\theta}\\right)}{13 \\cdot 3^{\\frac{7}{26}} 2^{\\frac{1}{13}} B^{2} r^{4} \\sin\\left({\\theta}\\right)^{3} + 48 \\cdot 3^{\\frac{7}{26}} 2^{\\frac{1}{13}} r^{2} \\sin\\left({\\theta}\\right)} \\right) \\mathrm{d} t\\wedge \\mathrm{d} r + \\left( \\frac{{\\left(B r - B r_{S}\\right)} {\\left| 13 \\cdot 3^{\\frac{7}{26}} 2^{\\frac{1}{13}} B^{2} r^{4} \\sin\\left({\\theta}\\right)^{3} + 48 \\cdot 3^{\\frac{7}{26}} 2^{\\frac{1}{13}} r^{2} \\sin\\left({\\theta}\\right) \\right|}}{13 \\cdot 3^{\\frac{7}{26}} 2^{\\frac{1}{13}} B^{2} r^{4} \\sin\\left({\\theta}\\right)^{2} + 48 \\cdot 3^{\\frac{7}{26}} 2^{\\frac{1}{13}} r^{2}} \\right) \\mathrm{d} t\\wedge \\mathrm{d} {\\theta}$$"
      ],
      "text/plain": [
       "-B*abs(13*3^(7/26)*2^(1/13)*B^2*r^4*sin(th)^3 + 48*3^(7/26)*2^(1/13)*r^2*sin(th))*cos(th)/(13*3^(7/26)*2^(1/13)*B^2*r^4*sin(th)^3 + 48*3^(7/26)*2^(1/13)*r^2*sin(th)) dt∧dr + (B*r - B*r_S)*abs(13*3^(7/26)*2^(1/13)*B^2*r^4*sin(th)^3 + 48*3^(7/26)*2^(1/13)*r^2*sin(th))/(13*3^(7/26)*2^(1/13)*B^2*r^4*sin(th)^2 + 48*3^(7/26)*2^(1/13)*r^2) dt∧dth"
      ]
     },
     "execution_count": 42,
     "metadata": {},
     "output_type": "execute_result"
    }
   ],
   "source": [
    "Fe = M.tensor_field(0,2, name='F_e')\n",
    "Fe = -(1/2)*(Lm/R)*E['_{abij}']*F.up(g)['^{ij}']\n",
    "Fe.display()"
   ]
  },
  {
   "cell_type": "code",
   "execution_count": 43,
   "id": "02ca04e7",
   "metadata": {},
   "outputs": [
    {
     "data": {
      "text/html": [
       "<html><script type=\"math/tex; mode=display\">\\newcommand{\\Bold}[1]{\\mathbf{#1}}-\\frac{B {\\left| \\sin\\left({\\theta}\\right) \\right|} \\cos\\left({\\theta}\\right)}{\\sin\\left({\\theta}\\right)}</script></html>"
      ],
      "text/latex": [
       "$$\\newcommand{\\Bold}[1]{\\mathbf{#1}}-\\frac{B {\\left| \\sin\\left({\\theta}\\right) \\right|} \\cos\\left({\\theta}\\right)}{\\sin\\left({\\theta}\\right)}$$"
      ],
      "text/plain": [
       "-B*abs(sin(th))*cos(th)/sin(th)"
      ]
     },
     "execution_count": 43,
     "metadata": {},
     "output_type": "execute_result"
    }
   ],
   "source": [
    "Fe[0,1].expr().canonicalize_radical().factor()"
   ]
  },
  {
   "cell_type": "code",
   "execution_count": 44,
   "id": "60ebb270",
   "metadata": {},
   "outputs": [
    {
     "data": {
      "text/html": [
       "<html><script type=\"math/tex; mode=display\">\\newcommand{\\Bold}[1]{\\mathbf{#1}}B {\\left(r - r_{S}\\right)} {\\left| \\sin\\left({\\theta}\\right) \\right|}</script></html>"
      ],
      "text/latex": [
       "$$\\newcommand{\\Bold}[1]{\\mathbf{#1}}B {\\left(r - r_{S}\\right)} {\\left| \\sin\\left({\\theta}\\right) \\right|}$$"
      ],
      "text/plain": [
       "B*(r - r_S)*abs(sin(th))"
      ]
     },
     "execution_count": 44,
     "metadata": {},
     "output_type": "execute_result"
    }
   ],
   "source": [
    "Fe[0,2].expr().canonicalize_radical().factor()"
   ]
  },
  {
   "cell_type": "code",
   "execution_count": 45,
   "id": "23e34c90",
   "metadata": {},
   "outputs": [],
   "source": [
    "Re = ge.ricci_scalar() #Ricci scalar"
   ]
  },
  {
   "cell_type": "code",
   "execution_count": 46,
   "id": "6e3117b4",
   "metadata": {},
   "outputs": [],
   "source": [
    "Lme = -Fe['_ij']*Fe.up(ge)['^ij']/2\n"
   ]
  },
  {
   "cell_type": "code",
   "execution_count": 47,
   "id": "0cd06438",
   "metadata": {},
   "outputs": [
    {
     "data": {
      "text/html": [
       "<html><script type=\"math/tex; mode=display\">\\newcommand{\\Bold}[1]{\\mathbf{#1}}-\\frac{1}{6} \\cdot 3^{\\frac{11}{13}} 2^{\\frac{5}{13}} {\\left(13 \\, B^{2} r^{2} \\sin\\left({\\theta}\\right)^{2} + 48\\right)}^{\\frac{2}{13}}</script></html>"
      ],
      "text/latex": [
       "$$\\newcommand{\\Bold}[1]{\\mathbf{#1}}-\\frac{1}{6} \\cdot 3^{\\frac{11}{13}} 2^{\\frac{5}{13}} {\\left(13 \\, B^{2} r^{2} \\sin\\left({\\theta}\\right)^{2} + 48\\right)}^{\\frac{2}{13}}$$"
      ],
      "text/plain": [
       "-1/6*3^(11/13)*2^(5/13)*(13*B^2*r^2*sin(th)^2 + 48)^(2/13)"
      ]
     },
     "execution_count": 47,
     "metadata": {},
     "output_type": "execute_result"
    }
   ],
   "source": [
    "(Re/Lme).expr().canonicalize_radical().factor()"
   ]
  },
  {
   "cell_type": "code",
   "execution_count": 48,
   "id": "cbed72cb",
   "metadata": {},
   "outputs": [
    {
     "data": {
      "text/html": [
       "<html><script type=\"math/tex; mode=display\">\\newcommand{\\Bold}[1]{\\mathbf{#1}}1</script></html>"
      ],
      "text/latex": [
       "$$\\newcommand{\\Bold}[1]{\\mathbf{#1}}1$$"
      ],
      "text/plain": [
       "1"
      ]
     },
     "execution_count": 48,
     "metadata": {},
     "output_type": "execute_result"
    }
   ],
   "source": [
    "(3**(11/13)*2**(5/13)*48**(2/13)/6).canonicalize_radical() "
   ]
  },
  {
   "cell_type": "markdown",
   "id": "399f30e9",
   "metadata": {},
   "source": [
    "$$\\Rightarrow \\left(\\frac{R_e}{\\mathcal{L}_{me}} \\right) = -\\Lambda^{2/13}$$"
   ]
  }
 ],
 "metadata": {
  "kernelspec": {
   "display_name": "SageMath 9.5",
   "language": "sage",
   "name": "sagemath"
  },
  "language_info": {
   "codemirror_mode": {
    "name": "ipython",
    "version": 3
   },
   "file_extension": ".py",
   "mimetype": "text/x-python",
   "name": "python",
   "nbconvert_exporter": "python",
   "pygments_lexer": "ipython3",
   "version": "3.10.12"
  }
 },
 "nbformat": 4,
 "nbformat_minor": 5
}
