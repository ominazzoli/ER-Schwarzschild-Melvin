{
 "cells": [
  {
   "cell_type": "markdown",
   "id": "a974c710",
   "metadata": {},
   "source": [
    "# Schwarzschild black-hole immersed in an electric field"
   ]
  },
  {
   "cell_type": "markdown",
   "id": "d7737be3",
   "metadata": {},
   "source": [
    "The action of Entanled Relativiy reads as follows"
   ]
  },
  {
   "cell_type": "markdown",
   "id": "2cc46a11",
   "metadata": {},
   "source": [
    "<!-- $S = \\int \\mathrm{d}^4 x\\sqrt{-g} \\left( \\frac{\\Phi R}{2\\kappa} + \\sqrt{\\Phi} \\mathcal{L}_m \\right)$ -->\n",
    "$S = -\\frac{1}{2}\\int \\mathrm{d}^4 x\\sqrt{-g} \\frac{\\mathcal{L}_m^2}{R}$"
   ]
  },
  {
   "cell_type": "markdown",
   "id": "11318228",
   "metadata": {},
   "source": [
    "The fields equations are"
   ]
  },
  {
   "cell_type": "markdown",
   "id": "2e21150b",
   "metadata": {},
   "source": [
    "<!-- $G_{\\mu\\nu} = \\frac{\\kappa}{\\sqrt{\\Phi}}T_{\\mu\\nu} + \\frac{1}{\\Phi} \\left( \\nabla_\\mu \\nabla_\\nu - g_{\\mu\\nu} \\Box \\right) \\Phi$ -->\n",
    "$G_{\\mu\\nu} = -\\frac{R}{\\mathcal{L}_m}T_{\\mu\\nu} + \\frac{R^2}{\\mathcal{L}_m^2} \\left( \\nabla_\\mu \\nabla_\\nu - g_{\\mu\\nu} \\Box \\right) \\frac{\\mathcal{L}_m^2}{R^2}$,"
   ]
  },
  {
   "cell_type": "markdown",
   "id": "f3da02d8",
   "metadata": {},
   "source": [
    "and $\\nabla_\\sigma \\left(\\frac{\\mathcal{L}}{R} F^{\\mu \\sigma}\\right) = 0$,"
   ]
  },
  {
   "cell_type": "markdown",
   "id": "7ce7c30a",
   "metadata": {},
   "source": [
    "with $\\mathcal{L}_m = -\\frac{1}{2} F_{\\mu\\nu}F^{\\mu\\nu}$."
   ]
  },
  {
   "cell_type": "markdown",
   "id": "e9b1e1c0",
   "metadata": {},
   "source": [
    "The solution for the metric is\n",
    "$$ds^2 = \\Lambda^{\\frac{28}{13}} \\left[\\left(1 - \\frac{r_S}{r}\\right)^{-1}dr^2 + r^2 d\\theta^2 - \\left(1 - \\frac{r_S}{r}\\right) dt^2 \\right] + \\Lambda^{-\\frac{20}{13}} r^2 sin^2(\\theta) d\\varphi^2,$$\n",
    "with\n",
    "$$\\Lambda = 1 + \\frac{13}{48} E^2 r^2 sin^2(\\theta).$$\n",
    "\n",
    "The solution for the electromagnetic potential 4-vector is\n",
    "$$A_t = E \\left(1-\\frac{r_S}{r} \\right) r \\cos \\theta.$$\n",
    "\n",
    "The solution is such that\n",
    "$$-\\frac{\\mathcal{L}_m}{R} = \\Lambda^{-2/13}.$$"
   ]
  },
  {
   "cell_type": "markdown",
   "id": "c6a73b2b",
   "metadata": {},
   "source": [
    "Below, we verify that solution."
   ]
  },
  {
   "cell_type": "code",
   "execution_count": 1,
   "id": "e408afb6",
   "metadata": {},
   "outputs": [
    {
     "data": {
      "text/plain": [
       "'SageMath version 9.5, Release Date: 2022-01-30'"
      ]
     },
     "execution_count": 1,
     "metadata": {},
     "output_type": "execute_result"
    }
   ],
   "source": [
    "version()"
   ]
  },
  {
   "cell_type": "raw",
   "id": "08e67c7a",
   "metadata": {},
   "source": [
    "Our code as been run on 'SageMath version 9.5, Release Date: 2022-01-30'"
   ]
  },
  {
   "cell_type": "code",
   "execution_count": 2,
   "id": "112af488",
   "metadata": {},
   "outputs": [],
   "source": [
    "%display latex"
   ]
  },
  {
   "cell_type": "code",
   "execution_count": 3,
   "id": "1a2f3ec7",
   "metadata": {},
   "outputs": [],
   "source": [
    "from sage.manifolds.operators import dalembertian\n",
    "from sage.manifolds.operators import laplacian\n",
    "from sage.manifolds.operators import grad"
   ]
  },
  {
   "cell_type": "code",
   "execution_count": 4,
   "id": "52764e53",
   "metadata": {},
   "outputs": [
    {
     "name": "stdout",
     "output_type": "stream",
     "text": [
      "4-dimensional Lorentzian manifold M\n"
     ]
    },
    {
     "name": "stderr",
     "output_type": "stream",
     "text": [
      "/usr/lib/python3/dist-packages/scipy/__init__.py:146: UserWarning: A NumPy version >=1.17.3 and <1.25.0 is required for this version of SciPy (detected version 1.26.4\n",
      "  warnings.warn(f\"A NumPy version >={np_minversion} and <{np_maxversion}\"\n"
     ]
    }
   ],
   "source": [
    "M = Manifold(4, 'M', structure='Lorentzian')\n",
    "print(M)"
   ]
  },
  {
   "cell_type": "code",
   "execution_count": 5,
   "id": "0ca83434",
   "metadata": {},
   "outputs": [],
   "source": [
    "X.<t,r,th,ph> = M.chart(r\"t r:(0,+oo) th:(0,pi):\\theta ph:\\varphi\")"
   ]
  },
  {
   "cell_type": "markdown",
   "id": "01454ea5",
   "metadata": {},
   "source": [
    "## Definition of the fields"
   ]
  },
  {
   "cell_type": "code",
   "execution_count": 6,
   "id": "5db98d9f",
   "metadata": {},
   "outputs": [],
   "source": [
    "g = M.metric()\n",
    "rs = var('r_S')\n",
    "assume(rs>=0)\n",
    "assume(rs<r) # focus on exterior solution\n",
    "B = var('E')\n",
    "\n",
    "Lambda(r,th) = 1 + 13 / 48 * B**2 * (r*sin(th))**2\n",
    "\n",
    "g[0,0] = -(1- rs/r) * Lambda(r,th)**(28 / 13)\n",
    "g[1,1] = 1/(1- rs/r) * Lambda(r,th)**(28 / 13)\n",
    "g[2,2] = r**2 * Lambda(r,th)**(28 / 13)\n",
    "g[3,3] = (r*sin(th))**2 / Lambda(r,th)**(20 / 13)\n",
    "\n",
    "pot_vec = M.tensor_field(0,1,name='A')\n",
    "pot_vec[0]= B * (1 - rs / r) * r * cos(th)\n",
    "pot_vec[1]=0\n",
    "pot_vec[2]=0\n",
    "pot_vec[3]= 0"
   ]
  },
  {
   "cell_type": "code",
   "execution_count": 7,
   "id": "b2e30797",
   "metadata": {},
   "outputs": [
    {
     "data": {
      "text/html": [
       "<html><script type=\"math/tex; mode=display\">\\newcommand{\\Bold}[1]{\\mathbf{#1}}g = {\\left(\\frac{13}{48} \\, E^{2} r^{2} \\sin\\left({\\theta}\\right)^{2} + 1\\right)}^{\\frac{28}{13}} {\\left(\\frac{r_{S}}{r} - 1\\right)} \\mathrm{d} t\\otimes \\mathrm{d} t + \\left( -\\frac{{\\left(\\frac{13}{48} \\, E^{2} r^{2} \\sin\\left({\\theta}\\right)^{2} + 1\\right)}^{\\frac{28}{13}}}{\\frac{r_{S}}{r} - 1} \\right) \\mathrm{d} r\\otimes \\mathrm{d} r + {\\left(\\frac{13}{48} \\, E^{2} r^{2} \\sin\\left({\\theta}\\right)^{2} + 1\\right)}^{\\frac{28}{13}} r^{2} \\mathrm{d} {\\theta}\\otimes \\mathrm{d} {\\theta} + \\frac{r^{2} \\sin\\left({\\theta}\\right)^{2}}{{\\left(\\frac{13}{48} \\, E^{2} r^{2} \\sin\\left({\\theta}\\right)^{2} + 1\\right)}^{\\frac{20}{13}}} \\mathrm{d} {\\varphi}\\otimes \\mathrm{d} {\\varphi}</script></html>"
      ],
      "text/latex": [
       "$$\\newcommand{\\Bold}[1]{\\mathbf{#1}}g = {\\left(\\frac{13}{48} \\, E^{2} r^{2} \\sin\\left({\\theta}\\right)^{2} + 1\\right)}^{\\frac{28}{13}} {\\left(\\frac{r_{S}}{r} - 1\\right)} \\mathrm{d} t\\otimes \\mathrm{d} t + \\left( -\\frac{{\\left(\\frac{13}{48} \\, E^{2} r^{2} \\sin\\left({\\theta}\\right)^{2} + 1\\right)}^{\\frac{28}{13}}}{\\frac{r_{S}}{r} - 1} \\right) \\mathrm{d} r\\otimes \\mathrm{d} r + {\\left(\\frac{13}{48} \\, E^{2} r^{2} \\sin\\left({\\theta}\\right)^{2} + 1\\right)}^{\\frac{28}{13}} r^{2} \\mathrm{d} {\\theta}\\otimes \\mathrm{d} {\\theta} + \\frac{r^{2} \\sin\\left({\\theta}\\right)^{2}}{{\\left(\\frac{13}{48} \\, E^{2} r^{2} \\sin\\left({\\theta}\\right)^{2} + 1\\right)}^{\\frac{20}{13}}} \\mathrm{d} {\\varphi}\\otimes \\mathrm{d} {\\varphi}$$"
      ],
      "text/plain": [
       "g = (13/48*E^2*r^2*sin(th)^2 + 1)^(28/13)*(r_S/r - 1) dt⊗dt - (13/48*E^2*r^2*sin(th)^2 + 1)^(28/13)/(r_S/r - 1) dr⊗dr + (13/48*E^2*r^2*sin(th)^2 + 1)^(28/13)*r^2 dth⊗dth + r^2*sin(th)^2/(13/48*E^2*r^2*sin(th)^2 + 1)^(20/13) dph⊗dph"
      ]
     },
     "execution_count": 7,
     "metadata": {},
     "output_type": "execute_result"
    }
   ],
   "source": [
    "g.display()"
   ]
  },
  {
   "cell_type": "code",
   "execution_count": 8,
   "id": "4d750d76",
   "metadata": {},
   "outputs": [
    {
     "data": {
      "text/html": [
       "<html><script type=\"math/tex; mode=display\">\\newcommand{\\Bold}[1]{\\mathbf{#1}}A = -E r {\\left(\\frac{r_{S}}{r} - 1\\right)} \\cos\\left({\\theta}\\right) \\mathrm{d} t</script></html>"
      ],
      "text/latex": [
       "$$\\newcommand{\\Bold}[1]{\\mathbf{#1}}A = -E r {\\left(\\frac{r_{S}}{r} - 1\\right)} \\cos\\left({\\theta}\\right) \\mathrm{d} t$$"
      ],
      "text/plain": [
       "A = -E*r*(r_S/r - 1)*cos(th) dt"
      ]
     },
     "execution_count": 8,
     "metadata": {},
     "output_type": "execute_result"
    }
   ],
   "source": [
    "pot_vec.display()"
   ]
  },
  {
   "cell_type": "code",
   "execution_count": 9,
   "id": "be1097ba",
   "metadata": {},
   "outputs": [],
   "source": [
    "nab = g.connection() "
   ]
  },
  {
   "cell_type": "code",
   "execution_count": 10,
   "id": "b434993a",
   "metadata": {},
   "outputs": [],
   "source": [
    "Ric = g.ricci() #Ricci tensor\n",
    "R = g.ricci_scalar() #Ricci scalar\n",
    "G = Ric-R*g/2 #Einstein tensor"
   ]
  },
  {
   "cell_type": "markdown",
   "id": "fc69b5eb",
   "metadata": {},
   "source": [
    "## Electromagnetic field equation"
   ]
  },
  {
   "cell_type": "code",
   "execution_count": 11,
   "id": "a646ecd9",
   "metadata": {},
   "outputs": [],
   "source": [
    "DF = nab(pot_vec) "
   ]
  },
  {
   "cell_type": "code",
   "execution_count": 12,
   "id": "25b6d3d4",
   "metadata": {},
   "outputs": [
    {
     "data": {
      "text/html": [
       "<html><script type=\"math/tex; mode=display\">\\newcommand{\\Bold}[1]{\\mathbf{#1}}E \\cos\\left({\\theta}\\right) \\mathrm{d} t\\otimes \\mathrm{d} r -{\\left(E r - E r_{S}\\right)} \\sin\\left({\\theta}\\right) \\mathrm{d} t\\otimes \\mathrm{d} {\\theta} -E \\cos\\left({\\theta}\\right) \\mathrm{d} r\\otimes \\mathrm{d} t + {\\left(E r - E r_{S}\\right)} \\sin\\left({\\theta}\\right) \\mathrm{d} {\\theta}\\otimes \\mathrm{d} t</script></html>"
      ],
      "text/latex": [
       "$$\\newcommand{\\Bold}[1]{\\mathbf{#1}}E \\cos\\left({\\theta}\\right) \\mathrm{d} t\\otimes \\mathrm{d} r -{\\left(E r - E r_{S}\\right)} \\sin\\left({\\theta}\\right) \\mathrm{d} t\\otimes \\mathrm{d} {\\theta} -E \\cos\\left({\\theta}\\right) \\mathrm{d} r\\otimes \\mathrm{d} t + {\\left(E r - E r_{S}\\right)} \\sin\\left({\\theta}\\right) \\mathrm{d} {\\theta}\\otimes \\mathrm{d} t$$"
      ],
      "text/plain": [
       "E*cos(th) dt⊗dr - (E*r - E*r_S)*sin(th) dt⊗dth - E*cos(th) dr⊗dt + (E*r - E*r_S)*sin(th) dth⊗dt"
      ]
     },
     "execution_count": 12,
     "metadata": {},
     "output_type": "execute_result"
    }
   ],
   "source": [
    "F=(DF['_ij']-DF['_ji'])._tensor\n",
    "Fuu = F.up(g)\n",
    "F.display()"
   ]
  },
  {
   "cell_type": "code",
   "execution_count": 13,
   "id": "048ff5e3",
   "metadata": {},
   "outputs": [
    {
     "data": {
      "text/html": [
       "<html><script type=\"math/tex; mode=display\">\\newcommand{\\Bold}[1]{\\mathbf{#1}}-\\frac{10616832 \\cdot 3^{\\frac{4}{13}} 2^{\\frac{3}{13}} {\\left(r_{S} \\sin\\left({\\theta}\\right)^{2} - r\\right)} E^{2}}{{\\left(13 \\, E^{2} r^{2} \\sin\\left({\\theta}\\right)^{2} + 48\\right)}^{\\frac{56}{13}} r}</script></html>"
      ],
      "text/latex": [
       "$$\\newcommand{\\Bold}[1]{\\mathbf{#1}}-\\frac{10616832 \\cdot 3^{\\frac{4}{13}} 2^{\\frac{3}{13}} {\\left(r_{S} \\sin\\left({\\theta}\\right)^{2} - r\\right)} E^{2}}{{\\left(13 \\, E^{2} r^{2} \\sin\\left({\\theta}\\right)^{2} + 48\\right)}^{\\frac{56}{13}} r}$$"
      ],
      "text/plain": [
       "-10616832*3^(4/13)*2^(3/13)*(r_S*sin(th)^2 - r)*E^2/((13*E^2*r^2*sin(th)^2 + 48)^(56/13)*r)"
      ]
     },
     "execution_count": 13,
     "metadata": {},
     "output_type": "execute_result"
    }
   ],
   "source": [
    "Lm = -F['_ij']*F.up(g)['^ij']/2\n",
    "# Lm.display()\n",
    "Lm.expr().canonicalize_radical().factor()"
   ]
  },
  {
   "cell_type": "code",
   "execution_count": 14,
   "id": "fee7acb0",
   "metadata": {},
   "outputs": [
    {
     "data": {
      "text/html": [
       "<html><script type=\"math/tex; mode=display\">\\newcommand{\\Bold}[1]{\\mathbf{#1}}1</script></html>"
      ],
      "text/latex": [
       "$$\\newcommand{\\Bold}[1]{\\mathbf{#1}}1$$"
      ],
      "text/plain": [
       "1"
      ]
     },
     "execution_count": 14,
     "metadata": {},
     "output_type": "execute_result"
    }
   ],
   "source": [
    "(221184*3**(5/13)*2**(7/13)/48**(44/13)).canonicalize_radical()"
   ]
  },
  {
   "cell_type": "code",
   "execution_count": 15,
   "id": "f494dd08",
   "metadata": {},
   "outputs": [
    {
     "data": {
      "text/html": [
       "<html><script type=\"math/tex; mode=display\">\\newcommand{\\Bold}[1]{\\mathbf{#1}}\\mathrm{True}</script></html>"
      ],
      "text/latex": [
       "$$\\newcommand{\\Bold}[1]{\\mathbf{#1}}\\mathrm{True}$$"
      ],
      "text/plain": [
       "True"
      ]
     },
     "execution_count": 15,
     "metadata": {},
     "output_type": "execute_result"
    }
   ],
   "source": [
    "\"\"\"Maxwell's equation\"\"\"\n",
    "\n",
    "N = nab(Lm / R *F.up(g))['_i^ij']\n",
    "N == 0"
   ]
  },
  {
   "cell_type": "markdown",
   "id": "af0e898c",
   "metadata": {},
   "source": [
    "## Metric field equation"
   ]
  },
  {
   "cell_type": "code",
   "execution_count": 16,
   "id": "164e9bfc",
   "metadata": {},
   "outputs": [
    {
     "data": {
      "text/html": [
       "<html><script type=\"math/tex; mode=display\">\\newcommand{\\Bold}[1]{\\mathbf{#1}}\\mathrm{True}</script></html>"
      ],
      "text/latex": [
       "$$\\newcommand{\\Bold}[1]{\\mathbf{#1}}\\mathrm{True}$$"
      ],
      "text/plain": [
       "True"
      ]
     },
     "execution_count": 16,
     "metadata": {},
     "output_type": "execute_result"
    }
   ],
   "source": [
    "\"\"\"Einstein's equation\"\"\"\n",
    "\n",
    "\n",
    "T = 2*(F.up(g,1)['_i^j']*F['_kj'] + g*Lm/2) #Le tenseur énergie impuslion\n",
    "\n",
    "S = (nab(nab(Lm**2 / R**2 )) - g*(Lm**2 / R**2).dalembertian()) * R**2 / Lm**2 #Le tenseur en plus dans l'équation\n",
    "\n",
    "G == - R / Lm * T + S"
   ]
  },
  {
   "cell_type": "markdown",
   "id": "39504324",
   "metadata": {},
   "source": [
    "## Check scalar-field form"
   ]
  },
  {
   "cell_type": "code",
   "execution_count": 17,
   "id": "926d369b",
   "metadata": {},
   "outputs": [
    {
     "data": {
      "text/html": [
       "<html><script type=\"math/tex; mode=display\">\\newcommand{\\Bold}[1]{\\mathbf{#1}}\\mathrm{True}</script></html>"
      ],
      "text/latex": [
       "$$\\newcommand{\\Bold}[1]{\\mathbf{#1}}\\mathrm{True}$$"
      ],
      "text/plain": [
       "True"
      ]
     },
     "execution_count": 17,
     "metadata": {},
     "output_type": "execute_result"
    }
   ],
   "source": [
    "\"Test that Lambda**(-2/13) + Lm/R == 0\"\n",
    "Lambda**(-2/13) + Lm/R == 0"
   ]
  },
  {
   "cell_type": "markdown",
   "id": "79190037",
   "metadata": {},
   "source": [
    "## Properties"
   ]
  },
  {
   "cell_type": "code",
   "execution_count": 18,
   "id": "2d141502",
   "metadata": {},
   "outputs": [
    {
     "data": {
      "text/html": [
       "<html><script type=\"math/tex; mode=display\">\\newcommand{\\Bold}[1]{\\mathbf{#1}}-\\frac{10616832 \\cdot 3^{\\frac{4}{13}} 2^{\\frac{3}{13}} {\\left(r_{S} \\sin\\left({\\theta}\\right)^{2} - r\\right)} E^{2}}{{\\left(13 \\, E^{2} r^{2} \\sin\\left({\\theta}\\right)^{2} + 48\\right)}^{\\frac{56}{13}} r}</script></html>"
      ],
      "text/latex": [
       "$$\\newcommand{\\Bold}[1]{\\mathbf{#1}}-\\frac{10616832 \\cdot 3^{\\frac{4}{13}} 2^{\\frac{3}{13}} {\\left(r_{S} \\sin\\left({\\theta}\\right)^{2} - r\\right)} E^{2}}{{\\left(13 \\, E^{2} r^{2} \\sin\\left({\\theta}\\right)^{2} + 48\\right)}^{\\frac{56}{13}} r}$$"
      ],
      "text/plain": [
       "-10616832*3^(4/13)*2^(3/13)*(r_S*sin(th)^2 - r)*E^2/((13*E^2*r^2*sin(th)^2 + 48)^(56/13)*r)"
      ]
     },
     "execution_count": 18,
     "metadata": {},
     "output_type": "execute_result"
    }
   ],
   "source": [
    "# Lm.expr()\n",
    "Lm.expr().canonicalize_radical().factor().factor()"
   ]
  },
  {
   "cell_type": "code",
   "execution_count": 19,
   "id": "78721f76",
   "metadata": {},
   "outputs": [
    {
     "data": {
      "text/html": [
       "<html><script type=\"math/tex; mode=display\">\\newcommand{\\Bold}[1]{\\mathbf{#1}}1</script></html>"
      ],
      "text/latex": [
       "$$\\newcommand{\\Bold}[1]{\\mathbf{#1}}1$$"
      ],
      "text/plain": [
       "1"
      ]
     },
     "execution_count": 19,
     "metadata": {},
     "output_type": "execute_result"
    }
   ],
   "source": [
    "(10616832 * 3**(4/13) * 2**(3/13) / 48**(56/13)).canonicalize_radical()"
   ]
  },
  {
   "cell_type": "markdown",
   "id": "b8c8702c",
   "metadata": {},
   "source": [
    "$$\\Rightarrow \\mathcal{L}_m = E^2 \\Lambda^{-56/13}\\left(1- \\frac{r_S~\\sin^2 \\theta}{r}\\right)$$"
   ]
  },
  {
   "cell_type": "code",
   "execution_count": 20,
   "id": "a143719f",
   "metadata": {},
   "outputs": [
    {
     "data": {
      "text/html": [
       "<html><script type=\"math/tex; mode=display\">\\newcommand{\\Bold}[1]{\\mathbf{#1}}\\frac{5308416 \\cdot 3^{\\frac{2}{13}} 2^{\\frac{8}{13}} {\\left(r_{S} \\sin\\left({\\theta}\\right)^{2} - r\\right)} E^{2}}{{\\left(13 \\, E^{2} r^{2} \\sin\\left({\\theta}\\right)^{2} + 48\\right)}^{\\frac{54}{13}} r}</script></html>"
      ],
      "text/latex": [
       "$$\\newcommand{\\Bold}[1]{\\mathbf{#1}}\\frac{5308416 \\cdot 3^{\\frac{2}{13}} 2^{\\frac{8}{13}} {\\left(r_{S} \\sin\\left({\\theta}\\right)^{2} - r\\right)} E^{2}}{{\\left(13 \\, E^{2} r^{2} \\sin\\left({\\theta}\\right)^{2} + 48\\right)}^{\\frac{54}{13}} r}$$"
      ],
      "text/plain": [
       "5308416*3^(2/13)*2^(8/13)*(r_S*sin(th)^2 - r)*E^2/((13*E^2*r^2*sin(th)^2 + 48)^(54/13)*r)"
      ]
     },
     "execution_count": 20,
     "metadata": {},
     "output_type": "execute_result"
    }
   ],
   "source": [
    "# R.expr()\n",
    "R.expr().canonicalize_radical().factor().factor()"
   ]
  },
  {
   "cell_type": "code",
   "execution_count": 21,
   "id": "41ab7ddd",
   "metadata": {},
   "outputs": [
    {
     "data": {
      "text/html": [
       "<html><script type=\"math/tex; mode=display\">\\newcommand{\\Bold}[1]{\\mathbf{#1}}1</script></html>"
      ],
      "text/latex": [
       "$$\\newcommand{\\Bold}[1]{\\mathbf{#1}}1$$"
      ],
      "text/plain": [
       "1"
      ]
     },
     "execution_count": 21,
     "metadata": {},
     "output_type": "execute_result"
    }
   ],
   "source": [
    "(5308416*3**(2/13)*2**(8/13) / 48**(54/13)).canonicalize_radical() "
   ]
  },
  {
   "cell_type": "markdown",
   "id": "835230a5",
   "metadata": {},
   "source": [
    "$$\\Rightarrow R = -E^2 \\Lambda^{-54/13}\\left(1- \\frac{r_S~\\sin^2 \\theta}{r}\\right)$$"
   ]
  },
  {
   "cell_type": "markdown",
   "id": "8b731463",
   "metadata": {},
   "source": [
    "### Petrov classification"
   ]
  },
  {
   "cell_type": "code",
   "execution_count": 22,
   "id": "82876ef2",
   "metadata": {},
   "outputs": [],
   "source": [
    "C = (g.weyl()).down(g)"
   ]
  },
  {
   "cell_type": "code",
   "execution_count": 23,
   "id": "736dc6c3",
   "metadata": {},
   "outputs": [],
   "source": [
    "\"\"\"null tetrad definition\"\"\"\n",
    "\n",
    "K = M.one_form({X.frame(): [sqrt(-g[0,0]/2), sqrt(g[1,1]/2), 0, 0]})\n",
    "L = M.one_form({X.frame(): [sqrt(-g[0,0]/2), -sqrt(g[1,1]/2), 0, 0]})\n",
    "Mb = M.one_form({X.frame(): [0, 0, sqrt(g[2,2]/2), i*sqrt(g[3,3]/2)]})\n",
    "MB = M.one_form({X.frame(): [0, 0, sqrt(g[2,2]/2), -i*sqrt(g[3,3]/2)]})\n",
    "k = K.up(g)\n",
    "l = L.up(g)\n",
    "m = Mb.up(g)\n",
    "mb = MB.up(g)"
   ]
  },
  {
   "cell_type": "markdown",
   "id": "7de9b715",
   "metadata": {},
   "source": [
    "### Verification of null tetrad"
   ]
  },
  {
   "cell_type": "code",
   "execution_count": 24,
   "id": "bbd207be",
   "metadata": {},
   "outputs": [
    {
     "data": {
      "text/html": [
       "<html><script type=\"math/tex; mode=display\">\\newcommand{\\Bold}[1]{\\mathbf{#1}}0</script></html>"
      ],
      "text/latex": [
       "$$\\newcommand{\\Bold}[1]{\\mathbf{#1}}0$$"
      ],
      "text/plain": [
       "0"
      ]
     },
     "execution_count": 24,
     "metadata": {},
     "output_type": "execute_result"
    }
   ],
   "source": [
    "g(k,k).expr()"
   ]
  },
  {
   "cell_type": "code",
   "execution_count": 25,
   "id": "627648fc",
   "metadata": {},
   "outputs": [
    {
     "data": {
      "text/html": [
       "<html><script type=\"math/tex; mode=display\">\\newcommand{\\Bold}[1]{\\mathbf{#1}}0</script></html>"
      ],
      "text/latex": [
       "$$\\newcommand{\\Bold}[1]{\\mathbf{#1}}0$$"
      ],
      "text/plain": [
       "0"
      ]
     },
     "execution_count": 25,
     "metadata": {},
     "output_type": "execute_result"
    }
   ],
   "source": [
    "g(l,l).expr()"
   ]
  },
  {
   "cell_type": "code",
   "execution_count": 26,
   "id": "f2a451bc",
   "metadata": {},
   "outputs": [
    {
     "data": {
      "text/html": [
       "<html><script type=\"math/tex; mode=display\">\\newcommand{\\Bold}[1]{\\mathbf{#1}}0</script></html>"
      ],
      "text/latex": [
       "$$\\newcommand{\\Bold}[1]{\\mathbf{#1}}0$$"
      ],
      "text/plain": [
       "0"
      ]
     },
     "execution_count": 26,
     "metadata": {},
     "output_type": "execute_result"
    }
   ],
   "source": [
    "g(m,m).expr()"
   ]
  },
  {
   "cell_type": "code",
   "execution_count": 27,
   "id": "ff07fe0e",
   "metadata": {},
   "outputs": [
    {
     "data": {
      "text/html": [
       "<html><script type=\"math/tex; mode=display\">\\newcommand{\\Bold}[1]{\\mathbf{#1}}0</script></html>"
      ],
      "text/latex": [
       "$$\\newcommand{\\Bold}[1]{\\mathbf{#1}}0$$"
      ],
      "text/plain": [
       "0"
      ]
     },
     "execution_count": 27,
     "metadata": {},
     "output_type": "execute_result"
    }
   ],
   "source": [
    "g(mb,mb).expr()"
   ]
  },
  {
   "cell_type": "code",
   "execution_count": 28,
   "id": "5e2aebf0",
   "metadata": {},
   "outputs": [
    {
     "data": {
      "text/html": [
       "<html><script type=\"math/tex; mode=display\">\\newcommand{\\Bold}[1]{\\mathbf{#1}}-1</script></html>"
      ],
      "text/latex": [
       "$$\\newcommand{\\Bold}[1]{\\mathbf{#1}}-1$$"
      ],
      "text/plain": [
       "-1"
      ]
     },
     "execution_count": 28,
     "metadata": {},
     "output_type": "execute_result"
    }
   ],
   "source": [
    "g(k,l).expr()"
   ]
  },
  {
   "cell_type": "code",
   "execution_count": 29,
   "id": "4bcd1331",
   "metadata": {},
   "outputs": [
    {
     "data": {
      "text/html": [
       "<html><script type=\"math/tex; mode=display\">\\newcommand{\\Bold}[1]{\\mathbf{#1}}1</script></html>"
      ],
      "text/latex": [
       "$$\\newcommand{\\Bold}[1]{\\mathbf{#1}}1$$"
      ],
      "text/plain": [
       "1"
      ]
     },
     "execution_count": 29,
     "metadata": {},
     "output_type": "execute_result"
    }
   ],
   "source": [
    "g(m,mb).expr()"
   ]
  },
  {
   "cell_type": "markdown",
   "id": "43c6e9ea",
   "metadata": {},
   "source": [
    "### Computation of the Weyl scalars"
   ]
  },
  {
   "cell_type": "code",
   "execution_count": 30,
   "id": "46cae55d",
   "metadata": {},
   "outputs": [
    {
     "data": {
      "text/html": [
       "<html><script type=\"math/tex; mode=display\">\\newcommand{\\Bold}[1]{\\mathbf{#1}}\\frac{27648 \\cdot 3^{\\frac{2}{13}} 2^{\\frac{8}{13}} {\\left(35 \\, E^{2} r^{2} \\sin\\left({\\theta}\\right)^{2} - 144\\right)} E^{2} {\\left(r - r_{S}\\right)} \\sin\\left({\\theta}\\right)^{2}}{{\\left(13 \\, E^{2} r^{2} \\sin\\left({\\theta}\\right)^{2} + 48\\right)}^{\\frac{54}{13}} r}</script></html>"
      ],
      "text/latex": [
       "$$\\newcommand{\\Bold}[1]{\\mathbf{#1}}\\frac{27648 \\cdot 3^{\\frac{2}{13}} 2^{\\frac{8}{13}} {\\left(35 \\, E^{2} r^{2} \\sin\\left({\\theta}\\right)^{2} - 144\\right)} E^{2} {\\left(r - r_{S}\\right)} \\sin\\left({\\theta}\\right)^{2}}{{\\left(13 \\, E^{2} r^{2} \\sin\\left({\\theta}\\right)^{2} + 48\\right)}^{\\frac{54}{13}} r}$$"
      ],
      "text/plain": [
       "27648*3^(2/13)*2^(8/13)*(35*E^2*r^2*sin(th)^2 - 144)*E^2*(r - r_S)*sin(th)^2/((13*E^2*r^2*sin(th)^2 + 48)^(54/13)*r)"
      ]
     },
     "execution_count": 30,
     "metadata": {},
     "output_type": "execute_result"
    }
   ],
   "source": [
    "P00 = k*m*k*m\n",
    "P0 = C['_{abcd}']*P00['^{abcd}']\n",
    "P0.expr().canonicalize_radical().factor()"
   ]
  },
  {
   "cell_type": "code",
   "execution_count": 31,
   "id": "3da4ab05",
   "metadata": {},
   "outputs": [
    {
     "data": {
      "text/html": [
       "<html><script type=\"math/tex; mode=display\">\\newcommand{\\Bold}[1]{\\mathbf{#1}}\\frac{27648 \\cdot 3^{\\frac{2}{13}} 2^{\\frac{8}{13}} {\\left(35 \\, E^{2} r^{2} \\sin\\left({\\theta}\\right)^{2} - 144\\right)} E^{2} \\sqrt{r - r_{S}} \\cos\\left({\\theta}\\right) \\sin\\left({\\theta}\\right)}{{\\left(13 \\, E^{2} r^{2} \\sin\\left({\\theta}\\right)^{2} + 48\\right)}^{\\frac{54}{13}} \\sqrt{r}}</script></html>"
      ],
      "text/latex": [
       "$$\\newcommand{\\Bold}[1]{\\mathbf{#1}}\\frac{27648 \\cdot 3^{\\frac{2}{13}} 2^{\\frac{8}{13}} {\\left(35 \\, E^{2} r^{2} \\sin\\left({\\theta}\\right)^{2} - 144\\right)} E^{2} \\sqrt{r - r_{S}} \\cos\\left({\\theta}\\right) \\sin\\left({\\theta}\\right)}{{\\left(13 \\, E^{2} r^{2} \\sin\\left({\\theta}\\right)^{2} + 48\\right)}^{\\frac{54}{13}} \\sqrt{r}}$$"
      ],
      "text/plain": [
       "27648*3^(2/13)*2^(8/13)*(35*E^2*r^2*sin(th)^2 - 144)*E^2*sqrt(r - r_S)*cos(th)*sin(th)/((13*E^2*r^2*sin(th)^2 + 48)^(54/13)*sqrt(r))"
      ]
     },
     "execution_count": 31,
     "metadata": {},
     "output_type": "execute_result"
    }
   ],
   "source": [
    "P11 = k*l*k*m\n",
    "P1 = C['_{abcd}']*P11['^{abcd}']\n",
    "P1.expr().canonicalize_radical().factor()"
   ]
  },
  {
   "cell_type": "code",
   "execution_count": 32,
   "id": "a0c620c8",
   "metadata": {},
   "outputs": [
    {
     "data": {
      "text/html": [
       "<html><script type=\"math/tex; mode=display\">\\newcommand{\\Bold}[1]{\\mathbf{#1}}-\\frac{1152 \\cdot 3^{\\frac{2}{13}} 2^{\\frac{8}{13}} {\\left(840 \\, E^{4} r^{5} \\sin\\left({\\theta}\\right)^{4} - 423 \\, E^{4} r^{4} r_{S} \\sin\\left({\\theta}\\right)^{4} - 560 \\, E^{4} r^{5} \\sin\\left({\\theta}\\right)^{2} - 3456 \\, E^{2} r^{3} \\sin\\left({\\theta}\\right)^{2} + 1248 \\, E^{2} r^{2} r_{S} \\sin\\left({\\theta}\\right)^{2} + 2304 \\, E^{2} r^{3} + 2304 \\, r_{S}\\right)}}{{\\left(13 \\, E^{2} r^{2} \\sin\\left({\\theta}\\right)^{2} + 48\\right)}^{\\frac{54}{13}} r^{3}}</script></html>"
      ],
      "text/latex": [
       "$$\\newcommand{\\Bold}[1]{\\mathbf{#1}}-\\frac{1152 \\cdot 3^{\\frac{2}{13}} 2^{\\frac{8}{13}} {\\left(840 \\, E^{4} r^{5} \\sin\\left({\\theta}\\right)^{4} - 423 \\, E^{4} r^{4} r_{S} \\sin\\left({\\theta}\\right)^{4} - 560 \\, E^{4} r^{5} \\sin\\left({\\theta}\\right)^{2} - 3456 \\, E^{2} r^{3} \\sin\\left({\\theta}\\right)^{2} + 1248 \\, E^{2} r^{2} r_{S} \\sin\\left({\\theta}\\right)^{2} + 2304 \\, E^{2} r^{3} + 2304 \\, r_{S}\\right)}}{{\\left(13 \\, E^{2} r^{2} \\sin\\left({\\theta}\\right)^{2} + 48\\right)}^{\\frac{54}{13}} r^{3}}$$"
      ],
      "text/plain": [
       "-1152*3^(2/13)*2^(8/13)*(840*E^4*r^5*sin(th)^4 - 423*E^4*r^4*r_S*sin(th)^4 - 560*E^4*r^5*sin(th)^2 - 3456*E^2*r^3*sin(th)^2 + 1248*E^2*r^2*r_S*sin(th)^2 + 2304*E^2*r^3 + 2304*r_S)/((13*E^2*r^2*sin(th)^2 + 48)^(54/13)*r^3)"
      ]
     },
     "execution_count": 32,
     "metadata": {},
     "output_type": "execute_result"
    }
   ],
   "source": [
    "P22 = k*m*mb*l\n",
    "P2 = C['_{abcd}']*P22['^{abcd}']\n",
    "P2.expr().canonicalize_radical().factor()"
   ]
  },
  {
   "cell_type": "code",
   "execution_count": 33,
   "id": "839dda00",
   "metadata": {},
   "outputs": [
    {
     "data": {
      "text/html": [
       "<html><script type=\"math/tex; mode=display\">\\newcommand{\\Bold}[1]{\\mathbf{#1}}-\\frac{27648 \\cdot 3^{\\frac{2}{13}} 2^{\\frac{8}{13}} {\\left(35 \\, E^{2} r^{2} \\sin\\left({\\theta}\\right)^{2} - 144\\right)} E^{2} \\sqrt{r - r_{S}} \\cos\\left({\\theta}\\right) \\sin\\left({\\theta}\\right)}{{\\left(13 \\, E^{2} r^{2} \\sin\\left({\\theta}\\right)^{2} + 48\\right)}^{\\frac{54}{13}} \\sqrt{r}}</script></html>"
      ],
      "text/latex": [
       "$$\\newcommand{\\Bold}[1]{\\mathbf{#1}}-\\frac{27648 \\cdot 3^{\\frac{2}{13}} 2^{\\frac{8}{13}} {\\left(35 \\, E^{2} r^{2} \\sin\\left({\\theta}\\right)^{2} - 144\\right)} E^{2} \\sqrt{r - r_{S}} \\cos\\left({\\theta}\\right) \\sin\\left({\\theta}\\right)}{{\\left(13 \\, E^{2} r^{2} \\sin\\left({\\theta}\\right)^{2} + 48\\right)}^{\\frac{54}{13}} \\sqrt{r}}$$"
      ],
      "text/plain": [
       "-27648*3^(2/13)*2^(8/13)*(35*E^2*r^2*sin(th)^2 - 144)*E^2*sqrt(r - r_S)*cos(th)*sin(th)/((13*E^2*r^2*sin(th)^2 + 48)^(54/13)*sqrt(r))"
      ]
     },
     "execution_count": 33,
     "metadata": {},
     "output_type": "execute_result"
    }
   ],
   "source": [
    "P33 = l*k*l*mb\n",
    "P3 = C['_{abcd}']*P33['^{abcd}']\n",
    "P3.expr().canonicalize_radical().factor()"
   ]
  },
  {
   "cell_type": "code",
   "execution_count": 34,
   "id": "3dd9f27a",
   "metadata": {},
   "outputs": [
    {
     "data": {
      "text/html": [
       "<html><script type=\"math/tex; mode=display\">\\newcommand{\\Bold}[1]{\\mathbf{#1}}\\frac{27648 \\cdot 3^{\\frac{2}{13}} 2^{\\frac{8}{13}} {\\left(35 \\, E^{2} r^{2} \\sin\\left({\\theta}\\right)^{2} - 144\\right)} E^{2} {\\left(r - r_{S}\\right)} \\sin\\left({\\theta}\\right)^{2}}{{\\left(13 \\, E^{2} r^{2} \\sin\\left({\\theta}\\right)^{2} + 48\\right)}^{\\frac{54}{13}} r}</script></html>"
      ],
      "text/latex": [
       "$$\\newcommand{\\Bold}[1]{\\mathbf{#1}}\\frac{27648 \\cdot 3^{\\frac{2}{13}} 2^{\\frac{8}{13}} {\\left(35 \\, E^{2} r^{2} \\sin\\left({\\theta}\\right)^{2} - 144\\right)} E^{2} {\\left(r - r_{S}\\right)} \\sin\\left({\\theta}\\right)^{2}}{{\\left(13 \\, E^{2} r^{2} \\sin\\left({\\theta}\\right)^{2} + 48\\right)}^{\\frac{54}{13}} r}$$"
      ],
      "text/plain": [
       "27648*3^(2/13)*2^(8/13)*(35*E^2*r^2*sin(th)^2 - 144)*E^2*(r - r_S)*sin(th)^2/((13*E^2*r^2*sin(th)^2 + 48)^(54/13)*r)"
      ]
     },
     "execution_count": 34,
     "metadata": {},
     "output_type": "execute_result"
    }
   ],
   "source": [
    "P44 = l*mb*l*mb\n",
    "P4 = C['_{abcd}']*P44['^{abcd}']\n",
    "P4.expr().canonicalize_radical().factor()"
   ]
  },
  {
   "cell_type": "code",
   "execution_count": null,
   "id": "1cf6be24",
   "metadata": {},
   "outputs": [],
   "source": []
  }
 ],
 "metadata": {
  "kernelspec": {
   "display_name": "SageMath 9.5",
   "language": "sage",
   "name": "sagemath"
  },
  "language_info": {
   "codemirror_mode": {
    "name": "ipython",
    "version": 3
   },
   "file_extension": ".py",
   "mimetype": "text/x-python",
   "name": "python",
   "nbconvert_exporter": "python",
   "pygments_lexer": "ipython3",
   "version": "3.10.12"
  }
 },
 "nbformat": 4,
 "nbformat_minor": 5
}
