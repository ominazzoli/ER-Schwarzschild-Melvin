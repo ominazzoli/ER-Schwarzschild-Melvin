{
 "cells": [
  {
   "cell_type": "markdown",
   "id": "a974c710",
   "metadata": {},
   "source": [
    "# Schwarzschild black-hole immersed in an electric field\n",
    "by Olivier Minazzoli and Maxime Wavasseur"
   ]
  },
  {
   "cell_type": "markdown",
   "id": "d7737be3",
   "metadata": {},
   "source": [
    "The action of Entanled Relativiy reads as follows"
   ]
  },
  {
   "cell_type": "markdown",
   "id": "2cc46a11",
   "metadata": {},
   "source": [
    "<!-- $S = \\int \\mathrm{d}^4 x\\sqrt{-g} \\left( \\frac{\\Phi R}{2\\kappa} + \\sqrt{\\Phi} \\mathcal{L}_m \\right)$ -->\n",
    "$S = -\\frac{1}{2}\\int \\mathrm{d}^4 x\\sqrt{-g} \\frac{\\mathcal{L}_m^2}{R}$"
   ]
  },
  {
   "cell_type": "markdown",
   "id": "11318228",
   "metadata": {},
   "source": [
    "The fields equations are"
   ]
  },
  {
   "cell_type": "markdown",
   "id": "2e21150b",
   "metadata": {},
   "source": [
    "<!-- $G_{\\mu\\nu} = \\frac{\\kappa}{\\sqrt{\\Phi}}T_{\\mu\\nu} + \\frac{1}{\\Phi} \\left( \\nabla_\\mu \\nabla_\\nu - g_{\\mu\\nu} \\Box \\right) \\Phi$ -->\n",
    "$G_{\\mu\\nu} = -\\frac{R}{\\mathcal{L}_m}T_{\\mu\\nu} + \\frac{R^2}{\\mathcal{L}_m^2} \\left( \\nabla_\\mu \\nabla_\\nu - g_{\\mu\\nu} \\Box \\right) \\frac{\\mathcal{L}_m^2}{R^2}$,"
   ]
  },
  {
   "cell_type": "markdown",
   "id": "f3da02d8",
   "metadata": {},
   "source": [
    "and $\\nabla_\\sigma \\left(\\frac{\\mathcal{L}}{R} F^{\\mu \\sigma}\\right) = 0$,"
   ]
  },
  {
   "cell_type": "markdown",
   "id": "7ce7c30a",
   "metadata": {},
   "source": [
    "with $\\mathcal{L}_m = -\\frac{1}{2} F_{\\mu\\nu}F^{\\mu\\nu}$."
   ]
  },
  {
   "cell_type": "markdown",
   "id": "e9b1e1c0",
   "metadata": {},
   "source": [
    "The solution for the metric is\n",
    "$$ds^2 = \\Lambda^{\\frac{28}{13}} \\left[\\left(1 - \\frac{r_S}{r}\\right)^{-1}dr^2 + r^2 d\\theta^2 - \\left(1 - \\frac{r_S}{r}\\right) dt^2 \\right] + \\Lambda^{-\\frac{20}{13}} r^2 sin^2(\\theta) d\\varphi^2,$$\n",
    "with\n",
    "$$\\Lambda = 1 + \\frac{13}{48} E^2 r^2 sin^2(\\theta).$$\n",
    "\n",
    "The solution for the electromagnetic potential 4-vector is\n",
    "$$A_t = E \\left(1-\\frac{r_S}{r} \\right) r \\cos \\theta.$$\n",
    "\n",
    "The solution is such that\n",
    "$$-\\frac{\\mathcal{L}_m}{R} = \\Lambda^{-2/13}.$$"
   ]
  },
  {
   "cell_type": "markdown",
   "id": "c6a73b2b",
   "metadata": {},
   "source": [
    "Below, we verify that solution."
   ]
  },
  {
   "cell_type": "code",
   "execution_count": 1,
   "id": "e408afb6",
   "metadata": {},
   "outputs": [
    {
     "data": {
      "text/plain": [
       "'SageMath version 9.5, Release Date: 2022-01-30'"
      ]
     },
     "execution_count": 1,
     "metadata": {},
     "output_type": "execute_result"
    }
   ],
   "source": [
    "version()"
   ]
  },
  {
   "cell_type": "raw",
   "id": "08e67c7a",
   "metadata": {},
   "source": [
    "Our code as been run on 'SageMath version 9.5, Release Date: 2022-01-30'"
   ]
  },
  {
   "cell_type": "code",
   "execution_count": 2,
   "id": "112af488",
   "metadata": {},
   "outputs": [],
   "source": [
    "%display latex"
   ]
  },
  {
   "cell_type": "code",
   "execution_count": 3,
   "id": "1a2f3ec7",
   "metadata": {},
   "outputs": [],
   "source": [
    "from sage.manifolds.operators import dalembertian\n",
    "from sage.manifolds.operators import laplacian\n",
    "from sage.manifolds.operators import grad"
   ]
  },
  {
   "cell_type": "code",
   "execution_count": 4,
   "id": "52764e53",
   "metadata": {},
   "outputs": [
    {
     "name": "stdout",
     "output_type": "stream",
     "text": [
      "4-dimensional Lorentzian manifold M\n"
     ]
    },
    {
     "name": "stderr",
     "output_type": "stream",
     "text": [
      "/usr/lib/python3/dist-packages/scipy/__init__.py:146: UserWarning: A NumPy version >=1.17.3 and <1.25.0 is required for this version of SciPy (detected version 1.26.4\n",
      "  warnings.warn(f\"A NumPy version >={np_minversion} and <{np_maxversion}\"\n"
     ]
    }
   ],
   "source": [
    "M = Manifold(4, 'M', structure='Lorentzian')\n",
    "print(M)"
   ]
  },
  {
   "cell_type": "code",
   "execution_count": 5,
   "id": "0ca83434",
   "metadata": {},
   "outputs": [],
   "source": [
    "X.<t,r,th,ph> = M.chart(r\"t r:(0,+oo) th:(0,pi):\\theta ph:\\varphi\")\n",
    "r_s = var('r_s')\n",
    "assume(r_s>=0)\n",
    "assume(r_s<r) # focus on exterior solution\n",
    "E = var('E')"
   ]
  },
  {
   "cell_type": "markdown",
   "id": "95510fc2",
   "metadata": {},
   "source": [
    "Let's define two functions to verify the properties of a null complex tetrad and to calculate the Weyl scalars."
   ]
  },
  {
   "cell_type": "code",
   "execution_count": 6,
   "id": "0761236b",
   "metadata": {},
   "outputs": [],
   "source": [
    "def tetrad_cond(Ld,Nd,Md,Mbar_d):\n",
    "    for c in [Ld,Nd,Md,Mbar_d]:\n",
    "        if c.tensor_type() == (1, 0):\n",
    "            raise ValueError(\"not a covariant vector\")\n",
    "    L, N, Mr, Mbar = Ld.up(g), Nd.up(g), Md.up(g), Mbar_d.up(g)\n",
    "\n",
    "    l_scalar, n_scalar, m_scalar, mbar_scalar =  (Ld.contract(0, L, 0)).expr(), (Nd.contract(0, N, 0)).expr(),\\\n",
    "                                    (Md.contract(0, Mr, 0)).expr(), (Mbar_d.contract(0, Mbar, 0)).expr()\n",
    "    lm, mn,ln, mbarm = (Ld.contract(0, Mr, 0)).expr(), (Nd.contract(0, Mr, 0)).expr(),\\\n",
    "                                    (Nd.contract(0, L, 0)).expr(), (Mbar_d.contract(0, Mr, 0)).expr()\n",
    "    show(LatexExpr(r'l^{\\mu}l_{\\mu} = '),l_scalar, LatexExpr(r'\\hspace{0.5cm} n^{\\mu}n_{\\mu} = '),\\\n",
    "         n_scalar, LatexExpr(r'\\hspace{0.5cm} m^{\\mu}m_{\\mu} = '),m_scalar, \\\n",
    "         LatexExpr(r'\\hspace{0.5cm} \\bar{m}^{\\mu}\\bar{m}_{\\mu} = '),mbar_scalar)\n",
    "\n",
    "    show(LatexExpr(r'l^{\\mu}m_{\\mu} = '),lm, LatexExpr(r'\\hspace{0.5cm} m^{\\mu}n_{\\mu} = '),\\\n",
    "         mn)\n",
    "    \n",
    "    show(LatexExpr(r'l^{\\mu}n_{\\mu} = '),ln, LatexExpr(r'\\hspace{0.5cm} m^{\\mu}\\bar{m}_{\\mu} = '),mbarm)\n",
    "\n",
    "    g_t = M.tensor_field(0, 2, name='g_t')\n",
    "    for i in range(4):\n",
    "        g_t[i,i] = -2*Ld[i]*Nd[i] + 2*Md[i]*Mbar_d[i]\n",
    "        g_t[i,i] = g_t[i,i].expr().canonicalize_radical().factor().factor()\n",
    "    show(LatexExpr(r'g_{ab} = (l_{a}n_{b} +l_{b}n_{a} -m_{a}\\bar{m}_{b}-m_{b}\\bar{m}_{a}) \\Rightarrow '), g_t - g == 0)"
   ]
  },
  {
   "cell_type": "code",
   "execution_count": 7,
   "id": "b286fb30",
   "metadata": {},
   "outputs": [],
   "source": [
    "def Weyl_sc(K,L,Mb,MB,C):\n",
    "    \n",
    "    k, l, m, mb = K.up(g), L.up(g), Mb.up(g), MB.up(g)\n",
    "    P0 = k*m*k*m\n",
    "    P1 = k*l*k*m\n",
    "    P2 = k*m*mb*l\n",
    "    P3 = l*k*l*mb\n",
    "    P4 = l*mb*l*mb\n",
    "\n",
    "    l0 = r'\\Psi_{0} = W_{\\alpha\\beta\\gamma\\delta}l^{\\alpha}m^{\\beta}l^{\\gamma}m^{\\delta} = ' \n",
    "    l1 = r'\\Psi_{1} = W_{\\alpha\\beta\\gamma\\delta}l^{\\alpha}n^{\\beta}l^{\\gamma}m^{\\delta} = ' \n",
    "    l2 = r'\\Psi_{2} = W_{\\alpha\\beta\\gamma\\delta}l^{\\alpha}m^{\\beta}\\bar{m}^{\\gamma}n^{\\delta} = ' \n",
    "    l3 = r'\\Psi_{3} = W_{\\alpha\\beta\\gamma\\delta}l^{\\alpha}n^{\\beta}\\bar{m}^{\\gamma}n^{\\delta} = ' \n",
    "    l4 = r'\\Psi_{4} = W_{\\alpha\\beta\\gamma\\delta}n^{\\alpha}\\bar{m}^{\\beta}n^{\\gamma}\\bar{m}^{\\delta} = ' \n",
    "\n",
    "    for (l,p) in zip([l0,l1,l2,l3,l4],[P0,P1,P2,P3,P4]):\n",
    "        W_sc = C['_{abcd}']*p['^{abcd}']\n",
    "        show(LatexExpr(l), W_sc.expr().canonicalize_radical().factor(), \\\n",
    "            LatexExpr(r' \\underset{E = 0}{\\longrightarrow}  '), W_sc.expr().subs(E=0).canonicalize_radical().factor())"
   ]
  },
  {
   "cell_type": "markdown",
   "id": "01454ea5",
   "metadata": {},
   "source": [
    "# I. Definition of the fields"
   ]
  },
  {
   "cell_type": "code",
   "execution_count": 8,
   "id": "5db98d9f",
   "metadata": {},
   "outputs": [],
   "source": [
    "g = M.metric()\n",
    "Lambda(r,th) = 1 + 13 / 48 * E**2 * (r*sin(th))**2\n",
    "\n",
    "g[0,0] = -(1- r_s/r) * Lambda(r,th)**(28 / 13)\n",
    "g[1,1] = 1/(1- r_s/r) * Lambda(r,th)**(28 / 13)\n",
    "g[2,2] = r**2 * Lambda(r,th)**(28 / 13)\n",
    "g[3,3] = (r*sin(th))**2 / Lambda(r,th)**(20 / 13)\n",
    "\n",
    "pot_vec = M.tensor_field(0,1,name=r'A_{\\mu}')\n",
    "pot_vec[0]= E * (1 - r_s / r) * r * cos(th)\n",
    "pot_vec[1]=0\n",
    "pot_vec[2]=0\n",
    "pot_vec[3]= 0"
   ]
  },
  {
   "cell_type": "markdown",
   "id": "e2fffd45",
   "metadata": {},
   "source": [
    "The metric and the potential vector read"
   ]
  },
  {
   "cell_type": "code",
   "execution_count": 9,
   "id": "b2e30797",
   "metadata": {},
   "outputs": [
    {
     "data": {
      "text/html": [
       "<html><script type=\"math/tex; mode=display\">\\newcommand{\\Bold}[1]{\\mathbf{#1}}g = {\\left(\\frac{13}{48} \\, E^{2} r^{2} \\sin\\left({\\theta}\\right)^{2} + 1\\right)}^{\\frac{28}{13}} {\\left(\\frac{r_{s}}{r} - 1\\right)} \\mathrm{d} t\\otimes \\mathrm{d} t + \\left( -\\frac{{\\left(\\frac{13}{48} \\, E^{2} r^{2} \\sin\\left({\\theta}\\right)^{2} + 1\\right)}^{\\frac{28}{13}}}{\\frac{r_{s}}{r} - 1} \\right) \\mathrm{d} r\\otimes \\mathrm{d} r + {\\left(\\frac{13}{48} \\, E^{2} r^{2} \\sin\\left({\\theta}\\right)^{2} + 1\\right)}^{\\frac{28}{13}} r^{2} \\mathrm{d} {\\theta}\\otimes \\mathrm{d} {\\theta} + \\frac{r^{2} \\sin\\left({\\theta}\\right)^{2}}{{\\left(\\frac{13}{48} \\, E^{2} r^{2} \\sin\\left({\\theta}\\right)^{2} + 1\\right)}^{\\frac{20}{13}}} \\mathrm{d} {\\varphi}\\otimes \\mathrm{d} {\\varphi}</script></html>"
      ],
      "text/latex": [
       "$$\\newcommand{\\Bold}[1]{\\mathbf{#1}}g = {\\left(\\frac{13}{48} \\, E^{2} r^{2} \\sin\\left({\\theta}\\right)^{2} + 1\\right)}^{\\frac{28}{13}} {\\left(\\frac{r_{s}}{r} - 1\\right)} \\mathrm{d} t\\otimes \\mathrm{d} t + \\left( -\\frac{{\\left(\\frac{13}{48} \\, E^{2} r^{2} \\sin\\left({\\theta}\\right)^{2} + 1\\right)}^{\\frac{28}{13}}}{\\frac{r_{s}}{r} - 1} \\right) \\mathrm{d} r\\otimes \\mathrm{d} r + {\\left(\\frac{13}{48} \\, E^{2} r^{2} \\sin\\left({\\theta}\\right)^{2} + 1\\right)}^{\\frac{28}{13}} r^{2} \\mathrm{d} {\\theta}\\otimes \\mathrm{d} {\\theta} + \\frac{r^{2} \\sin\\left({\\theta}\\right)^{2}}{{\\left(\\frac{13}{48} \\, E^{2} r^{2} \\sin\\left({\\theta}\\right)^{2} + 1\\right)}^{\\frac{20}{13}}} \\mathrm{d} {\\varphi}\\otimes \\mathrm{d} {\\varphi}$$"
      ],
      "text/plain": [
       "g = (13/48*E^2*r^2*sin(th)^2 + 1)^(28/13)*(r_s/r - 1) dt⊗dt - (13/48*E^2*r^2*sin(th)^2 + 1)^(28/13)/(r_s/r - 1) dr⊗dr + (13/48*E^2*r^2*sin(th)^2 + 1)^(28/13)*r^2 dth⊗dth + r^2*sin(th)^2/(13/48*E^2*r^2*sin(th)^2 + 1)^(20/13) dph⊗dph"
      ]
     },
     "metadata": {},
     "output_type": "display_data"
    },
    {
     "data": {
      "text/html": [
       "<html><script type=\"math/tex; mode=display\">\\newcommand{\\Bold}[1]{\\mathbf{#1}}A_{\\mu} = -E r {\\left(\\frac{r_{s}}{r} - 1\\right)} \\cos\\left({\\theta}\\right) \\mathrm{d} t</script></html>"
      ],
      "text/latex": [
       "$$\\newcommand{\\Bold}[1]{\\mathbf{#1}}A_{\\mu} = -E r {\\left(\\frac{r_{s}}{r} - 1\\right)} \\cos\\left({\\theta}\\right) \\mathrm{d} t$$"
      ],
      "text/plain": [
       "A_{\\mu} = -E*r*(r_s/r - 1)*cos(th) dt"
      ]
     },
     "metadata": {},
     "output_type": "display_data"
    }
   ],
   "source": [
    "show(g.display())\n",
    "show(pot_vec.display())"
   ]
  },
  {
   "cell_type": "markdown",
   "id": "3916ada3",
   "metadata": {},
   "source": [
    "Let's define the covariant derivative"
   ]
  },
  {
   "cell_type": "code",
   "execution_count": 10,
   "id": "be1097ba",
   "metadata": {},
   "outputs": [],
   "source": [
    "nab = g.connection() "
   ]
  },
  {
   "cell_type": "markdown",
   "id": "c0337a31",
   "metadata": {},
   "source": [
    "and the associated curvature quantities"
   ]
  },
  {
   "cell_type": "code",
   "execution_count": 11,
   "id": "b434993a",
   "metadata": {},
   "outputs": [],
   "source": [
    "Ric = g.ricci() #Ricci tensor\n",
    "R = g.ricci_scalar() #Ricci scalar\n",
    "G = Ric-R*g/2 #Einstein tensor"
   ]
  },
  {
   "cell_type": "markdown",
   "id": "fc69b5eb",
   "metadata": {},
   "source": [
    "# II. Electromagnetic field equation"
   ]
  },
  {
   "cell_type": "code",
   "execution_count": 12,
   "id": "a646ecd9",
   "metadata": {},
   "outputs": [],
   "source": [
    "DF = nab(pot_vec) "
   ]
  },
  {
   "cell_type": "code",
   "execution_count": 13,
   "id": "25b6d3d4",
   "metadata": {},
   "outputs": [
    {
     "data": {
      "text/html": [
       "<html><script type=\"math/tex; mode=display\">\\newcommand{\\Bold}[1]{\\mathbf{#1}}F_{\\mu\\nu} = E \\cos\\left({\\theta}\\right) \\mathrm{d} t\\otimes \\mathrm{d} r -{\\left(E r - E r_{s}\\right)} \\sin\\left({\\theta}\\right) \\mathrm{d} t\\otimes \\mathrm{d} {\\theta} -E \\cos\\left({\\theta}\\right) \\mathrm{d} r\\otimes \\mathrm{d} t + {\\left(E r - E r_{s}\\right)} \\sin\\left({\\theta}\\right) \\mathrm{d} {\\theta}\\otimes \\mathrm{d} t</script></html>"
      ],
      "text/latex": [
       "$$\\newcommand{\\Bold}[1]{\\mathbf{#1}}F_{\\mu\\nu} = E \\cos\\left({\\theta}\\right) \\mathrm{d} t\\otimes \\mathrm{d} r -{\\left(E r - E r_{s}\\right)} \\sin\\left({\\theta}\\right) \\mathrm{d} t\\otimes \\mathrm{d} {\\theta} -E \\cos\\left({\\theta}\\right) \\mathrm{d} r\\otimes \\mathrm{d} t + {\\left(E r - E r_{s}\\right)} \\sin\\left({\\theta}\\right) \\mathrm{d} {\\theta}\\otimes \\mathrm{d} t$$"
      ],
      "text/plain": [
       "F_{\\mu\\nu} = E*cos(th) dt⊗dr - (E*r - E*r_s)*sin(th) dt⊗dth - E*cos(th) dr⊗dt + (E*r - E*r_s)*sin(th) dth⊗dt"
      ]
     },
     "metadata": {},
     "output_type": "display_data"
    }
   ],
   "source": [
    "F=(DF['_ij']-DF['_ji'])._tensor\n",
    "Fuu = F.up(g)\n",
    "show(LatexExpr(r'F_{\\mu\\nu} ='), F.display())"
   ]
  },
  {
   "cell_type": "code",
   "execution_count": 14,
   "id": "048ff5e3",
   "metadata": {},
   "outputs": [
    {
     "data": {
      "text/html": [
       "<html><script type=\"math/tex; mode=display\">\\newcommand{\\Bold}[1]{\\mathbf{#1}}L_{m} = -\\frac{10616832 \\cdot 3^{\\frac{4}{13}} 2^{\\frac{3}{13}} {\\left(r_{s} \\sin\\left({\\theta}\\right)^{2} - r\\right)} E^{2}}{{\\left(13 \\, E^{2} r^{2} \\sin\\left({\\theta}\\right)^{2} + 48\\right)}^{\\frac{56}{13}} r}</script></html>"
      ],
      "text/latex": [
       "$$\\newcommand{\\Bold}[1]{\\mathbf{#1}}L_{m} = -\\frac{10616832 \\cdot 3^{\\frac{4}{13}} 2^{\\frac{3}{13}} {\\left(r_{s} \\sin\\left({\\theta}\\right)^{2} - r\\right)} E^{2}}{{\\left(13 \\, E^{2} r^{2} \\sin\\left({\\theta}\\right)^{2} + 48\\right)}^{\\frac{56}{13}} r}$$"
      ],
      "text/plain": [
       "L_{m} = -10616832*3^(4/13)*2^(3/13)*(r_s*sin(th)^2 - r)*E^2/((13*E^2*r^2*sin(th)^2 + 48)^(56/13)*r)"
      ]
     },
     "metadata": {},
     "output_type": "display_data"
    }
   ],
   "source": [
    "Lm = -F['_ij']*F.up(g)['^ij']/2\n",
    "show(LatexExpr(r'L_{m} ='), Lm.expr().canonicalize_radical().factor())"
   ]
  },
  {
   "cell_type": "markdown",
   "id": "3d21a412",
   "metadata": {},
   "source": [
    "<!-- Let's verify the Maxwell equations $\\triangledown\\left(\\sqrt{\\phi}F_{\\mu\\nu}\\right)=0$  -->\n",
    "Let's verify the Maxwell equations $\\nabla_\\sigma \\left(\\frac{\\mathcal{L}}{R} F^{\\mu \\sigma}\\right) = 0$"
   ]
  },
  {
   "cell_type": "code",
   "execution_count": 15,
   "id": "f494dd08",
   "metadata": {},
   "outputs": [
    {
     "data": {
      "text/html": [
       "<html><script type=\"math/tex; mode=display\">\\newcommand{\\Bold}[1]{\\mathbf{#1}}\\mathrm{True}</script></html>"
      ],
      "text/latex": [
       "$$\\newcommand{\\Bold}[1]{\\mathbf{#1}}\\mathrm{True}$$"
      ],
      "text/plain": [
       "True"
      ]
     },
     "execution_count": 15,
     "metadata": {},
     "output_type": "execute_result"
    }
   ],
   "source": [
    "N = nab(Lm / R *F.up(g))['_i^ij']\n",
    "N == 0"
   ]
  },
  {
   "cell_type": "code",
   "execution_count": 16,
   "id": "478b5e21",
   "metadata": {},
   "outputs": [
    {
     "data": {
      "text/html": [
       "<html><script type=\"math/tex; mode=display\">\\newcommand{\\Bold}[1]{\\mathbf{#1}}E^{\\mu} =  \\left[0, E \\cos\\left({\\theta}\\right), -E {\\left(r - r_{s}\\right)} \\sin\\left({\\theta}\\right), 0\\right]</script></html>"
      ],
      "text/latex": [
       "$$\\newcommand{\\Bold}[1]{\\mathbf{#1}}E^{\\mu} =  \\left[0, E \\cos\\left({\\theta}\\right), -E {\\left(r - r_{s}\\right)} \\sin\\left({\\theta}\\right), 0\\right]$$"
      ],
      "text/plain": [
       "E^{\\mu} =  [0, E*cos(th), -E*(r - r_s)*sin(th), 0]"
      ]
     },
     "metadata": {},
     "output_type": "display_data"
    }
   ],
   "source": [
    "E_elec = M.tensor_field(1,0)\n",
    "for i in [1, 2, 3]:  \n",
    "    E_elec[i] = F[0, i].factor()\n",
    "show(LatexExpr(r'E^{\\mu} = '),E_elec[:])"
   ]
  },
  {
   "cell_type": "markdown",
   "id": "11f36f26",
   "metadata": {},
   "source": [
    "## II.1. Properties"
   ]
  },
  {
   "cell_type": "code",
   "execution_count": 17,
   "id": "83e9ba3c",
   "metadata": {},
   "outputs": [
    {
     "data": {
      "text/html": [
       "<html><script type=\"math/tex; mode=display\">\\newcommand{\\Bold}[1]{\\mathbf{#1}}L_{m}\\Lambda^{56/13} = -\\frac{{\\left(r_{s} \\sin\\left({\\theta}\\right)^{2} - r\\right)} E^{2}}{r}</script></html>"
      ],
      "text/latex": [
       "$$\\newcommand{\\Bold}[1]{\\mathbf{#1}}L_{m}\\Lambda^{56/13} = -\\frac{{\\left(r_{s} \\sin\\left({\\theta}\\right)^{2} - r\\right)} E^{2}}{r}$$"
      ],
      "text/plain": [
       "L_{m}\\Lambda^{56/13} = -(r_s*sin(th)^2 - r)*E^2/r"
      ]
     },
     "metadata": {},
     "output_type": "display_data"
    },
    {
     "data": {
      "text/html": [
       "<html><script type=\"math/tex; mode=display\">\\newcommand{\\Bold}[1]{\\mathbf{#1}}\\Rightarrow L_{m} = -\\frac{{\\left(r_{s} \\sin\\left({\\theta}\\right)^{2} - r\\right)} E^{2}}{\\Lambda^{56/13}r}</script></html>"
      ],
      "text/latex": [
       "$$\\newcommand{\\Bold}[1]{\\mathbf{#1}}\\Rightarrow L_{m} = -\\frac{{\\left(r_{s} \\sin\\left({\\theta}\\right)^{2} - r\\right)} E^{2}}{\\Lambda^{56/13}r}$$"
      ],
      "text/plain": [
       "\\Rightarrow L_{m} = -\\frac{{\\left(r_{s} \\sin\\left({\\theta}\\right)^{2} - r\\right)} E^{2}}{\\Lambda^{56/13}r}"
      ]
     },
     "metadata": {},
     "output_type": "display_data"
    },
    {
     "data": {
      "text/html": [
       "<html><script type=\"math/tex; mode=display\">\\newcommand{\\Bold}[1]{\\mathbf{#1}}\\lim_{\\theta \\to 0} \\Lambda(r,\\theta) =1 \\Rightarrow  \\lim_{\\theta \\to 0} L_{m} =  E^{2}</script></html>"
      ],
      "text/latex": [
       "$$\\newcommand{\\Bold}[1]{\\mathbf{#1}}\\lim_{\\theta \\to 0} \\Lambda(r,\\theta) =1 \\Rightarrow  \\lim_{\\theta \\to 0} L_{m} =  E^{2}$$"
      ],
      "text/plain": [
       "\\lim_{\\theta \\to 0} \\Lambda(r,\\theta) =1 \\Rightarrow  \\lim_{\\theta \\to 0} L_{m} =  E^2"
      ]
     },
     "metadata": {},
     "output_type": "display_data"
    }
   ],
   "source": [
    "show(LatexExpr(r'L_{m}\\Lambda^{56/13} ='), (Lm*Lambda**(56/13)).expr().canonicalize_radical().factor())\n",
    "show(LatexExpr(r'\\Rightarrow L_{m} = -\\frac{{\\left(r_{s} \\sin\\left({\\theta}\\right)^{2} - r\\right)} E^{2}}{\\Lambda^{56/13}r}'))\n",
    "show(LatexExpr(r'\\lim_{\\theta \\to 0} \\Lambda(r,\\theta) =1 \\Rightarrow  \\lim_{\\theta \\to 0} L_{m} = '), Lm.expr().subs(th=0).canonicalize_radical())"
   ]
  },
  {
   "cell_type": "markdown",
   "id": "38690311",
   "metadata": {},
   "source": [
    "We can check that $\\frac{10616832\\times3^{4/13}\\times2^{3/13}}{48^{56/13}}=1$"
   ]
  },
  {
   "cell_type": "code",
   "execution_count": 18,
   "id": "8a80d928",
   "metadata": {},
   "outputs": [
    {
     "data": {
      "text/html": [
       "<html><script type=\"math/tex; mode=display\">\\newcommand{\\Bold}[1]{\\mathbf{#1}}\\mathrm{True}</script></html>"
      ],
      "text/latex": [
       "$$\\newcommand{\\Bold}[1]{\\mathbf{#1}}\\mathrm{True}$$"
      ],
      "text/plain": [
       "True"
      ]
     },
     "execution_count": 18,
     "metadata": {},
     "output_type": "execute_result"
    }
   ],
   "source": [
    "((10616832*3**(4/13)*2**(3/13)/ 48**(56/13)).canonicalize_radical() - 1).is_zero()"
   ]
  },
  {
   "cell_type": "markdown",
   "id": "af0e898c",
   "metadata": {},
   "source": [
    "# III. The metric field equation"
   ]
  },
  {
   "cell_type": "markdown",
   "id": "324e8e64",
   "metadata": {},
   "source": [
    "Let's define the stress-energy tensor $T_{\\mu\\nu}=2\\left(F_{\\rho\\mu}F^{\\rho}_{\\hspace{0.2cm}\\nu}-\\frac{1}{4}g_{\\mu\\nu}F^{2}\\right)$ "
   ]
  },
  {
   "cell_type": "code",
   "execution_count": 19,
   "id": "abde79e8",
   "metadata": {},
   "outputs": [],
   "source": [
    "T = 2*(F.up(g,1)['_i^j']*F['_kj'] + g*Lm/2)"
   ]
  },
  {
   "cell_type": "code",
   "execution_count": 20,
   "id": "d63b83db",
   "metadata": {},
   "outputs": [],
   "source": [
    "T_scalar = g.inverse()['^ab'] * T['_ab']"
   ]
  },
  {
   "cell_type": "code",
   "execution_count": 21,
   "id": "0d877e0e",
   "metadata": {},
   "outputs": [
    {
     "data": {
      "text/html": [
       "<html><script type=\"math/tex; mode=display\">\\newcommand{\\Bold}[1]{\\mathbf{#1}}\\mathrm{True}</script></html>"
      ],
      "text/latex": [
       "$$\\newcommand{\\Bold}[1]{\\mathbf{#1}}\\mathrm{True}$$"
      ],
      "text/plain": [
       "True"
      ]
     },
     "execution_count": 21,
     "metadata": {},
     "output_type": "execute_result"
    }
   ],
   "source": [
    "T_scalar == 0"
   ]
  },
  {
   "cell_type": "code",
   "execution_count": 22,
   "id": "164e9bfc",
   "metadata": {},
   "outputs": [],
   "source": [
    "S = (nab(nab(Lm**2 / R**2 )) - g*(Lm**2 / R**2).dalembertian()) * R**2 / Lm**2 "
   ]
  },
  {
   "cell_type": "markdown",
   "id": "ef714b66",
   "metadata": {},
   "source": [
    "And the field equation"
   ]
  },
  {
   "cell_type": "code",
   "execution_count": 23,
   "id": "7b83aedb",
   "metadata": {},
   "outputs": [
    {
     "data": {
      "text/html": [
       "<html><script type=\"math/tex; mode=display\">\\newcommand{\\Bold}[1]{\\mathbf{#1}}\\mathrm{True}</script></html>"
      ],
      "text/latex": [
       "$$\\newcommand{\\Bold}[1]{\\mathbf{#1}}\\mathrm{True}$$"
      ],
      "text/plain": [
       "True"
      ]
     },
     "execution_count": 23,
     "metadata": {},
     "output_type": "execute_result"
    }
   ],
   "source": [
    "G == - R / Lm * T + S"
   ]
  },
  {
   "cell_type": "markdown",
   "id": "39504324",
   "metadata": {},
   "source": [
    "# IV. The scalar-field form $-\\frac{\\mathcal{L}_m}{R} = \\Lambda^{-2/13}$"
   ]
  },
  {
   "cell_type": "code",
   "execution_count": 24,
   "id": "926d369b",
   "metadata": {},
   "outputs": [
    {
     "data": {
      "text/html": [
       "<html><script type=\"math/tex; mode=display\">\\newcommand{\\Bold}[1]{\\mathbf{#1}}\\mathrm{True}</script></html>"
      ],
      "text/latex": [
       "$$\\newcommand{\\Bold}[1]{\\mathbf{#1}}\\mathrm{True}$$"
      ],
      "text/plain": [
       "True"
      ]
     },
     "execution_count": 24,
     "metadata": {},
     "output_type": "execute_result"
    }
   ],
   "source": [
    "Lambda**(-2/13) + Lm/R == 0"
   ]
  },
  {
   "cell_type": "markdown",
   "id": "e16de9f5",
   "metadata": {},
   "source": [
    "## IV.1. Properties"
   ]
  },
  {
   "cell_type": "code",
   "execution_count": 25,
   "id": "a4cc5675",
   "metadata": {},
   "outputs": [
    {
     "data": {
      "text/html": [
       "<html><script type=\"math/tex; mode=display\">\\newcommand{\\Bold}[1]{\\mathbf{#1}}R = \\frac{5308416 \\cdot 3^{\\frac{2}{13}} 2^{\\frac{8}{13}} {\\left(r_{s} \\sin\\left({\\theta}\\right)^{2} - r\\right)} E^{2}}{{\\left(13 \\, E^{2} r^{2} \\sin\\left({\\theta}\\right)^{2} + 48\\right)}^{\\frac{54}{13}} r}</script></html>"
      ],
      "text/latex": [
       "$$\\newcommand{\\Bold}[1]{\\mathbf{#1}}R = \\frac{5308416 \\cdot 3^{\\frac{2}{13}} 2^{\\frac{8}{13}} {\\left(r_{s} \\sin\\left({\\theta}\\right)^{2} - r\\right)} E^{2}}{{\\left(13 \\, E^{2} r^{2} \\sin\\left({\\theta}\\right)^{2} + 48\\right)}^{\\frac{54}{13}} r}$$"
      ],
      "text/plain": [
       "R = 5308416*3^(2/13)*2^(8/13)*(r_s*sin(th)^2 - r)*E^2/((13*E^2*r^2*sin(th)^2 + 48)^(54/13)*r)"
      ]
     },
     "metadata": {},
     "output_type": "display_data"
    },
    {
     "data": {
      "text/html": [
       "<html><script type=\"math/tex; mode=display\">\\newcommand{\\Bold}[1]{\\mathbf{#1}}R\\Lambda^{54/13} = \\frac{{\\left(r_{s} \\sin\\left({\\theta}\\right)^{2} - r\\right)} E^{2}}{r}</script></html>"
      ],
      "text/latex": [
       "$$\\newcommand{\\Bold}[1]{\\mathbf{#1}}R\\Lambda^{54/13} = \\frac{{\\left(r_{s} \\sin\\left({\\theta}\\right)^{2} - r\\right)} E^{2}}{r}$$"
      ],
      "text/plain": [
       "R\\Lambda^{54/13} = (r_s*sin(th)^2 - r)*E^2/r"
      ]
     },
     "metadata": {},
     "output_type": "display_data"
    },
    {
     "data": {
      "text/html": [
       "<html><script type=\"math/tex; mode=display\">\\newcommand{\\Bold}[1]{\\mathbf{#1}}\\Rightarrow R = \\frac{{\\left(r_{s} \\sin\\left({\\theta}\\right)^{2} - r\\right)} E^{2}}{\\Lambda^{54/13}r} = L_{m} \\Lambda^{2/13}</script></html>"
      ],
      "text/latex": [
       "$$\\newcommand{\\Bold}[1]{\\mathbf{#1}}\\Rightarrow R = \\frac{{\\left(r_{s} \\sin\\left({\\theta}\\right)^{2} - r\\right)} E^{2}}{\\Lambda^{54/13}r} = L_{m} \\Lambda^{2/13}$$"
      ],
      "text/plain": [
       "\\Rightarrow R = \\frac{{\\left(r_{s} \\sin\\left({\\theta}\\right)^{2} - r\\right)} E^{2}}{\\Lambda^{54/13}r} = L_{m} \\Lambda^{2/13}"
      ]
     },
     "metadata": {},
     "output_type": "display_data"
    },
    {
     "data": {
      "text/html": [
       "<html><script type=\"math/tex; mode=display\">\\newcommand{\\Bold}[1]{\\mathbf{#1}}\\lim_{\\theta \\to 0} \\Lambda(r,\\theta) =1 \\Rightarrow  \\lim_{\\theta \\to 0} R =  -E^{2}</script></html>"
      ],
      "text/latex": [
       "$$\\newcommand{\\Bold}[1]{\\mathbf{#1}}\\lim_{\\theta \\to 0} \\Lambda(r,\\theta) =1 \\Rightarrow  \\lim_{\\theta \\to 0} R =  -E^{2}$$"
      ],
      "text/plain": [
       "\\lim_{\\theta \\to 0} \\Lambda(r,\\theta) =1 \\Rightarrow  \\lim_{\\theta \\to 0} R =  -E^2"
      ]
     },
     "metadata": {},
     "output_type": "display_data"
    }
   ],
   "source": [
    "show(LatexExpr(r'R ='), R.expr().canonicalize_radical().factor())\n",
    "show(LatexExpr(r'R\\Lambda^{54/13} ='), (R*Lambda**(54/13)).expr().canonicalize_radical().factor())\n",
    "show(LatexExpr(r'\\Rightarrow R = \\frac{{\\left(r_{s} \\sin\\left({\\theta}\\right)^{2} - r\\right)} E^{2}}{\\Lambda^{54/13}r} = L_{m} \\Lambda^{2/13}'))\n",
    "show(LatexExpr(r'\\lim_{\\theta \\to 0} \\Lambda(r,\\theta) =1 \\Rightarrow  \\lim_{\\theta \\to 0} R = '), R.expr().subs(th=0).canonicalize_radical())"
   ]
  },
  {
   "cell_type": "markdown",
   "id": "4d8e0b8a",
   "metadata": {},
   "source": [
    "We can check that $\\frac{5308416\\times3^{2/13}\\times2^{8/13}}{48^{54/13}}=1$"
   ]
  },
  {
   "cell_type": "code",
   "execution_count": 26,
   "id": "41ab7ddd",
   "metadata": {},
   "outputs": [
    {
     "data": {
      "text/html": [
       "<html><script type=\"math/tex; mode=display\">\\newcommand{\\Bold}[1]{\\mathbf{#1}}\\mathrm{True}</script></html>"
      ],
      "text/latex": [
       "$$\\newcommand{\\Bold}[1]{\\mathbf{#1}}\\mathrm{True}$$"
      ],
      "text/plain": [
       "True"
      ]
     },
     "execution_count": 26,
     "metadata": {},
     "output_type": "execute_result"
    }
   ],
   "source": [
    "((5308416*3**(2/13)*2**(8/13) / 48**(54/13)).canonicalize_radical() - 1).is_zero()"
   ]
  },
  {
   "cell_type": "markdown",
   "id": "8b731463",
   "metadata": {},
   "source": [
    "# V. Petrov classification"
   ]
  },
  {
   "cell_type": "markdown",
   "id": "cf80df4a",
   "metadata": {},
   "source": [
    "Let's first define the null tetrad components"
   ]
  },
  {
   "cell_type": "code",
   "execution_count": 27,
   "id": "82876ef2",
   "metadata": {},
   "outputs": [],
   "source": [
    "C = (g.weyl()).down(g)"
   ]
  },
  {
   "cell_type": "markdown",
   "id": "ede934c6",
   "metadata": {},
   "source": [
    "Let's first define the null tetrad components"
   ]
  },
  {
   "cell_type": "code",
   "execution_count": 28,
   "id": "736dc6c3",
   "metadata": {},
   "outputs": [],
   "source": [
    "K = M.one_form({X.frame(): [sqrt(-g[0,0]/2), sqrt(g[1,1]/2), 0, 0]})\n",
    "L = M.one_form({X.frame(): [sqrt(-g[0,0]/2), -sqrt(g[1,1]/2), 0, 0]})\n",
    "Mb = M.one_form({X.frame(): [0, 0, sqrt(g[2,2]/2), i*sqrt(g[3,3]/2)]})\n",
    "MB = M.one_form({X.frame(): [0, 0, sqrt(g[2,2]/2), -i*sqrt(g[3,3]/2)]})"
   ]
  },
  {
   "cell_type": "markdown",
   "id": "1194b19c",
   "metadata": {},
   "source": [
    "Now we check that the tetrad components satisfy the orthogonality and normalization conditions and are related to the metric."
   ]
  },
  {
   "cell_type": "code",
   "execution_count": 29,
   "id": "dcca7534",
   "metadata": {},
   "outputs": [
    {
     "data": {
      "text/html": [
       "<html><script type=\"math/tex; mode=display\">\\newcommand{\\Bold}[1]{\\mathbf{#1}}l^{\\mu}l_{\\mu} =  0 \\hspace{0.5cm} n^{\\mu}n_{\\mu} =  0 \\hspace{0.5cm} m^{\\mu}m_{\\mu} =  5 \\hspace{0.5cm} \\bar{m}^{\\mu}\\bar{m}_{\\mu} =  5</script></html>"
      ],
      "text/latex": [
       "$$\\newcommand{\\Bold}[1]{\\mathbf{#1}}l^{\\mu}l_{\\mu} =  0 \\hspace{0.5cm} n^{\\mu}n_{\\mu} =  0 \\hspace{0.5cm} m^{\\mu}m_{\\mu} =  5 \\hspace{0.5cm} \\bar{m}^{\\mu}\\bar{m}_{\\mu} =  5$$"
      ],
      "text/plain": [
       "l^{\\mu}l_{\\mu} =  0 \\hspace{0.5cm} n^{\\mu}n_{\\mu} =  0 \\hspace{0.5cm} m^{\\mu}m_{\\mu} =  5 \\hspace{0.5cm} \\bar{m}^{\\mu}\\bar{m}_{\\mu} =  5"
      ]
     },
     "metadata": {},
     "output_type": "display_data"
    },
    {
     "data": {
      "text/html": [
       "<html><script type=\"math/tex; mode=display\">\\newcommand{\\Bold}[1]{\\mathbf{#1}}l^{\\mu}m_{\\mu} =  0 \\hspace{0.5cm} m^{\\mu}n_{\\mu} =  0</script></html>"
      ],
      "text/latex": [
       "$$\\newcommand{\\Bold}[1]{\\mathbf{#1}}l^{\\mu}m_{\\mu} =  0 \\hspace{0.5cm} m^{\\mu}n_{\\mu} =  0$$"
      ],
      "text/plain": [
       "l^{\\mu}m_{\\mu} =  0 \\hspace{0.5cm} m^{\\mu}n_{\\mu} =  0"
      ]
     },
     "metadata": {},
     "output_type": "display_data"
    },
    {
     "data": {
      "text/html": [
       "<html><script type=\"math/tex; mode=display\">\\newcommand{\\Bold}[1]{\\mathbf{#1}}l^{\\mu}n_{\\mu} =  -1 \\hspace{0.5cm} m^{\\mu}\\bar{m}_{\\mu} =  -4</script></html>"
      ],
      "text/latex": [
       "$$\\newcommand{\\Bold}[1]{\\mathbf{#1}}l^{\\mu}n_{\\mu} =  -1 \\hspace{0.5cm} m^{\\mu}\\bar{m}_{\\mu} =  -4$$"
      ],
      "text/plain": [
       "l^{\\mu}n_{\\mu} =  -1 \\hspace{0.5cm} m^{\\mu}\\bar{m}_{\\mu} =  -4"
      ]
     },
     "metadata": {},
     "output_type": "display_data"
    },
    {
     "data": {
      "text/html": [
       "<html><script type=\"math/tex; mode=display\">\\newcommand{\\Bold}[1]{\\mathbf{#1}}g_{ab} = (l_{a}n_{b} +l_{b}n_{a} -m_{a}\\bar{m}_{b}-m_{b}\\bar{m}_{a}) \\Rightarrow  \\mathrm{False}</script></html>"
      ],
      "text/latex": [
       "$$\\newcommand{\\Bold}[1]{\\mathbf{#1}}g_{ab} = (l_{a}n_{b} +l_{b}n_{a} -m_{a}\\bar{m}_{b}-m_{b}\\bar{m}_{a}) \\Rightarrow  \\mathrm{False}$$"
      ],
      "text/plain": [
       "g_{ab} = (l_{a}n_{b} +l_{b}n_{a} -m_{a}\\bar{m}_{b}-m_{b}\\bar{m}_{a}) \\Rightarrow  False"
      ]
     },
     "metadata": {},
     "output_type": "display_data"
    }
   ],
   "source": [
    "tetrad_cond(K,L,Mb,MB)"
   ]
  },
  {
   "cell_type": "code",
   "execution_count": 30,
   "id": "1ded3af3",
   "metadata": {},
   "outputs": [
    {
     "data": {
      "text/html": [
       "<html><script type=\"math/tex; mode=display\">\\newcommand{\\Bold}[1]{\\mathbf{#1}}\\Psi_{0} = W_{\\alpha\\beta\\gamma\\delta}l^{\\alpha}m^{\\beta}l^{\\gamma}m^{\\delta} =  -\\frac{110592 \\cdot 3^{\\frac{2}{13}} 2^{\\frac{8}{13}} {\\left(35 \\, E^{2} r^{2} \\sin\\left({\\theta}\\right)^{2} - 144\\right)} E^{2} {\\left(r - r_{s}\\right)} \\sin\\left({\\theta}\\right)^{2}}{{\\left(13 \\, E^{2} r^{2} \\sin\\left({\\theta}\\right)^{2} + 48\\right)}^{\\frac{54}{13}} r}  \\underset{E = 0}{\\longrightarrow}   0</script></html>"
      ],
      "text/latex": [
       "$$\\newcommand{\\Bold}[1]{\\mathbf{#1}}\\Psi_{0} = W_{\\alpha\\beta\\gamma\\delta}l^{\\alpha}m^{\\beta}l^{\\gamma}m^{\\delta} =  -\\frac{110592 \\cdot 3^{\\frac{2}{13}} 2^{\\frac{8}{13}} {\\left(35 \\, E^{2} r^{2} \\sin\\left({\\theta}\\right)^{2} - 144\\right)} E^{2} {\\left(r - r_{s}\\right)} \\sin\\left({\\theta}\\right)^{2}}{{\\left(13 \\, E^{2} r^{2} \\sin\\left({\\theta}\\right)^{2} + 48\\right)}^{\\frac{54}{13}} r}  \\underset{E = 0}{\\longrightarrow}   0$$"
      ],
      "text/plain": [
       "\\Psi_{0} = W_{\\alpha\\beta\\gamma\\delta}l^{\\alpha}m^{\\beta}l^{\\gamma}m^{\\delta} =  -110592*3^(2/13)*2^(8/13)*(35*E^2*r^2*sin(th)^2 - 144)*E^2*(r - r_s)*sin(th)^2/((13*E^2*r^2*sin(th)^2 + 48)^(54/13)*r)  \\underset{E = 0}{\\longrightarrow}   0"
      ]
     },
     "metadata": {},
     "output_type": "display_data"
    },
    {
     "data": {
      "text/html": [
       "<html><script type=\"math/tex; mode=display\">\\newcommand{\\Bold}[1]{\\mathbf{#1}}\\Psi_{1} = W_{\\alpha\\beta\\gamma\\delta}l^{\\alpha}n^{\\beta}l^{\\gamma}m^{\\delta} =  \\frac{27648 \\cdot 3^{\\frac{2}{13}} 2^{\\frac{8}{13}} {\\left(35 \\, E^{2} r^{2} \\sin\\left({\\theta}\\right)^{2} - 144\\right)} E^{2} \\sqrt{r - r_{s}} \\cos\\left({\\theta}\\right) \\sin\\left({\\theta}\\right)}{{\\left(13 \\, E^{2} r^{2} \\sin\\left({\\theta}\\right)^{2} + 48\\right)}^{\\frac{54}{13}} \\sqrt{r}}  \\underset{E = 0}{\\longrightarrow}   0</script></html>"
      ],
      "text/latex": [
       "$$\\newcommand{\\Bold}[1]{\\mathbf{#1}}\\Psi_{1} = W_{\\alpha\\beta\\gamma\\delta}l^{\\alpha}n^{\\beta}l^{\\gamma}m^{\\delta} =  \\frac{27648 \\cdot 3^{\\frac{2}{13}} 2^{\\frac{8}{13}} {\\left(35 \\, E^{2} r^{2} \\sin\\left({\\theta}\\right)^{2} - 144\\right)} E^{2} \\sqrt{r - r_{s}} \\cos\\left({\\theta}\\right) \\sin\\left({\\theta}\\right)}{{\\left(13 \\, E^{2} r^{2} \\sin\\left({\\theta}\\right)^{2} + 48\\right)}^{\\frac{54}{13}} \\sqrt{r}}  \\underset{E = 0}{\\longrightarrow}   0$$"
      ],
      "text/plain": [
       "\\Psi_{1} = W_{\\alpha\\beta\\gamma\\delta}l^{\\alpha}n^{\\beta}l^{\\gamma}m^{\\delta} =  27648*3^(2/13)*2^(8/13)*(35*E^2*r^2*sin(th)^2 - 144)*E^2*sqrt(r - r_s)*cos(th)*sin(th)/((13*E^2*r^2*sin(th)^2 + 48)^(54/13)*sqrt(r))  \\underset{E = 0}{\\longrightarrow}   0"
      ]
     },
     "metadata": {},
     "output_type": "display_data"
    },
    {
     "data": {
      "text/html": [
       "<html><script type=\"math/tex; mode=display\">\\newcommand{\\Bold}[1]{\\mathbf{#1}}\\Psi_{2} = W_{\\alpha\\beta\\gamma\\delta}l^{\\alpha}m^{\\beta}\\bar{m}^{\\gamma}n^{\\delta} =  \\frac{4608 \\cdot 3^{\\frac{2}{13}} 2^{\\frac{8}{13}} {\\left(840 \\, E^{4} r^{5} \\sin\\left({\\theta}\\right)^{4} - 423 \\, E^{4} r^{4} r_{s} \\sin\\left({\\theta}\\right)^{4} - 560 \\, E^{4} r^{5} \\sin\\left({\\theta}\\right)^{2} - 3456 \\, E^{2} r^{3} \\sin\\left({\\theta}\\right)^{2} + 1248 \\, E^{2} r^{2} r_{s} \\sin\\left({\\theta}\\right)^{2} + 2304 \\, E^{2} r^{3} + 2304 \\, r_{s}\\right)}}{{\\left(13 \\, E^{2} r^{2} \\sin\\left({\\theta}\\right)^{2} + 48\\right)}^{\\frac{54}{13}} r^{3}}  \\underset{E = 0}{\\longrightarrow}   \\frac{2 \\, r_{s}}{r^{3}}</script></html>"
      ],
      "text/latex": [
       "$$\\newcommand{\\Bold}[1]{\\mathbf{#1}}\\Psi_{2} = W_{\\alpha\\beta\\gamma\\delta}l^{\\alpha}m^{\\beta}\\bar{m}^{\\gamma}n^{\\delta} =  \\frac{4608 \\cdot 3^{\\frac{2}{13}} 2^{\\frac{8}{13}} {\\left(840 \\, E^{4} r^{5} \\sin\\left({\\theta}\\right)^{4} - 423 \\, E^{4} r^{4} r_{s} \\sin\\left({\\theta}\\right)^{4} - 560 \\, E^{4} r^{5} \\sin\\left({\\theta}\\right)^{2} - 3456 \\, E^{2} r^{3} \\sin\\left({\\theta}\\right)^{2} + 1248 \\, E^{2} r^{2} r_{s} \\sin\\left({\\theta}\\right)^{2} + 2304 \\, E^{2} r^{3} + 2304 \\, r_{s}\\right)}}{{\\left(13 \\, E^{2} r^{2} \\sin\\left({\\theta}\\right)^{2} + 48\\right)}^{\\frac{54}{13}} r^{3}}  \\underset{E = 0}{\\longrightarrow}   \\frac{2 \\, r_{s}}{r^{3}}$$"
      ],
      "text/plain": [
       "\\Psi_{2} = W_{\\alpha\\beta\\gamma\\delta}l^{\\alpha}m^{\\beta}\\bar{m}^{\\gamma}n^{\\delta} =  4608*3^(2/13)*2^(8/13)*(840*E^4*r^5*sin(th)^4 - 423*E^4*r^4*r_s*sin(th)^4 - 560*E^4*r^5*sin(th)^2 - 3456*E^2*r^3*sin(th)^2 + 1248*E^2*r^2*r_s*sin(th)^2 + 2304*E^2*r^3 + 2304*r_s)/((13*E^2*r^2*sin(th)^2 + 48)^(54/13)*r^3)  \\underset{E = 0}{\\longrightarrow}   2*r_s/r^3"
      ]
     },
     "metadata": {},
     "output_type": "display_data"
    },
    {
     "data": {
      "text/html": [
       "<html><script type=\"math/tex; mode=display\">\\newcommand{\\Bold}[1]{\\mathbf{#1}}\\Psi_{3} = W_{\\alpha\\beta\\gamma\\delta}l^{\\alpha}n^{\\beta}\\bar{m}^{\\gamma}n^{\\delta} =  -\\frac{27648 \\cdot 3^{\\frac{2}{13}} 2^{\\frac{8}{13}} {\\left(35 \\, E^{2} r^{2} \\sin\\left({\\theta}\\right)^{2} - 144\\right)} E^{2} \\sqrt{r - r_{s}} \\cos\\left({\\theta}\\right) \\sin\\left({\\theta}\\right)}{{\\left(13 \\, E^{2} r^{2} \\sin\\left({\\theta}\\right)^{2} + 48\\right)}^{\\frac{54}{13}} \\sqrt{r}}  \\underset{E = 0}{\\longrightarrow}   0</script></html>"
      ],
      "text/latex": [
       "$$\\newcommand{\\Bold}[1]{\\mathbf{#1}}\\Psi_{3} = W_{\\alpha\\beta\\gamma\\delta}l^{\\alpha}n^{\\beta}\\bar{m}^{\\gamma}n^{\\delta} =  -\\frac{27648 \\cdot 3^{\\frac{2}{13}} 2^{\\frac{8}{13}} {\\left(35 \\, E^{2} r^{2} \\sin\\left({\\theta}\\right)^{2} - 144\\right)} E^{2} \\sqrt{r - r_{s}} \\cos\\left({\\theta}\\right) \\sin\\left({\\theta}\\right)}{{\\left(13 \\, E^{2} r^{2} \\sin\\left({\\theta}\\right)^{2} + 48\\right)}^{\\frac{54}{13}} \\sqrt{r}}  \\underset{E = 0}{\\longrightarrow}   0$$"
      ],
      "text/plain": [
       "\\Psi_{3} = W_{\\alpha\\beta\\gamma\\delta}l^{\\alpha}n^{\\beta}\\bar{m}^{\\gamma}n^{\\delta} =  -27648*3^(2/13)*2^(8/13)*(35*E^2*r^2*sin(th)^2 - 144)*E^2*sqrt(r - r_s)*cos(th)*sin(th)/((13*E^2*r^2*sin(th)^2 + 48)^(54/13)*sqrt(r))  \\underset{E = 0}{\\longrightarrow}   0"
      ]
     },
     "metadata": {},
     "output_type": "display_data"
    },
    {
     "data": {
      "text/html": [
       "<html><script type=\"math/tex; mode=display\">\\newcommand{\\Bold}[1]{\\mathbf{#1}}\\Psi_{4} = W_{\\alpha\\beta\\gamma\\delta}n^{\\alpha}\\bar{m}^{\\beta}n^{\\gamma}\\bar{m}^{\\delta} =  -\\frac{110592 \\cdot 3^{\\frac{2}{13}} 2^{\\frac{8}{13}} {\\left(35 \\, E^{2} r^{2} \\sin\\left({\\theta}\\right)^{2} - 144\\right)} E^{2} {\\left(r - r_{s}\\right)} \\sin\\left({\\theta}\\right)^{2}}{{\\left(13 \\, E^{2} r^{2} \\sin\\left({\\theta}\\right)^{2} + 48\\right)}^{\\frac{54}{13}} r}  \\underset{E = 0}{\\longrightarrow}   0</script></html>"
      ],
      "text/latex": [
       "$$\\newcommand{\\Bold}[1]{\\mathbf{#1}}\\Psi_{4} = W_{\\alpha\\beta\\gamma\\delta}n^{\\alpha}\\bar{m}^{\\beta}n^{\\gamma}\\bar{m}^{\\delta} =  -\\frac{110592 \\cdot 3^{\\frac{2}{13}} 2^{\\frac{8}{13}} {\\left(35 \\, E^{2} r^{2} \\sin\\left({\\theta}\\right)^{2} - 144\\right)} E^{2} {\\left(r - r_{s}\\right)} \\sin\\left({\\theta}\\right)^{2}}{{\\left(13 \\, E^{2} r^{2} \\sin\\left({\\theta}\\right)^{2} + 48\\right)}^{\\frac{54}{13}} r}  \\underset{E = 0}{\\longrightarrow}   0$$"
      ],
      "text/plain": [
       "\\Psi_{4} = W_{\\alpha\\beta\\gamma\\delta}n^{\\alpha}\\bar{m}^{\\beta}n^{\\gamma}\\bar{m}^{\\delta} =  -110592*3^(2/13)*2^(8/13)*(35*E^2*r^2*sin(th)^2 - 144)*E^2*(r - r_s)*sin(th)^2/((13*E^2*r^2*sin(th)^2 + 48)^(54/13)*r)  \\underset{E = 0}{\\longrightarrow}   0"
      ]
     },
     "metadata": {},
     "output_type": "display_data"
    }
   ],
   "source": [
    "Weyl_sc(K,L,Mb,MB,C)"
   ]
  },
  {
   "cell_type": "markdown",
   "id": "5dada764",
   "metadata": {},
   "source": [
    "### Type D in the case E=0"
   ]
  },
  {
   "cell_type": "markdown",
   "id": "f02a2421",
   "metadata": {},
   "source": [
    "## Kretschmann scalar"
   ]
  },
  {
   "cell_type": "code",
   "execution_count": 31,
   "id": "e2e6c33f",
   "metadata": {},
   "outputs": [
    {
     "data": {
      "text/html": [
       "<html><script type=\"math/tex; mode=display\">\\newcommand{\\Bold}[1]{\\mathbf{#1}}\\frac{42467328 \\, {\\left(25067520 \\cdot 3^{\\frac{4}{13}} 2^{\\frac{3}{13}} E^{4} r^{6} - 3 \\, {\\left(272272 \\cdot 3^{\\frac{4}{13}} 2^{\\frac{3}{13}} E^{8} r^{9} r_{s} - 470369 \\cdot 3^{\\frac{4}{13}} 2^{\\frac{3}{13}} E^{8} r^{8} r_{s}^{2}\\right)} \\sin\\left({\\theta}\\right)^{8} - 32 \\, {\\left(208854 \\cdot 3^{\\frac{4}{13}} 2^{\\frac{3}{13}} E^{6} r^{6} r_{s}^{2} + 7 \\, {\\left(7117 \\cdot 3^{\\frac{4}{13}} 2^{\\frac{3}{13}} E^{8} r^{9} - 10872 \\cdot 3^{\\frac{4}{13}} 2^{\\frac{3}{13}} E^{6} r^{7}\\right)} r_{s}\\right)} \\sin\\left({\\theta}\\right)^{6} + 31850496 \\cdot 3^{\\frac{4}{13}} 2^{\\frac{3}{13}} E^{2} r^{3} r_{s} + 64 \\, {\\left(16709 \\cdot 3^{\\frac{4}{13}} 2^{\\frac{3}{13}} E^{8} r^{10} + 325512 \\cdot 3^{\\frac{4}{13}} 2^{\\frac{3}{13}} E^{4} r^{4} r_{s}^{2} + 24 \\, {\\left(6559 \\cdot 3^{\\frac{4}{13}} 2^{\\frac{3}{13}} E^{6} r^{7} + 4680 \\cdot 3^{\\frac{4}{13}} 2^{\\frac{3}{13}} E^{4} r^{5}\\right)} r_{s}\\right)} \\sin\\left({\\theta}\\right)^{4} - 24576 \\, {\\left(238 \\cdot 3^{\\frac{4}{13}} 2^{\\frac{3}{13}} E^{6} r^{8} - 702 \\cdot 3^{\\frac{4}{13}} 2^{\\frac{3}{13}} E^{2} r^{2} r_{s}^{2} + 3 \\, {\\left(745 \\cdot 3^{\\frac{4}{13}} 2^{\\frac{3}{13}} E^{4} r^{5} + 648 \\cdot 3^{\\frac{4}{13}} 2^{\\frac{3}{13}} E^{2} r^{3}\\right)} r_{s}\\right)} \\sin\\left({\\theta}\\right)^{2} + 15925248 \\cdot 3^{\\frac{4}{13}} 2^{\\frac{3}{13}} r_{s}^{2}\\right)}}{{\\left(815730721 \\, E^{16} r^{22} \\sin\\left({\\theta}\\right)^{16} + 24095430528 \\, E^{14} r^{20} \\sin\\left({\\theta}\\right)^{14} + 311387102208 \\, E^{12} r^{18} \\sin\\left({\\theta}\\right)^{12} + 2299473985536 \\, E^{10} r^{16} \\sin\\left({\\theta}\\right)^{10} + 10612956856320 \\, E^{8} r^{14} \\sin\\left({\\theta}\\right)^{8} + 31349041790976 \\, E^{6} r^{12} \\sin\\left({\\theta}\\right)^{6} + 57875154075648 \\, E^{4} r^{10} \\sin\\left({\\theta}\\right)^{4} + 61055107596288 \\, E^{2} r^{8} \\sin\\left({\\theta}\\right)^{2} + 28179280429056 \\, r^{6}\\right)} {\\left(13 \\, E^{2} r^{2} \\sin\\left({\\theta}\\right)^{2} + 48\\right)}^{\\frac{4}{13}}}</script></html>"
      ],
      "text/latex": [
       "$$\\newcommand{\\Bold}[1]{\\mathbf{#1}}\\frac{42467328 \\, {\\left(25067520 \\cdot 3^{\\frac{4}{13}} 2^{\\frac{3}{13}} E^{4} r^{6} - 3 \\, {\\left(272272 \\cdot 3^{\\frac{4}{13}} 2^{\\frac{3}{13}} E^{8} r^{9} r_{s} - 470369 \\cdot 3^{\\frac{4}{13}} 2^{\\frac{3}{13}} E^{8} r^{8} r_{s}^{2}\\right)} \\sin\\left({\\theta}\\right)^{8} - 32 \\, {\\left(208854 \\cdot 3^{\\frac{4}{13}} 2^{\\frac{3}{13}} E^{6} r^{6} r_{s}^{2} + 7 \\, {\\left(7117 \\cdot 3^{\\frac{4}{13}} 2^{\\frac{3}{13}} E^{8} r^{9} - 10872 \\cdot 3^{\\frac{4}{13}} 2^{\\frac{3}{13}} E^{6} r^{7}\\right)} r_{s}\\right)} \\sin\\left({\\theta}\\right)^{6} + 31850496 \\cdot 3^{\\frac{4}{13}} 2^{\\frac{3}{13}} E^{2} r^{3} r_{s} + 64 \\, {\\left(16709 \\cdot 3^{\\frac{4}{13}} 2^{\\frac{3}{13}} E^{8} r^{10} + 325512 \\cdot 3^{\\frac{4}{13}} 2^{\\frac{3}{13}} E^{4} r^{4} r_{s}^{2} + 24 \\, {\\left(6559 \\cdot 3^{\\frac{4}{13}} 2^{\\frac{3}{13}} E^{6} r^{7} + 4680 \\cdot 3^{\\frac{4}{13}} 2^{\\frac{3}{13}} E^{4} r^{5}\\right)} r_{s}\\right)} \\sin\\left({\\theta}\\right)^{4} - 24576 \\, {\\left(238 \\cdot 3^{\\frac{4}{13}} 2^{\\frac{3}{13}} E^{6} r^{8} - 702 \\cdot 3^{\\frac{4}{13}} 2^{\\frac{3}{13}} E^{2} r^{2} r_{s}^{2} + 3 \\, {\\left(745 \\cdot 3^{\\frac{4}{13}} 2^{\\frac{3}{13}} E^{4} r^{5} + 648 \\cdot 3^{\\frac{4}{13}} 2^{\\frac{3}{13}} E^{2} r^{3}\\right)} r_{s}\\right)} \\sin\\left({\\theta}\\right)^{2} + 15925248 \\cdot 3^{\\frac{4}{13}} 2^{\\frac{3}{13}} r_{s}^{2}\\right)}}{{\\left(815730721 \\, E^{16} r^{22} \\sin\\left({\\theta}\\right)^{16} + 24095430528 \\, E^{14} r^{20} \\sin\\left({\\theta}\\right)^{14} + 311387102208 \\, E^{12} r^{18} \\sin\\left({\\theta}\\right)^{12} + 2299473985536 \\, E^{10} r^{16} \\sin\\left({\\theta}\\right)^{10} + 10612956856320 \\, E^{8} r^{14} \\sin\\left({\\theta}\\right)^{8} + 31349041790976 \\, E^{6} r^{12} \\sin\\left({\\theta}\\right)^{6} + 57875154075648 \\, E^{4} r^{10} \\sin\\left({\\theta}\\right)^{4} + 61055107596288 \\, E^{2} r^{8} \\sin\\left({\\theta}\\right)^{2} + 28179280429056 \\, r^{6}\\right)} {\\left(13 \\, E^{2} r^{2} \\sin\\left({\\theta}\\right)^{2} + 48\\right)}^{\\frac{4}{13}}}$$"
      ],
      "text/plain": [
       "42467328*(25067520*3^(4/13)*2^(3/13)*E^4*r^6 - 3*(272272*3^(4/13)*2^(3/13)*E^8*r^9*r_s - 470369*3^(4/13)*2^(3/13)*E^8*r^8*r_s^2)*sin(th)^8 - 32*(208854*3^(4/13)*2^(3/13)*E^6*r^6*r_s^2 + 7*(7117*3^(4/13)*2^(3/13)*E^8*r^9 - 10872*3^(4/13)*2^(3/13)*E^6*r^7)*r_s)*sin(th)^6 + 31850496*3^(4/13)*2^(3/13)*E^2*r^3*r_s + 64*(16709*3^(4/13)*2^(3/13)*E^8*r^10 + 325512*3^(4/13)*2^(3/13)*E^4*r^4*r_s^2 + 24*(6559*3^(4/13)*2^(3/13)*E^6*r^7 + 4680*3^(4/13)*2^(3/13)*E^4*r^5)*r_s)*sin(th)^4 - 24576*(238*3^(4/13)*2^(3/13)*E^6*r^8 - 702*3^(4/13)*2^(3/13)*E^2*r^2*r_s^2 + 3*(745*3^(4/13)*2^(3/13)*E^4*r^5 + 648*3^(4/13)*2^(3/13)*E^2*r^3)*r_s)*sin(th)^2 + 15925248*3^(4/13)*2^(3/13)*r_s^2)/((815730721*E^16*r^22*sin(th)^16 + 24095430528*E^14*r^20*sin(th)^14 + 311387102208*E^12*r^18*sin(th)^12 + 2299473985536*E^10*r^16*sin(th)^10 + 10612956856320*E^8*r^14*sin(th)^8 + 31349041790976*E^6*r^12*sin(th)^6 + 57875154075648*E^4*r^10*sin(th)^4 + 61055107596288*E^2*r^8*sin(th)^2 + 28179280429056*r^6)*(13*E^2*r^2*sin(th)^2 + 48)^(4/13))"
      ]
     },
     "execution_count": 31,
     "metadata": {},
     "output_type": "execute_result"
    }
   ],
   "source": [
    "Rie = g.riemann()\n",
    "Kr = Rie.down(g)['_{abcd}'] * Rie.up(g)['^{abcd}']\n",
    "Kr.expr()"
   ]
  },
  {
   "cell_type": "code",
   "execution_count": 32,
   "id": "d2f1abec",
   "metadata": {},
   "outputs": [
    {
     "data": {
      "text/html": [
       "<html><script type=\"math/tex; mode=display\">\\newcommand{\\Bold}[1]{\\mathbf{#1}}\\frac{12 \\, r_{s}^{2}}{r^{6}}</script></html>"
      ],
      "text/latex": [
       "$$\\newcommand{\\Bold}[1]{\\mathbf{#1}}\\frac{12 \\, r_{s}^{2}}{r^{6}}$$"
      ],
      "text/plain": [
       "12*r_s^2/r^6"
      ]
     },
     "execution_count": 32,
     "metadata": {},
     "output_type": "execute_result"
    }
   ],
   "source": [
    "Kr.expr().subs(E=0).canonicalize_radical().factor()"
   ]
  },
  {
   "cell_type": "code",
   "execution_count": 33,
   "id": "521336ac",
   "metadata": {},
   "outputs": [
    {
     "data": {
      "text/html": [
       "<html><script type=\"math/tex; mode=display\">\\newcommand{\\Bold}[1]{\\mathbf{#1}}676302730297344 \\cdot 3^{\\frac{4}{13}} 2^{\\frac{3}{13}} r_{s}^{2}</script></html>"
      ],
      "text/latex": [
       "$$\\newcommand{\\Bold}[1]{\\mathbf{#1}}676302730297344 \\cdot 3^{\\frac{4}{13}} 2^{\\frac{3}{13}} r_{s}^{2}$$"
      ],
      "text/plain": [
       "676302730297344*3^(4/13)*2^(3/13)*r_s^2"
      ]
     },
     "execution_count": 33,
     "metadata": {},
     "output_type": "execute_result"
    }
   ],
   "source": [
    "Kr.expr().numerator().taylor(r, 0, 1).canonicalize_radical().factor()"
   ]
  },
  {
   "cell_type": "code",
   "execution_count": 34,
   "id": "f671da36",
   "metadata": {},
   "outputs": [
    {
     "data": {
      "text/html": [
       "<html><script type=\"math/tex; mode=display\">\\newcommand{\\Bold}[1]{\\mathbf{#1}}0</script></html>"
      ],
      "text/latex": [
       "$$\\newcommand{\\Bold}[1]{\\mathbf{#1}}0$$"
      ],
      "text/plain": [
       "0"
      ]
     },
     "execution_count": 34,
     "metadata": {},
     "output_type": "execute_result"
    }
   ],
   "source": [
    "Kr.expr().denominator().taylor(r, 0, 1).canonicalize_radical().factor()"
   ]
  },
  {
   "cell_type": "markdown",
   "id": "9704819a",
   "metadata": {},
   "source": [
    "### The Kretschmann scalar diverges at $r=0$ for all $\\theta$."
   ]
  }
 ],
 "metadata": {
  "kernelspec": {
   "display_name": "SageMath 9.5",
   "language": "sage",
   "name": "sagemath"
  },
  "language_info": {
   "codemirror_mode": {
    "name": "ipython",
    "version": 3
   },
   "file_extension": ".py",
   "mimetype": "text/x-python",
   "name": "python",
   "nbconvert_exporter": "python",
   "pygments_lexer": "ipython3",
   "version": "3.10.12"
  }
 },
 "nbformat": 4,
 "nbformat_minor": 5
}
